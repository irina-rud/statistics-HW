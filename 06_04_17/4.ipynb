{
 "cells": [
  {
   "cell_type": "code",
   "execution_count": 1,
   "metadata": {
    "collapsed": true
   },
   "outputs": [],
   "source": [
    "import numpy as np\n",
    "import matplotlib.pyplot as plt\n",
    "import scipy.stats as sps\n",
    "import pandas as pd\n",
    "from statsmodels.sandbox.stats.multicomp import multipletests\n",
    "\n",
    "\n",
    "%matplotlib inline\n",
    "\n"
   ]
  },
  {
   "cell_type": "code",
   "execution_count": 2,
   "metadata": {
    "collapsed": false
   },
   "outputs": [
    {
     "data": {
      "text/html": [
       "<div>\n",
       "<table border=\"1\" class=\"dataframe\">\n",
       "  <thead>\n",
       "    <tr style=\"text-align: right;\">\n",
       "      <th></th>\n",
       "      <th>0</th>\n",
       "      <th>1</th>\n",
       "      <th>2</th>\n",
       "      <th>3</th>\n",
       "      <th>4</th>\n",
       "      <th>5</th>\n",
       "      <th>6</th>\n",
       "      <th>7</th>\n",
       "      <th>8</th>\n",
       "      <th>9</th>\n",
       "    </tr>\n",
       "  </thead>\n",
       "  <tbody>\n",
       "    <tr>\n",
       "      <th>0</th>\n",
       "      <td>350.679</td>\n",
       "      <td>365.072</td>\n",
       "      <td>369.438</td>\n",
       "      <td>341.794</td>\n",
       "      <td>370.960</td>\n",
       "      <td>348.542</td>\n",
       "      <td>354.961</td>\n",
       "      <td>352.684</td>\n",
       "      <td>356.232</td>\n",
       "      <td>346.113</td>\n",
       "    </tr>\n",
       "    <tr>\n",
       "      <th>1</th>\n",
       "      <td>349.056</td>\n",
       "      <td>366.898</td>\n",
       "      <td>371.662</td>\n",
       "      <td>344.392</td>\n",
       "      <td>371.601</td>\n",
       "      <td>347.953</td>\n",
       "      <td>355.961</td>\n",
       "      <td>354.277</td>\n",
       "      <td>355.804</td>\n",
       "      <td>344.766</td>\n",
       "    </tr>\n",
       "    <tr>\n",
       "      <th>2</th>\n",
       "      <td>351.519</td>\n",
       "      <td>367.114</td>\n",
       "      <td>371.047</td>\n",
       "      <td>344.434</td>\n",
       "      <td>372.191</td>\n",
       "      <td>351.316</td>\n",
       "      <td>355.416</td>\n",
       "      <td>352.506</td>\n",
       "      <td>357.331</td>\n",
       "      <td>345.261</td>\n",
       "    </tr>\n",
       "    <tr>\n",
       "      <th>3</th>\n",
       "      <td>350.140</td>\n",
       "      <td>366.307</td>\n",
       "      <td>370.995</td>\n",
       "      <td>344.264</td>\n",
       "      <td>371.204</td>\n",
       "      <td>351.015</td>\n",
       "      <td>357.414</td>\n",
       "      <td>352.651</td>\n",
       "      <td>356.881</td>\n",
       "      <td>346.014</td>\n",
       "    </tr>\n",
       "    <tr>\n",
       "      <th>4</th>\n",
       "      <td>352.484</td>\n",
       "      <td>367.037</td>\n",
       "      <td>370.171</td>\n",
       "      <td>343.372</td>\n",
       "      <td>370.292</td>\n",
       "      <td>350.836</td>\n",
       "      <td>355.497</td>\n",
       "      <td>352.758</td>\n",
       "      <td>355.163</td>\n",
       "      <td>343.838</td>\n",
       "    </tr>\n",
       "    <tr>\n",
       "      <th>5</th>\n",
       "      <td>348.116</td>\n",
       "      <td>366.893</td>\n",
       "      <td>370.529</td>\n",
       "      <td>342.394</td>\n",
       "      <td>370.388</td>\n",
       "      <td>348.641</td>\n",
       "      <td>352.330</td>\n",
       "      <td>352.329</td>\n",
       "      <td>354.097</td>\n",
       "      <td>344.098</td>\n",
       "    </tr>\n",
       "    <tr>\n",
       "      <th>6</th>\n",
       "      <td>352.257</td>\n",
       "      <td>365.078</td>\n",
       "      <td>370.915</td>\n",
       "      <td>343.558</td>\n",
       "      <td>371.975</td>\n",
       "      <td>349.513</td>\n",
       "      <td>356.010</td>\n",
       "      <td>351.969</td>\n",
       "      <td>356.427</td>\n",
       "      <td>345.943</td>\n",
       "    </tr>\n",
       "    <tr>\n",
       "      <th>7</th>\n",
       "      <td>350.030</td>\n",
       "      <td>365.458</td>\n",
       "      <td>368.594</td>\n",
       "      <td>342.754</td>\n",
       "      <td>375.320</td>\n",
       "      <td>347.830</td>\n",
       "      <td>355.199</td>\n",
       "      <td>352.579</td>\n",
       "      <td>356.520</td>\n",
       "      <td>345.614</td>\n",
       "    </tr>\n",
       "    <tr>\n",
       "      <th>8</th>\n",
       "      <td>350.367</td>\n",
       "      <td>366.951</td>\n",
       "      <td>371.182</td>\n",
       "      <td>343.720</td>\n",
       "      <td>371.201</td>\n",
       "      <td>350.269</td>\n",
       "      <td>356.227</td>\n",
       "      <td>352.045</td>\n",
       "      <td>357.075</td>\n",
       "      <td>345.023</td>\n",
       "    </tr>\n",
       "    <tr>\n",
       "      <th>9</th>\n",
       "      <td>349.746</td>\n",
       "      <td>368.216</td>\n",
       "      <td>370.529</td>\n",
       "      <td>344.384</td>\n",
       "      <td>371.705</td>\n",
       "      <td>350.829</td>\n",
       "      <td>355.869</td>\n",
       "      <td>352.008</td>\n",
       "      <td>356.787</td>\n",
       "      <td>347.020</td>\n",
       "    </tr>\n",
       "  </tbody>\n",
       "</table>\n",
       "</div>"
      ],
      "text/plain": [
       "         0        1        2        3        4        5        6        7  \\\n",
       "0  350.679  365.072  369.438  341.794  370.960  348.542  354.961  352.684   \n",
       "1  349.056  366.898  371.662  344.392  371.601  347.953  355.961  354.277   \n",
       "2  351.519  367.114  371.047  344.434  372.191  351.316  355.416  352.506   \n",
       "3  350.140  366.307  370.995  344.264  371.204  351.015  357.414  352.651   \n",
       "4  352.484  367.037  370.171  343.372  370.292  350.836  355.497  352.758   \n",
       "5  348.116  366.893  370.529  342.394  370.388  348.641  352.330  352.329   \n",
       "6  352.257  365.078  370.915  343.558  371.975  349.513  356.010  351.969   \n",
       "7  350.030  365.458  368.594  342.754  375.320  347.830  355.199  352.579   \n",
       "8  350.367  366.951  371.182  343.720  371.201  350.269  356.227  352.045   \n",
       "9  349.746  368.216  370.529  344.384  371.705  350.829  355.869  352.008   \n",
       "\n",
       "         8        9  \n",
       "0  356.232  346.113  \n",
       "1  355.804  344.766  \n",
       "2  357.331  345.261  \n",
       "3  356.881  346.014  \n",
       "4  355.163  343.838  \n",
       "5  354.097  344.098  \n",
       "6  356.427  345.943  \n",
       "7  356.520  345.614  \n",
       "8  357.075  345.023  \n",
       "9  356.787  347.020  "
      ]
     },
     "execution_count": 2,
     "metadata": {},
     "output_type": "execute_result"
    }
   ],
   "source": [
    "data = pd.read_csv('hw7t4v1.txt', header = None, sep='\\s+')\n",
    "data\n",
    "\n"
   ]
  },
  {
   "cell_type": "code",
   "execution_count": 6,
   "metadata": {
    "collapsed": false
   },
   "outputs": [],
   "source": [
    "samples = []\n",
    "for i in range(10):\n",
    "    sample = []\n",
    "    for j in range(1,10):\n",
    "        elem = data.values[i][j]\n",
    "        if (elem is not None) and (str(elem) != 'nan'):\n",
    "            sample.append(elem)\n",
    "    samples.append(np.array(sample))\n",
    "    \n",
    "    "
   ]
  },
  {
   "cell_type": "code",
   "execution_count": 7,
   "metadata": {
    "collapsed": false
   },
   "outputs": [
    {
     "name": "stdout",
     "output_type": "stream",
     "text": [
      "[ 365.072  369.438  341.794  370.96   348.542  354.961  352.684  356.232\n",
      "  346.113]\n",
      "[ 366.898  371.662  344.392  371.601  347.953  355.961  354.277  355.804\n",
      "  344.766]\n",
      "[ 367.114  371.047  344.434  372.191  351.316  355.416  352.506  357.331\n",
      "  345.261]\n",
      "[ 366.307  370.995  344.264  371.204  351.015  357.414  352.651  356.881\n",
      "  346.014]\n",
      "[ 367.037  370.171  343.372  370.292  350.836  355.497  352.758  355.163\n",
      "  343.838]\n",
      "[ 366.893  370.529  342.394  370.388  348.641  352.33   352.329  354.097\n",
      "  344.098]\n",
      "[ 365.078  370.915  343.558  371.975  349.513  356.01   351.969  356.427\n",
      "  345.943]\n",
      "[ 365.458  368.594  342.754  375.32   347.83   355.199  352.579  356.52\n",
      "  345.614]\n",
      "[ 366.951  371.182  343.72   371.201  350.269  356.227  352.045  357.075\n",
      "  345.023]\n",
      "[ 368.216  370.529  344.384  371.705  350.829  355.869  352.008  356.787\n",
      "  347.02 ]\n"
     ]
    }
   ],
   "source": [
    "for i in range(10):\n",
    "    print (samples[i])\n",
    "    \n",
    "    "
   ]
  },
  {
   "cell_type": "code",
   "execution_count": 8,
   "metadata": {
    "collapsed": false
   },
   "outputs": [],
   "source": [
    "def normality(samples):\n",
    "    p_val = np.zeros(len(samples))\n",
    "    for i in range(len(samples)):\n",
    "        p_val[i] = sps.shapiro(samples[i])[1]\n",
    "    return multipletests(p_val, alpha=0.05)\n",
    "    \n",
    "    \n",
    "    "
   ]
  },
  {
   "cell_type": "code",
   "execution_count": 9,
   "metadata": {
    "collapsed": false
   },
   "outputs": [
    {
     "data": {
      "text/plain": [
       "(array([False, False, False, False, False, False, False, False, False, False], dtype=bool),\n",
       " array([ 0.87763166,  0.8435814 ,  0.87763166,  0.87763166,  0.84943005,\n",
       "         0.81586869,  0.87763166,  0.87763166,  0.87763166,  0.87448077]),\n",
       " 0.0051161968918237433,\n",
       " 0.005)"
      ]
     },
     "execution_count": 9,
     "metadata": {},
     "output_type": "execute_result"
    }
   ],
   "source": [
    "normality(samples)\n",
    "\n"
   ]
  },
  {
   "cell_type": "code",
   "execution_count": 10,
   "metadata": {
    "collapsed": false
   },
   "outputs": [
    {
     "data": {
      "text/plain": [
       "FriedmanchisquareResult(statistic=23.530997304582197, pvalue=0.0051077438935021304)"
      ]
     },
     "execution_count": 10,
     "metadata": {},
     "output_type": "execute_result"
    }
   ],
   "source": [
    "sps.friedmanchisquare(*samples)\n"
   ]
  },
  {
   "cell_type": "markdown",
   "metadata": {},
   "source": [
    "гипотеза $H_0: \\beta_0 = \\beta_1 = ... = \\beta_9$ не отвергается"
   ]
  },
  {
   "cell_type": "markdown",
   "metadata": {},
   "source": [
    "Так как нормальность наших выборок не отвергается, проверим отсутствие влияния факторов критерием Фишера"
   ]
  },
  {
   "cell_type": "code",
   "execution_count": 53,
   "metadata": {
    "collapsed": false
   },
   "outputs": [],
   "source": [
    "def fisher(samples):\n",
    "    res = len(samples) * (len(samples) - 1)\n",
    "    res *= np.sum(samples.mean(axis=0) - np.mean(samples))\n",
    "    s_1 = (samples - np.mean(samples))\n",
    "    div = np.sum(s_1*s_1)\n",
    "    div -= np.sum((samples.mean(axis=1)- np.mean(samples))**2) * len(samples[0])\n",
    "    return res / div\n",
    "\n"
   ]
  },
  {
   "cell_type": "code",
   "execution_count": 54,
   "metadata": {
    "collapsed": false
   },
   "outputs": [
    {
     "data": {
      "text/plain": [
       "-1.656009164475756e-15"
      ]
     },
     "execution_count": 54,
     "metadata": {},
     "output_type": "execute_result"
    }
   ],
   "source": [
    "fisher(data.values)\n",
    "\n",
    "\n"
   ]
  },
  {
   "cell_type": "code",
   "execution_count": 55,
   "metadata": {
    "collapsed": false
   },
   "outputs": [
    {
     "name": "stdout",
     "output_type": "stream",
     "text": [
      "Statistics is: -0.000000, p_value: 0.000000, result is: False\n"
     ]
    }
   ],
   "source": [
    "st = fisher(data.values)\n",
    "\n",
    "p_value = sps.f.cdf(st, 9, 81)\n",
    "\n",
    "print('Statistics is: %f, p_value: %f, result is: %s' %(st, p_value, str(p_value >= 0.05)))\n",
    "\n"
   ]
  },
  {
   "cell_type": "markdown",
   "metadata": {},
   "source": [
    "Критерий Фишера отверг $H_0$"
   ]
  }
 ],
 "metadata": {
  "kernelspec": {
   "display_name": "Python 3",
   "language": "python",
   "name": "python3"
  },
  "language_info": {
   "codemirror_mode": {
    "name": "ipython",
    "version": 3
   },
   "file_extension": ".py",
   "mimetype": "text/x-python",
   "name": "python",
   "nbconvert_exporter": "python",
   "pygments_lexer": "ipython3",
   "version": "3.4.3"
  }
 },
 "nbformat": 4,
 "nbformat_minor": 2
}
