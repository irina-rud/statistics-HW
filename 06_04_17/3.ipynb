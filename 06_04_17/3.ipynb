{
 "cells": [
  {
   "cell_type": "code",
   "execution_count": 24,
   "metadata": {
    "collapsed": true
   },
   "outputs": [],
   "source": [
    "import numpy as np\n",
    "import matplotlib.pyplot as plt\n",
    "import scipy.stats as sps\n",
    "import pandas as pd\n",
    "from statsmodels.sandbox.stats.multicomp import multipletests\n",
    "\n",
    "\n",
    "%matplotlib inline\n",
    "\n"
   ]
  },
  {
   "cell_type": "code",
   "execution_count": 3,
   "metadata": {
    "collapsed": false
   },
   "outputs": [
    {
     "data": {
      "text/html": [
       "<div>\n",
       "<table border=\"1\" class=\"dataframe\">\n",
       "  <thead>\n",
       "    <tr style=\"text-align: right;\">\n",
       "      <th></th>\n",
       "      <th>0</th>\n",
       "      <th>1</th>\n",
       "      <th>2</th>\n",
       "      <th>3</th>\n",
       "      <th>4</th>\n",
       "      <th>5</th>\n",
       "      <th>6</th>\n",
       "      <th>7</th>\n",
       "      <th>8</th>\n",
       "      <th>9</th>\n",
       "      <th>10</th>\n",
       "      <th>11</th>\n",
       "      <th>12</th>\n",
       "      <th>13</th>\n",
       "      <th>14</th>\n",
       "      <th>15</th>\n",
       "    </tr>\n",
       "  </thead>\n",
       "  <tbody>\n",
       "    <tr>\n",
       "      <th>0</th>\n",
       "      <td>sample0</td>\n",
       "      <td>2.754</td>\n",
       "      <td>2.040</td>\n",
       "      <td>0.759</td>\n",
       "      <td>-0.974</td>\n",
       "      <td>0.040</td>\n",
       "      <td>0.334</td>\n",
       "      <td>-0.205</td>\n",
       "      <td>0.904</td>\n",
       "      <td>0.708</td>\n",
       "      <td>-0.159</td>\n",
       "      <td>0.586</td>\n",
       "      <td>0.960</td>\n",
       "      <td>1.758</td>\n",
       "      <td>-0.241</td>\n",
       "      <td>0.779</td>\n",
       "    </tr>\n",
       "    <tr>\n",
       "      <th>1</th>\n",
       "      <td>sample1</td>\n",
       "      <td>0.506</td>\n",
       "      <td>0.424</td>\n",
       "      <td>2.434</td>\n",
       "      <td>0.554</td>\n",
       "      <td>3.560</td>\n",
       "      <td>0.092</td>\n",
       "      <td>1.214</td>\n",
       "      <td>-0.483</td>\n",
       "      <td>NaN</td>\n",
       "      <td>NaN</td>\n",
       "      <td>NaN</td>\n",
       "      <td>NaN</td>\n",
       "      <td>NaN</td>\n",
       "      <td>NaN</td>\n",
       "      <td>NaN</td>\n",
       "    </tr>\n",
       "    <tr>\n",
       "      <th>2</th>\n",
       "      <td>sample2</td>\n",
       "      <td>-0.102</td>\n",
       "      <td>0.609</td>\n",
       "      <td>-0.209</td>\n",
       "      <td>-0.777</td>\n",
       "      <td>-0.356</td>\n",
       "      <td>0.954</td>\n",
       "      <td>-0.590</td>\n",
       "      <td>0.426</td>\n",
       "      <td>-0.934</td>\n",
       "      <td>-0.204</td>\n",
       "      <td>NaN</td>\n",
       "      <td>NaN</td>\n",
       "      <td>NaN</td>\n",
       "      <td>NaN</td>\n",
       "      <td>NaN</td>\n",
       "    </tr>\n",
       "    <tr>\n",
       "      <th>3</th>\n",
       "      <td>sample3</td>\n",
       "      <td>-3.638</td>\n",
       "      <td>0.263</td>\n",
       "      <td>-0.336</td>\n",
       "      <td>0.445</td>\n",
       "      <td>-1.346</td>\n",
       "      <td>1.100</td>\n",
       "      <td>-0.659</td>\n",
       "      <td>1.462</td>\n",
       "      <td>0.659</td>\n",
       "      <td>NaN</td>\n",
       "      <td>NaN</td>\n",
       "      <td>NaN</td>\n",
       "      <td>NaN</td>\n",
       "      <td>NaN</td>\n",
       "      <td>NaN</td>\n",
       "    </tr>\n",
       "    <tr>\n",
       "      <th>4</th>\n",
       "      <td>sample4</td>\n",
       "      <td>1.379</td>\n",
       "      <td>-0.400</td>\n",
       "      <td>-3.323</td>\n",
       "      <td>-1.824</td>\n",
       "      <td>0.192</td>\n",
       "      <td>-1.063</td>\n",
       "      <td>-0.602</td>\n",
       "      <td>-0.009</td>\n",
       "      <td>NaN</td>\n",
       "      <td>NaN</td>\n",
       "      <td>NaN</td>\n",
       "      <td>NaN</td>\n",
       "      <td>NaN</td>\n",
       "      <td>NaN</td>\n",
       "      <td>NaN</td>\n",
       "    </tr>\n",
       "    <tr>\n",
       "      <th>5</th>\n",
       "      <td>sample5</td>\n",
       "      <td>-0.638</td>\n",
       "      <td>0.296</td>\n",
       "      <td>-2.296</td>\n",
       "      <td>-1.521</td>\n",
       "      <td>0.354</td>\n",
       "      <td>0.030</td>\n",
       "      <td>-1.219</td>\n",
       "      <td>-1.408</td>\n",
       "      <td>1.248</td>\n",
       "      <td>-0.579</td>\n",
       "      <td>0.516</td>\n",
       "      <td>1.858</td>\n",
       "      <td>NaN</td>\n",
       "      <td>NaN</td>\n",
       "      <td>NaN</td>\n",
       "    </tr>\n",
       "    <tr>\n",
       "      <th>6</th>\n",
       "      <td>sample6</td>\n",
       "      <td>-0.535</td>\n",
       "      <td>0.166</td>\n",
       "      <td>0.459</td>\n",
       "      <td>0.205</td>\n",
       "      <td>-0.482</td>\n",
       "      <td>-0.546</td>\n",
       "      <td>0.632</td>\n",
       "      <td>1.664</td>\n",
       "      <td>0.343</td>\n",
       "      <td>-0.191</td>\n",
       "      <td>-0.589</td>\n",
       "      <td>-0.299</td>\n",
       "      <td>NaN</td>\n",
       "      <td>NaN</td>\n",
       "      <td>NaN</td>\n",
       "    </tr>\n",
       "    <tr>\n",
       "      <th>7</th>\n",
       "      <td>sample7</td>\n",
       "      <td>1.326</td>\n",
       "      <td>1.035</td>\n",
       "      <td>1.082</td>\n",
       "      <td>-0.041</td>\n",
       "      <td>-1.384</td>\n",
       "      <td>0.019</td>\n",
       "      <td>-0.688</td>\n",
       "      <td>1.836</td>\n",
       "      <td>NaN</td>\n",
       "      <td>NaN</td>\n",
       "      <td>NaN</td>\n",
       "      <td>NaN</td>\n",
       "      <td>NaN</td>\n",
       "      <td>NaN</td>\n",
       "      <td>NaN</td>\n",
       "    </tr>\n",
       "    <tr>\n",
       "      <th>8</th>\n",
       "      <td>sample8</td>\n",
       "      <td>0.028</td>\n",
       "      <td>-0.954</td>\n",
       "      <td>0.229</td>\n",
       "      <td>-0.676</td>\n",
       "      <td>-0.604</td>\n",
       "      <td>-0.722</td>\n",
       "      <td>-3.432</td>\n",
       "      <td>0.114</td>\n",
       "      <td>0.676</td>\n",
       "      <td>-0.993</td>\n",
       "      <td>-0.119</td>\n",
       "      <td>0.003</td>\n",
       "      <td>NaN</td>\n",
       "      <td>NaN</td>\n",
       "      <td>NaN</td>\n",
       "    </tr>\n",
       "    <tr>\n",
       "      <th>9</th>\n",
       "      <td>sample9</td>\n",
       "      <td>0.965</td>\n",
       "      <td>0.690</td>\n",
       "      <td>0.823</td>\n",
       "      <td>0.605</td>\n",
       "      <td>-0.225</td>\n",
       "      <td>2.806</td>\n",
       "      <td>1.212</td>\n",
       "      <td>0.663</td>\n",
       "      <td>-1.813</td>\n",
       "      <td>0.967</td>\n",
       "      <td>-1.688</td>\n",
       "      <td>-0.276</td>\n",
       "      <td>-0.782</td>\n",
       "      <td>0.009</td>\n",
       "      <td>NaN</td>\n",
       "    </tr>\n",
       "  </tbody>\n",
       "</table>\n",
       "</div>"
      ],
      "text/plain": [
       "        0      1      2      3      4      5      6      7      8      9   \\\n",
       "0  sample0  2.754  2.040  0.759 -0.974  0.040  0.334 -0.205  0.904  0.708   \n",
       "1  sample1  0.506  0.424  2.434  0.554  3.560  0.092  1.214 -0.483    NaN   \n",
       "2  sample2 -0.102  0.609 -0.209 -0.777 -0.356  0.954 -0.590  0.426 -0.934   \n",
       "3  sample3 -3.638  0.263 -0.336  0.445 -1.346  1.100 -0.659  1.462  0.659   \n",
       "4  sample4  1.379 -0.400 -3.323 -1.824  0.192 -1.063 -0.602 -0.009    NaN   \n",
       "5  sample5 -0.638  0.296 -2.296 -1.521  0.354  0.030 -1.219 -1.408  1.248   \n",
       "6  sample6 -0.535  0.166  0.459  0.205 -0.482 -0.546  0.632  1.664  0.343   \n",
       "7  sample7  1.326  1.035  1.082 -0.041 -1.384  0.019 -0.688  1.836    NaN   \n",
       "8  sample8  0.028 -0.954  0.229 -0.676 -0.604 -0.722 -3.432  0.114  0.676   \n",
       "9  sample9  0.965  0.690  0.823  0.605 -0.225  2.806  1.212  0.663 -1.813   \n",
       "\n",
       "      10     11     12     13     14     15  \n",
       "0 -0.159  0.586  0.960  1.758 -0.241  0.779  \n",
       "1    NaN    NaN    NaN    NaN    NaN    NaN  \n",
       "2 -0.204    NaN    NaN    NaN    NaN    NaN  \n",
       "3    NaN    NaN    NaN    NaN    NaN    NaN  \n",
       "4    NaN    NaN    NaN    NaN    NaN    NaN  \n",
       "5 -0.579  0.516  1.858    NaN    NaN    NaN  \n",
       "6 -0.191 -0.589 -0.299    NaN    NaN    NaN  \n",
       "7    NaN    NaN    NaN    NaN    NaN    NaN  \n",
       "8 -0.993 -0.119  0.003    NaN    NaN    NaN  \n",
       "9  0.967 -1.688 -0.276 -0.782  0.009    NaN  "
      ]
     },
     "execution_count": 3,
     "metadata": {},
     "output_type": "execute_result"
    }
   ],
   "source": [
    "data = pd.read_csv('hw7t3v1.txt', header = None, sep='\\s+')\n",
    "data\n",
    "\n"
   ]
  },
  {
   "cell_type": "code",
   "execution_count": 36,
   "metadata": {
    "collapsed": false
   },
   "outputs": [],
   "source": [
    "N = 0\n",
    "samples = []\n",
    "for i in range(10):\n",
    "    sample = []\n",
    "    for j in range(1,16):\n",
    "        elem = data.values[i][j]\n",
    "        if (elem is not None) and (str(elem) != 'nan'):\n",
    "            sample.append(elem)\n",
    "            ++N\n",
    "    samples.append(np.array(sample))\n",
    "    \n",
    "    "
   ]
  },
  {
   "cell_type": "code",
   "execution_count": 23,
   "metadata": {
    "collapsed": false
   },
   "outputs": [
    {
     "name": "stdout",
     "output_type": "stream",
     "text": [
      "[ 2.754  2.04   0.759 -0.974  0.04   0.334 -0.205  0.904  0.708 -0.159\n",
      "  0.586  0.96   1.758 -0.241  0.779]\n",
      "[ 0.506  0.424  2.434  0.554  3.56   0.092  1.214 -0.483]\n",
      "[-0.102  0.609 -0.209 -0.777 -0.356  0.954 -0.59   0.426 -0.934 -0.204]\n",
      "[-3.638  0.263 -0.336  0.445 -1.346  1.1   -0.659  1.462  0.659]\n",
      "[ 1.379 -0.4   -3.323 -1.824  0.192 -1.063 -0.602 -0.009]\n",
      "[-0.638  0.296 -2.296 -1.521  0.354  0.03  -1.219 -1.408  1.248 -0.579\n",
      "  0.516  1.858]\n",
      "[-0.535  0.166  0.459  0.205 -0.482 -0.546  0.632  1.664  0.343 -0.191\n",
      " -0.589 -0.299]\n",
      "[ 1.326  1.035  1.082 -0.041 -1.384  0.019 -0.688  1.836]\n",
      "[  2.80000000e-02  -9.54000000e-01   2.29000000e-01  -6.76000000e-01\n",
      "  -6.04000000e-01  -7.22000000e-01  -3.43200000e+00   1.14000000e-01\n",
      "   6.76000000e-01  -9.93000000e-01  -1.19000000e-01   3.00000000e-03]\n",
      "[ 0.965  0.69   0.823  0.605 -0.225  2.806  1.212  0.663 -1.813  0.967\n",
      " -1.688 -0.276 -0.782  0.009]\n"
     ]
    }
   ],
   "source": [
    "for i in range(10):\n",
    "    print (samples[i])\n",
    "    \n",
    "    "
   ]
  },
  {
   "cell_type": "code",
   "execution_count": 29,
   "metadata": {
    "collapsed": true
   },
   "outputs": [],
   "source": [
    "def normality(samples):\n",
    "    p_val = np.zeros(len(samples))\n",
    "    for i in range(len(samples)):\n",
    "        p_val[i] = sps.shapiro(samples[i])[1]\n",
    "    return multipletests(p_val, alpha=0.05)\n",
    "    \n",
    "    \n",
    "    "
   ]
  },
  {
   "cell_type": "code",
   "execution_count": 30,
   "metadata": {
    "collapsed": false
   },
   "outputs": [
    {
     "data": {
      "text/plain": [
       "(array([False, False, False, False, False, False, False, False, False, False], dtype=bool),\n",
       " array([ 0.99489923,  0.84643734,  0.99489923,  0.83032883,  0.99489923,\n",
       "         0.99489923,  0.48617296,  0.99489923,  0.08167792,  0.97083459]),\n",
       " 0.0051161968918237433,\n",
       " 0.005)"
      ]
     },
     "execution_count": 30,
     "metadata": {},
     "output_type": "execute_result"
    }
   ],
   "source": [
    "normality(samples)\n",
    "\n"
   ]
  },
  {
   "cell_type": "markdown",
   "metadata": {},
   "source": [
    "Нормальность выборок не отвергается"
   ]
  },
  {
   "cell_type": "code",
   "execution_count": 33,
   "metadata": {
    "collapsed": true
   },
   "outputs": [],
   "source": [
    "def variance_test(samples):\n",
    "    return sps.levene(*samples)\n",
    "\n"
   ]
  },
  {
   "cell_type": "code",
   "execution_count": 34,
   "metadata": {
    "collapsed": false
   },
   "outputs": [
    {
     "data": {
      "text/plain": [
       "LeveneResult(statistic=0.80438359574895302, pvalue=0.61316086453348229)"
      ]
     },
     "execution_count": 34,
     "metadata": {},
     "output_type": "execute_result"
    }
   ],
   "source": [
    "variance_test(samples)\n",
    "\n"
   ]
  },
  {
   "cell_type": "markdown",
   "metadata": {},
   "source": [
    "Гипотеза $H'$ не отвергается"
   ]
  },
  {
   "cell_type": "code",
   "execution_count": 38,
   "metadata": {
    "collapsed": false
   },
   "outputs": [
    {
     "data": {
      "text/plain": [
       "F_onewayResult(statistic=2.3297365017058489, pvalue=0.020115921363988196)"
      ]
     },
     "execution_count": 38,
     "metadata": {},
     "output_type": "execute_result"
    }
   ],
   "source": [
    "sps.f_oneway(*samples)\n",
    "\n"
   ]
  },
  {
   "cell_type": "markdown",
   "metadata": {},
   "source": [
    "Условия выполнены, но гипотеза  $H'':\\mu_0 =\\mu_1= ...=\\mu_9$ при уровне доверия 0.05 отвергается"
   ]
  }
 ],
 "metadata": {
  "kernelspec": {
   "display_name": "Python 3",
   "language": "python",
   "name": "python3"
  },
  "language_info": {
   "codemirror_mode": {
    "name": "ipython",
    "version": 3
   },
   "file_extension": ".py",
   "mimetype": "text/x-python",
   "name": "python",
   "nbconvert_exporter": "python",
   "pygments_lexer": "ipython3",
   "version": "3.4.3"
  }
 },
 "nbformat": 4,
 "nbformat_minor": 2
}
