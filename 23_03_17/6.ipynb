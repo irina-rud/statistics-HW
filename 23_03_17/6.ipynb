{
 "cells": [
  {
   "cell_type": "code",
   "execution_count": 2,
   "metadata": {
    "collapsed": false,
    "deletable": true,
    "editable": true
   },
   "outputs": [
    {
     "name": "stderr",
     "output_type": "stream",
     "text": [
      "/home/riv/.local/lib/python3.5/site-packages/sklearn/cross_validation.py:44: DeprecationWarning: This module was deprecated in version 0.18 in favor of the model_selection module into which all the refactored classes and functions are moved. Also note that the interface of the new CV iterators are different from that of this module. This module will be removed in 0.20.\n",
      "  \"This module will be removed in 0.20.\", DeprecationWarning)\n"
     ]
    }
   ],
   "source": [
    "import numpy as np\n",
    "import matplotlib.pyplot as plt\n",
    "import scipy.stats as sps\n",
    "import pandas as pd\n",
    "from statsmodels.sandbox.stats.multicomp import multipletests\n",
    "from sklearn.cross_validation import train_test_split\n",
    "\n",
    "\n",
    "\n",
    "%matplotlib inline\n",
    "\n"
   ]
  },
  {
   "cell_type": "code",
   "execution_count": 3,
   "metadata": {
    "collapsed": false,
    "deletable": true,
    "editable": true
   },
   "outputs": [
    {
     "data": {
      "text/html": [
       "<div>\n",
       "<table border=\"1\" class=\"dataframe\">\n",
       "  <thead>\n",
       "    <tr style=\"text-align: right;\">\n",
       "      <th></th>\n",
       "      <th>No</th>\n",
       "      <th>Cement</th>\n",
       "      <th>Slag</th>\n",
       "      <th>Fly ash</th>\n",
       "      <th>Water</th>\n",
       "      <th>SP</th>\n",
       "      <th>Coarse Aggr.</th>\n",
       "      <th>Fine Aggr.</th>\n",
       "      <th>SLUMP(cm)</th>\n",
       "      <th>FLOW(cm)</th>\n",
       "      <th>Compressive Strength (28-day)(Mpa)</th>\n",
       "    </tr>\n",
       "  </thead>\n",
       "  <tbody>\n",
       "    <tr>\n",
       "      <th>0</th>\n",
       "      <td>1</td>\n",
       "      <td>273.0</td>\n",
       "      <td>82.0</td>\n",
       "      <td>105.0</td>\n",
       "      <td>210.0</td>\n",
       "      <td>9.0</td>\n",
       "      <td>904.0</td>\n",
       "      <td>680.0</td>\n",
       "      <td>23.0</td>\n",
       "      <td>62.0</td>\n",
       "      <td>34.99</td>\n",
       "    </tr>\n",
       "    <tr>\n",
       "      <th>1</th>\n",
       "      <td>2</td>\n",
       "      <td>163.0</td>\n",
       "      <td>149.0</td>\n",
       "      <td>191.0</td>\n",
       "      <td>180.0</td>\n",
       "      <td>12.0</td>\n",
       "      <td>843.0</td>\n",
       "      <td>746.0</td>\n",
       "      <td>0.0</td>\n",
       "      <td>20.0</td>\n",
       "      <td>41.14</td>\n",
       "    </tr>\n",
       "    <tr>\n",
       "      <th>2</th>\n",
       "      <td>3</td>\n",
       "      <td>162.0</td>\n",
       "      <td>148.0</td>\n",
       "      <td>191.0</td>\n",
       "      <td>179.0</td>\n",
       "      <td>16.0</td>\n",
       "      <td>840.0</td>\n",
       "      <td>743.0</td>\n",
       "      <td>1.0</td>\n",
       "      <td>20.0</td>\n",
       "      <td>41.81</td>\n",
       "    </tr>\n",
       "    <tr>\n",
       "      <th>3</th>\n",
       "      <td>4</td>\n",
       "      <td>162.0</td>\n",
       "      <td>148.0</td>\n",
       "      <td>190.0</td>\n",
       "      <td>179.0</td>\n",
       "      <td>19.0</td>\n",
       "      <td>838.0</td>\n",
       "      <td>741.0</td>\n",
       "      <td>3.0</td>\n",
       "      <td>21.5</td>\n",
       "      <td>42.08</td>\n",
       "    </tr>\n",
       "    <tr>\n",
       "      <th>4</th>\n",
       "      <td>5</td>\n",
       "      <td>154.0</td>\n",
       "      <td>112.0</td>\n",
       "      <td>144.0</td>\n",
       "      <td>220.0</td>\n",
       "      <td>10.0</td>\n",
       "      <td>923.0</td>\n",
       "      <td>658.0</td>\n",
       "      <td>20.0</td>\n",
       "      <td>64.0</td>\n",
       "      <td>26.82</td>\n",
       "    </tr>\n",
       "  </tbody>\n",
       "</table>\n",
       "</div>"
      ],
      "text/plain": [
       "   No  Cement   Slag  Fly ash  Water    SP  Coarse Aggr.  Fine Aggr.  \\\n",
       "0   1   273.0   82.0    105.0  210.0   9.0         904.0       680.0   \n",
       "1   2   163.0  149.0    191.0  180.0  12.0         843.0       746.0   \n",
       "2   3   162.0  148.0    191.0  179.0  16.0         840.0       743.0   \n",
       "3   4   162.0  148.0    190.0  179.0  19.0         838.0       741.0   \n",
       "4   5   154.0  112.0    144.0  220.0  10.0         923.0       658.0   \n",
       "\n",
       "   SLUMP(cm)  FLOW(cm)  Compressive Strength (28-day)(Mpa)  \n",
       "0       23.0      62.0                               34.99  \n",
       "1        0.0      20.0                               41.14  \n",
       "2        1.0      20.0                               41.81  \n",
       "3        3.0      21.5                               42.08  \n",
       "4       20.0      64.0                               26.82  "
      ]
     },
     "execution_count": 3,
     "metadata": {},
     "output_type": "execute_result"
    }
   ],
   "source": [
    "slump_test = pd.read_csv('slump_test.data', header = 0, sep=',')\n",
    "slump_test.head()\n"
   ]
  },
  {
   "cell_type": "code",
   "execution_count": 4,
   "metadata": {
    "collapsed": false,
    "deletable": true,
    "editable": true
   },
   "outputs": [],
   "source": [
    "sample = []\n",
    "\n",
    "sample.append(np.array(slump_test.values[:, 4]))\n",
    "sample.append(np.array(slump_test.values[:, 5]))\n",
    "sample.append(np.array(slump_test.values[:, 7]))\n",
    "sample.append(np.array(slump_test.values[:, 8]))\n",
    "sample.append(np.array(slump_test.values[:, 9]))\n",
    "sample.append(np.array(slump_test.values[:,-1]))\n",
    "\n",
    "sample = np.array(sample).T\n"
   ]
  },
  {
   "cell_type": "code",
   "execution_count": 5,
   "metadata": {
    "collapsed": false,
    "deletable": true,
    "editable": true
   },
   "outputs": [],
   "source": [
    "train, test = train_test_split(sample, test_size=0.5, random_state = 1)\n"
   ]
  },
  {
   "cell_type": "code",
   "execution_count": 6,
   "metadata": {
    "collapsed": false,
    "deletable": true,
    "editable": true
   },
   "outputs": [
    {
     "name": "stdout",
     "output_type": "stream",
     "text": [
      "[ 194.1254902     8.38039216  747.18823529   16.29901961   45.57254902\n",
      "   35.94607843]\n"
     ]
    }
   ],
   "source": [
    "from scipy.stats import multivariate_normal\n",
    "from statsmodels.distributions.empirical_distribution import ECDF\n",
    "\n",
    "mean = np.mean(train, axis=0)\n",
    "cov = np.cov(train, rowvar=0)\n",
    "\n",
    "theory = multivariate_normal(mean, cov)\n",
    "\n",
    "print(mean)\n",
    "\n"
   ]
  },
  {
   "cell_type": "code",
   "execution_count": 8,
   "metadata": {
    "collapsed": false,
    "deletable": true,
    "editable": true
   },
   "outputs": [],
   "source": [
    "#https://gist.github.com/vmonaco/e9ff0ac61fcb3b1b60ba\n",
    "import sys\n",
    "import numpy as np\n",
    "import pandas as pd\n",
    "import scipy.stats as stats\n",
    "from sklearn.neighbors import kneighbors_graph\n",
    "from scipy.sparse.csgraph import minimum_spanning_tree\n",
    "\n",
    "SIGNIFICANCE = 0.05\n",
    "\n",
    "\n",
    "def mst_edges(V, k):\n",
    "    \"\"\"\n",
    "    Construct the approximate minimum spanning tree from vectors V\n",
    "    :param: V: 2D array, sequence of vectors\n",
    "    :param: k: int the number of neighbor to consider for each vector\n",
    "    :return: V ndarray of edges forming the MST\n",
    "    \"\"\"\n",
    "\n",
    "    # k = len(X)-1 gives the exact MST\n",
    "    k = min(len(V) - 1, k)\n",
    "\n",
    "    # generate a sparse graph using the k nearest neighbors of each point\n",
    "    G = kneighbors_graph(V, n_neighbors=k, mode='distance')\n",
    "\n",
    "    # Compute the minimum spanning tree of this graph\n",
    "    full_tree = minimum_spanning_tree(G, overwrite=True)\n",
    "\n",
    "    return np.array(full_tree.nonzero()).T\n",
    "\n",
    "\n",
    "def ww_test(X, Y, k=10):\n",
    "    \"\"\"\n",
    "    Multi-dimensional Wald-Wolfowitz test\n",
    "    :param X: multivariate sample X as a numpy ndarray\n",
    "    :param Y: multivariate sample Y as a numpy ndarray\n",
    "    :param k: number of neighbors to consider for each vector\n",
    "    :return: W the WW test statistic, R the number of runs\n",
    "    \"\"\"\n",
    "    m, n = len(X), len(Y)\n",
    "    N = m + n\n",
    "\n",
    "    XY = np.concatenate([X, Y]).astype(np.float)\n",
    "\n",
    "    # XY += np.random.normal(0, noise_scale, XY.shape)\n",
    "\n",
    "    edges = mst_edges(XY, k)\n",
    "\n",
    "    labels = np.array([0] * m + [1] * n)\n",
    "\n",
    "    c = labels[edges]\n",
    "    runs_edges = edges[c[:, 0] == c[:, 1]]\n",
    "\n",
    "    # number of runs is the total number of observations minus edges within each run\n",
    "    R = N - len(runs_edges)\n",
    "\n",
    "    # expected value of R\n",
    "    e_R = ((2.0 * m * n) / N) + 1\n",
    "\n",
    "    # variance of R is _numer/_denom\n",
    "    _numer = 2 * m * n * (2 * m * n - N)\n",
    "    _denom = N ** 2 * (N - 1)\n",
    "\n",
    "    # see Eq. 1 in Friedman 1979\n",
    "    # W approaches a standard normal distribution\n",
    "    W = (R - e_R) / np.sqrt(_numer/_denom)\n",
    "\n",
    "    return W, R\n"
   ]
  },
  {
   "cell_type": "code",
   "execution_count": 12,
   "metadata": {
    "collapsed": true
   },
   "outputs": [],
   "source": [
    "teoretical_sample = theory.rvs(size = 100)\n"
   ]
  },
  {
   "cell_type": "code",
   "execution_count": 13,
   "metadata": {
    "collapsed": false
   },
   "outputs": [
    {
     "name": "stdout",
     "output_type": "stream",
     "text": [
      "W = 1.178, 75 runs\n",
      "p = 0.8807\n",
      "Fail to reject H_0 at 0.05 significance level\n",
      "The samples appear to have similar distribution\n"
     ]
    }
   ],
   "source": [
    "W, R = (ww_test(train, teoretical_sample))\n",
    "pvalue = stats.norm.cdf(W)  # one sided test\n",
    "reject = pvalue <= SIGNIFICANCE\n",
    "\n",
    "print('W = %.3f, %d runs' % (W, R))\n",
    "print('p = %.4f' % pvalue)\n",
    "print('%s H_0 at 0.05 significance level' % ('Reject' if reject else 'Fail to reject'))\n",
    "print('The samples appear to have %s distribution' % ('different' if reject else 'similar'))\n",
    "\n"
   ]
  }
 ],
 "metadata": {
  "kernelspec": {
   "display_name": "Python 3",
   "language": "python",
   "name": "python3"
  },
  "language_info": {
   "codemirror_mode": {
    "name": "ipython",
    "version": 3
   },
   "file_extension": ".py",
   "mimetype": "text/x-python",
   "name": "python",
   "nbconvert_exporter": "python",
   "pygments_lexer": "ipython3",
   "version": "3.5.2+"
  }
 },
 "nbformat": 4,
 "nbformat_minor": 2
}
