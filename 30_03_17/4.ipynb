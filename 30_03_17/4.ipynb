{
 "cells": [
  {
   "cell_type": "code",
   "execution_count": 2,
   "metadata": {
    "collapsed": true,
    "deletable": true,
    "editable": true
   },
   "outputs": [],
   "source": [
    "import numpy as np\n",
    "import matplotlib.pyplot as plt\n",
    "import scipy.stats as sps\n",
    "import pandas as pd\n",
    "from statsmodels.sandbox.stats.multicomp import multipletests\n",
    "\n",
    "\n",
    "%matplotlib inline\n",
    "\n"
   ]
  },
  {
   "cell_type": "code",
   "execution_count": 3,
   "metadata": {
    "collapsed": false,
    "deletable": true,
    "editable": true
   },
   "outputs": [
    {
     "data": {
      "text/html": [
       "<div>\n",
       "<table border=\"1\" class=\"dataframe\">\n",
       "  <thead>\n",
       "    <tr style=\"text-align: right;\">\n",
       "      <th></th>\n",
       "      <th>0</th>\n",
       "      <th>1</th>\n",
       "    </tr>\n",
       "  </thead>\n",
       "  <tbody>\n",
       "    <tr>\n",
       "      <th>0</th>\n",
       "      <td>846.1</td>\n",
       "      <td>770.5</td>\n",
       "    </tr>\n",
       "    <tr>\n",
       "      <th>1</th>\n",
       "      <td>835.7</td>\n",
       "      <td>1088.5</td>\n",
       "    </tr>\n",
       "    <tr>\n",
       "      <th>2</th>\n",
       "      <td>856.4</td>\n",
       "      <td>1099.2</td>\n",
       "    </tr>\n",
       "    <tr>\n",
       "      <th>3</th>\n",
       "      <td>937.9</td>\n",
       "      <td>800.1</td>\n",
       "    </tr>\n",
       "    <tr>\n",
       "      <th>4</th>\n",
       "      <td>848.5</td>\n",
       "      <td>902.3</td>\n",
       "    </tr>\n",
       "  </tbody>\n",
       "</table>\n",
       "</div>"
      ],
      "text/plain": [
       "       0       1\n",
       "0  846.1   770.5\n",
       "1  835.7  1088.5\n",
       "2  856.4  1099.2\n",
       "3  937.9   800.1\n",
       "4  848.5   902.3"
      ]
     },
     "execution_count": 3,
     "metadata": {},
     "output_type": "execute_result"
    }
   ],
   "source": [
    "data = pd.read_csv('hw6t4v1.txt', header = None, sep='\\s+')\n",
    "data.head()\n"
   ]
  },
  {
   "cell_type": "code",
   "execution_count": 4,
   "metadata": {
    "collapsed": false,
    "deletable": true,
    "editable": true
   },
   "outputs": [
    {
     "data": {
      "image/png": "[encoded data removed]",
      "text/plain": [
       "<matplotlib.figure.Figure at 0x7f76e890e438>"
      ]
     },
     "metadata": {},
     "output_type": "display_data"
    }
   ],
   "source": [
    "x1 = data.values[:,0]\n",
    "x2 = data.values[:,1]\n",
    "plt.figure(figsize=(6,6))\n",
    "plt.scatter(x1, x2)\n",
    "plt.show()\n"
   ]
  },
  {
   "cell_type": "code",
   "execution_count": 5,
   "metadata": {
    "collapsed": false,
    "deletable": true,
    "editable": true
   },
   "outputs": [],
   "source": [
    "def mult(x1, x2, alpha = 0.01, method='fdr_bh'):\n",
    "    p_val = np.zeros(4)\n",
    "    observed = np.histogram2d(x1, x2, bins=[len(np.unique(x1)), len(np.unique(x2))])[0]\n",
    "    observed += np.ones(observed.shape)\n",
    "    depend = sps.chi2_contingency(observed)[1]\n",
    "    p_val[1] = sps.shapiro(x1)[1]\n",
    "    p_val[2] = sps.shapiro(x2)[1]\n",
    "    if (depend < alpha / 4):\n",
    "        p_val[0] = 1 - depend\n",
    "        p_val[3] = sps.wilcoxon(x1, x2)[1]\n",
    "        return multipletests(p_val, alpha=alpha, method=method)\n",
    "    else:\n",
    "        p_val[0] = depend\n",
    "        p_val[3] = sps.ranksums(x1, x2)[1]\n",
    "        return multipletests(p_val, alpha=alpha, method=method)\n",
    "        \n",
    "    "
   ]
  },
  {
   "cell_type": "code",
   "execution_count": 24,
   "metadata": {
    "collapsed": false,
    "deletable": true,
    "editable": true
   },
   "outputs": [
    {
     "data": {
      "text/plain": [
       "(array([False, False, False,  True], dtype=bool),\n",
       " array([  1.00000000e+00,   1.00000000e+00,   1.00000000e+00,\n",
       "          1.11128718e-52]),\n",
       " 0.002509430066318874,\n",
       " 0.0025)"
      ]
     },
     "execution_count": 24,
     "metadata": {},
     "output_type": "execute_result"
    }
   ],
   "source": [
    "mult(x1, x2)\n",
    "\n",
    "\n"
   ]
  },
  {
   "cell_type": "code",
   "execution_count": 12,
   "metadata": {
    "collapsed": true,
    "deletable": true,
    "editable": true
   },
   "outputs": [],
   "source": [
    "def mult_upgrade(x1, x2, alpha = 0.01, method='fdr_bh'):\n",
    "    p_val = np.zeros((4,4))\n",
    "    observed = np.histogram2d(x1, x2, bins=[len(np.unique(x1)), len(np.unique(x2))])[0]\n",
    "    observed += np.ones(observed.shape)\n",
    "    p_val[0][0] = sps.chi2_contingency(observed)[1]\n",
    "    p_val[0][1] = p_val[0][0]\n",
    "    p_val[0][2] = 1 - p_val[0][0]\n",
    "    p_val[0][3] = 1 - p_val[0][0]\n",
    "    \n",
    "    p_val[1][0] = sps.shapiro(x1)[1]\n",
    "    p_val[1][1] = 1 - p_val[1][0] \n",
    "    p_val[1][2] = p_val[1][0]\n",
    "    p_val[1][3] = 1 - p_val[1][0] \n",
    "    \n",
    "    \n",
    "    p_val[2][0] = sps.shapiro(x2)[1]\n",
    "    p_val[2][1] = 1 - p_val[2][0] \n",
    "    p_val[2][2] = p_val[2][0]\n",
    "    p_val[2][3] = 1 - p_val[2][0] \n",
    "    \n",
    "    p_val[3][2] = sps.ttest_rel(x1,x2)[1]\n",
    "    p_val[3][3] = sps.wilcoxon(x1, x2)[1]\n",
    "    \n",
    "    p_val[3][0] = sps.ttest_ind(x1,x2)[1]\n",
    "    p_val[3][1] = sps.ranksums(x1, x2)[1]\n",
    "    \n",
    "    for i in range(4):\n",
    "        print(\"%d : \" % i)\n",
    "        print(multipletests(p_val[i], alpha=alpha, method=method))\n",
    "        \n",
    "    "
   ]
  },
  {
   "cell_type": "code",
   "execution_count": 13,
   "metadata": {
    "collapsed": false,
    "deletable": true,
    "editable": true
   },
   "outputs": [
    {
     "name": "stdout",
     "output_type": "stream",
     "text": [
      "0 : \n",
      "(array([False, False,  True,  True], dtype=bool), array([ 1.,  1.,  0.,  0.]), 0.002509430066318874, 0.0025)\n",
      "1 : \n",
      "(array([False, False, False, False], dtype=bool), array([ 0.61683702,  0.69158149,  0.61683702,  0.69158149]), 0.002509430066318874, 0.0025)\n",
      "2 : \n",
      "(array([False, False, False, False], dtype=bool), array([ 0.58514819,  0.58514819,  0.58514819,  0.58514819]), 0.002509430066318874, 0.0025)\n",
      "3 : \n",
      "(array([ True,  True,  True,  True], dtype=bool), array([  4.05653531e-14,   2.83121285e-13,   1.63712576e-13,\n",
      "         1.98544038e-12]), 0.002509430066318874, 0.0025)\n"
     ]
    }
   ],
   "source": [
    "mult_upgrade(x1,x2)\n",
    "\n"
   ]
  },
  {
   "cell_type": "markdown",
   "metadata": {
    "deletable": true,
    "editable": true
   },
   "source": [
    "Процедура с уровнем контроля FDR 0.01 не отвергает, что непарные нормальные выборки несмещены."
   ]
  }
 ],
 "metadata": {
  "kernelspec": {
   "display_name": "Python 3",
   "language": "python",
   "name": "python3"
  },
  "language_info": {
   "codemirror_mode": {
    "name": "ipython",
    "version": 3
   },
   "file_extension": ".py",
   "mimetype": "text/x-python",
   "name": "python",
   "nbconvert_exporter": "python",
   "pygments_lexer": "ipython3",
   "version": "3.4.3"
  }
 },
 "nbformat": 4,
 "nbformat_minor": 2
}
