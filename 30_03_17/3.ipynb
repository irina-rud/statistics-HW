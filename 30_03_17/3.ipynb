{
 "cells": [
  {
   "cell_type": "code",
   "execution_count": 1,
   "metadata": {
    "collapsed": true
   },
   "outputs": [],
   "source": [
    "import numpy as np\n",
    "import matplotlib.pyplot as plt\n",
    "import scipy.stats as sps\n",
    "import pandas as pd\n",
    "from statsmodels.sandbox.stats.multicomp import multipletests\n",
    "\n",
    "\n",
    "%matplotlib inline\n",
    "\n"
   ]
  },
  {
   "cell_type": "code",
   "execution_count": 4,
   "metadata": {
    "collapsed": false
   },
   "outputs": [
    {
     "data": {
      "text/html": [
       "<div>\n",
       "<table border=\"1\" class=\"dataframe\">\n",
       "  <thead>\n",
       "    <tr style=\"text-align: right;\">\n",
       "      <th></th>\n",
       "      <th>0</th>\n",
       "      <th>1</th>\n",
       "    </tr>\n",
       "  </thead>\n",
       "  <tbody>\n",
       "    <tr>\n",
       "      <th>0</th>\n",
       "      <td>7152.5</td>\n",
       "      <td>8630.8</td>\n",
       "    </tr>\n",
       "    <tr>\n",
       "      <th>1</th>\n",
       "      <td>5942.3</td>\n",
       "      <td>7531.9</td>\n",
       "    </tr>\n",
       "    <tr>\n",
       "      <th>2</th>\n",
       "      <td>6879.0</td>\n",
       "      <td>8943.6</td>\n",
       "    </tr>\n",
       "    <tr>\n",
       "      <th>3</th>\n",
       "      <td>5565.8</td>\n",
       "      <td>7313.8</td>\n",
       "    </tr>\n",
       "    <tr>\n",
       "      <th>4</th>\n",
       "      <td>6947.2</td>\n",
       "      <td>8664.6</td>\n",
       "    </tr>\n",
       "  </tbody>\n",
       "</table>\n",
       "</div>"
      ],
      "text/plain": [
       "        0       1\n",
       "0  7152.5  8630.8\n",
       "1  5942.3  7531.9\n",
       "2  6879.0  8943.6\n",
       "3  5565.8  7313.8\n",
       "4  6947.2  8664.6"
      ]
     },
     "execution_count": 4,
     "metadata": {},
     "output_type": "execute_result"
    }
   ],
   "source": [
    "data = pd.read_csv('hw6t3v1.txt', header = None, sep='\\s+')\n",
    "data.head()\n"
   ]
  },
  {
   "cell_type": "code",
   "execution_count": 8,
   "metadata": {
    "collapsed": false
   },
   "outputs": [
    {
     "data": {
      "image/png": "[encoded data removed]",
      "text/plain": [
       "<matplotlib.figure.Figure at 0x7f1f917dbac8>"
      ]
     },
     "metadata": {},
     "output_type": "display_data"
    }
   ],
   "source": [
    "x1 = data.values[:,0]\n",
    "x2 = data.values[:,1]\n",
    "plt.figure(figsize=(6,6))\n",
    "plt.scatter(x1, x2)\n",
    "plt.show()\n"
   ]
  },
  {
   "cell_type": "code",
   "execution_count": 23,
   "metadata": {
    "collapsed": false
   },
   "outputs": [],
   "source": [
    "def mult(x1, x2, alpha = 0.01, method='holm'):\n",
    "    p_val = np.zeros(4)\n",
    "    observed = np.histogram2d(x1, x2, bins=[len(np.unique(x1)), len(np.unique(x2))])[0]\n",
    "    observed += np.ones(observed.shape)\n",
    "    depend = sps.chi2_contingency(observed)[1]\n",
    "    p_val[1] = sps.shapiro(x1)[1]\n",
    "    p_val[2] = sps.shapiro(x2)[1]\n",
    "    if (depend < alpha / 4):\n",
    "        p_val[0] = 1 - depend\n",
    "        p_val[3] = sps.wilcoxon(x1, x2)[1]\n",
    "        return multipletests(p_val, alpha=alpha, method=method)\n",
    "    else:\n",
    "        p_val[0] = depend\n",
    "        p_val[3] = sps.ranksums(x1, x2)[1]\n",
    "        return multipletests(p_val, alpha=alpha, method=method)\n",
    "        \n",
    "    "
   ]
  },
  {
   "cell_type": "code",
   "execution_count": 24,
   "metadata": {
    "collapsed": false
   },
   "outputs": [
    {
     "data": {
      "text/plain": [
       "(array([False, False, False,  True], dtype=bool),\n",
       " array([  1.00000000e+00,   1.00000000e+00,   1.00000000e+00,\n",
       "          1.11128718e-52]),\n",
       " 0.002509430066318874,\n",
       " 0.0025)"
      ]
     },
     "execution_count": 24,
     "metadata": {},
     "output_type": "execute_result"
    }
   ],
   "source": [
    "mult(x1, x2)\n",
    "\n",
    "\n"
   ]
  },
  {
   "cell_type": "code",
   "execution_count": 30,
   "metadata": {
    "collapsed": true
   },
   "outputs": [],
   "source": [
    "def mult_upgrade(x1, x2, alpha = 0.01, method='holm'):\n",
    "    p_val = np.zeros(4)\n",
    "    observed = np.histogram2d(x1, x2, bins=[len(np.unique(x1)), len(np.unique(x2))])[0]\n",
    "    observed += np.ones(observed.shape)\n",
    "    depend = sps.chi2_contingency(observed)[1]\n",
    "    p_val[1] = sps.shapiro(x1)[1]\n",
    "    p_val[2] = sps.shapiro(x2)[1]\n",
    "    if (depend < alpha / 4):\n",
    "        p_val[0] = 1 - depend\n",
    "        if (p_val[1] < alpha / 3) and (p_val[2] < alpha / 2):\n",
    "            p_val[1] = 1 - p_val[1]\n",
    "            p_val[2] = 1 - p_val[2]\n",
    "            p_val[3] = sps.ttest_rel(x1,x2)[1]\n",
    "            return multipletests(p_val, alpha=alpha, method=method)\n",
    "        else:    \n",
    "            p_val[3] = sps.wilcoxon(x1, x2)[1]\n",
    "            return multipletests(p_val, alpha=alpha, method=method)\n",
    "    else:\n",
    "        p_val[0] = depend\n",
    "        if (p_val[1] < alpha / 3) and (p_val[2] < alpha / 2):\n",
    "            p_val[1] = 1 - p_val[1]\n",
    "            p_val[2] = 1 - p_val[2]\n",
    "            p_val[3] = sps.ttest_ind(x1,x2)[1]\n",
    "            return multipletests(p_val, alpha=alpha, method=method)\n",
    "        else:    \n",
    "            p_val[3] = sps.ranksums(x1, x2)[1]\n",
    "            return multipletests(p_val, alpha=alpha, method=method)\n",
    "        \n",
    "    "
   ]
  },
  {
   "cell_type": "code",
   "execution_count": 31,
   "metadata": {
    "collapsed": false
   },
   "outputs": [
    {
     "data": {
      "text/plain": [
       "(array([False, False, False,  True], dtype=bool),\n",
       " array([  1.00000000e+00,   1.00000000e+00,   1.00000000e+00,\n",
       "          1.11128718e-52]),\n",
       " 0.002509430066318874,\n",
       " 0.0025)"
      ]
     },
     "execution_count": 31,
     "metadata": {},
     "output_type": "execute_result"
    }
   ],
   "source": [
    "mult_upgrade(x1, x2)\n",
    "\n"
   ]
  },
  {
   "cell_type": "markdown",
   "metadata": {},
   "source": [
    "То есть гипотеза об отсутствии сдвига отвергается"
   ]
  }
 ],
 "metadata": {
  "kernelspec": {
   "display_name": "Python 3",
   "language": "python",
   "name": "python3"
  },
  "language_info": {
   "codemirror_mode": {
    "name": "ipython",
    "version": 3
   },
   "file_extension": ".py",
   "mimetype": "text/x-python",
   "name": "python",
   "nbconvert_exporter": "python",
   "pygments_lexer": "ipython3",
   "version": "3.5.2+"
  }
 },
 "nbformat": 4,
 "nbformat_minor": 2
}
