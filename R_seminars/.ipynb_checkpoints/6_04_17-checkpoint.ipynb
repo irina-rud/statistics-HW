{
 "cells": [
  {
   "cell_type": "code",
   "execution_count": 8,
   "metadata": {
    "collapsed": false
   },
   "outputs": [
    {
     "data": {
      "text/html": [
       "<ol class=list-inline>\n",
       "\t<li>5</li>\n",
       "\t<li>10</li>\n",
       "\t<li>15</li>\n",
       "\t<li>20</li>\n",
       "\t<li>25</li>\n",
       "\t<li>30</li>\n",
       "\t<li>35</li>\n",
       "\t<li>40</li>\n",
       "\t<li>45</li>\n",
       "\t<li>50</li>\n",
       "\t<li>55</li>\n",
       "\t<li>60</li>\n",
       "\t<li>65</li>\n",
       "\t<li>70</li>\n",
       "\t<li>75</li>\n",
       "\t<li>80</li>\n",
       "\t<li>85</li>\n",
       "\t<li>90</li>\n",
       "\t<li>95</li>\n",
       "\t<li>100</li>\n",
       "\t<li>105</li>\n",
       "\t<li>110</li>\n",
       "\t<li>115</li>\n",
       "\t<li>120</li>\n",
       "\t<li>125</li>\n",
       "\t<li>130</li>\n",
       "\t<li>135</li>\n",
       "\t<li>140</li>\n",
       "\t<li>145</li>\n",
       "\t<li>150</li>\n",
       "\t<li>155</li>\n",
       "\t<li>160</li>\n",
       "</ol>\n"
      ],
      "text/latex": [
       "\\begin{enumerate*}\n",
       "\\item 5\n",
       "\\item 10\n",
       "\\item 15\n",
       "\\item 20\n",
       "\\item 25\n",
       "\\item 30\n",
       "\\item 35\n",
       "\\item 40\n",
       "\\item 45\n",
       "\\item 50\n",
       "\\item 55\n",
       "\\item 60\n",
       "\\item 65\n",
       "\\item 70\n",
       "\\item 75\n",
       "\\item 80\n",
       "\\item 85\n",
       "\\item 90\n",
       "\\item 95\n",
       "\\item 100\n",
       "\\item 105\n",
       "\\item 110\n",
       "\\item 115\n",
       "\\item 120\n",
       "\\item 125\n",
       "\\item 130\n",
       "\\item 135\n",
       "\\item 140\n",
       "\\item 145\n",
       "\\item 150\n",
       "\\item 155\n",
       "\\item 160\n",
       "\\end{enumerate*}\n"
      ],
      "text/markdown": [
       "1. 5\n",
       "2. 10\n",
       "3. 15\n",
       "4. 20\n",
       "5. 25\n",
       "6. 30\n",
       "7. 35\n",
       "8. 40\n",
       "9. 45\n",
       "10. 50\n",
       "11. 55\n",
       "12. 60\n",
       "13. 65\n",
       "14. 70\n",
       "15. 75\n",
       "16. 80\n",
       "17. 85\n",
       "18. 90\n",
       "19. 95\n",
       "20. 100\n",
       "21. 105\n",
       "22. 110\n",
       "23. 115\n",
       "24. 120\n",
       "25. 125\n",
       "26. 130\n",
       "27. 135\n",
       "28. 140\n",
       "29. 145\n",
       "30. 150\n",
       "31. 155\n",
       "32. 160\n",
       "\n",
       "\n"
      ],
      "text/plain": [
       " [1]   5  10  15  20  25  30  35  40  45  50  55  60  65  70  75  80  85  90  95\n",
       "[20] 100 105 110 115 120 125 130 135 140 145 150 155 160"
      ]
     },
     "metadata": {},
     "output_type": "display_data"
    }
   ],
   "source": [
    "x <- 1:32 *5\n",
    "x"
   ]
  },
  {
   "cell_type": "code",
   "execution_count": 10,
   "metadata": {
    "collapsed": false
   },
   "outputs": [
    {
     "data": {
      "text/html": [
       "<ol class=list-inline>\n",
       "\t<li>87</li>\n",
       "\t<li>86</li>\n",
       "\t<li>85</li>\n",
       "\t<li>84</li>\n",
       "\t<li>83</li>\n",
       "\t<li>82</li>\n",
       "\t<li>81</li>\n",
       "\t<li>80</li>\n",
       "\t<li>79</li>\n",
       "\t<li>78</li>\n",
       "\t<li>77</li>\n",
       "\t<li>76</li>\n",
       "\t<li>75</li>\n",
       "\t<li>74</li>\n",
       "\t<li>73</li>\n",
       "\t<li>72</li>\n",
       "\t<li>71</li>\n",
       "\t<li>70</li>\n",
       "\t<li>69</li>\n",
       "\t<li>68</li>\n",
       "\t<li>67</li>\n",
       "\t<li>66</li>\n",
       "\t<li>65</li>\n",
       "\t<li>64</li>\n",
       "\t<li>63</li>\n",
       "\t<li>62</li>\n",
       "\t<li>61</li>\n",
       "\t<li>60</li>\n",
       "\t<li>59</li>\n",
       "\t<li>58</li>\n",
       "\t<li>57</li>\n",
       "\t<li>56</li>\n",
       "</ol>\n"
      ],
      "text/latex": [
       "\\begin{enumerate*}\n",
       "\\item 87\n",
       "\\item 86\n",
       "\\item 85\n",
       "\\item 84\n",
       "\\item 83\n",
       "\\item 82\n",
       "\\item 81\n",
       "\\item 80\n",
       "\\item 79\n",
       "\\item 78\n",
       "\\item 77\n",
       "\\item 76\n",
       "\\item 75\n",
       "\\item 74\n",
       "\\item 73\n",
       "\\item 72\n",
       "\\item 71\n",
       "\\item 70\n",
       "\\item 69\n",
       "\\item 68\n",
       "\\item 67\n",
       "\\item 66\n",
       "\\item 65\n",
       "\\item 64\n",
       "\\item 63\n",
       "\\item 62\n",
       "\\item 61\n",
       "\\item 60\n",
       "\\item 59\n",
       "\\item 58\n",
       "\\item 57\n",
       "\\item 56\n",
       "\\end{enumerate*}\n"
      ],
      "text/markdown": [
       "1. 87\n",
       "2. 86\n",
       "3. 85\n",
       "4. 84\n",
       "5. 83\n",
       "6. 82\n",
       "7. 81\n",
       "8. 80\n",
       "9. 79\n",
       "10. 78\n",
       "11. 77\n",
       "12. 76\n",
       "13. 75\n",
       "14. 74\n",
       "15. 73\n",
       "16. 72\n",
       "17. 71\n",
       "18. 70\n",
       "19. 69\n",
       "20. 68\n",
       "21. 67\n",
       "22. 66\n",
       "23. 65\n",
       "24. 64\n",
       "25. 63\n",
       "26. 62\n",
       "27. 61\n",
       "28. 60\n",
       "29. 59\n",
       "30. 58\n",
       "31. 57\n",
       "32. 56\n",
       "\n",
       "\n"
      ],
      "text/plain": [
       " [1] 87 86 85 84 83 82 81 80 79 78 77 76 75 74 73 72 71 70 69 68 67 66 65 64 63\n",
       "[26] 62 61 60 59 58 57 56"
      ]
     },
     "metadata": {},
     "output_type": "display_data"
    }
   ],
   "source": [
    "y <- 87:56\n",
    "y"
   ]
  },
  {
   "cell_type": "code",
   "execution_count": 15,
   "metadata": {
    "collapsed": false
   },
   "outputs": [
    {
     "data": {
      "text/html": [
       "6555"
      ],
      "text/latex": [
       "6555"
      ],
      "text/markdown": [
       "6555"
      ],
      "text/plain": [
       "[1] 6555"
      ]
     },
     "metadata": {},
     "output_type": "display_data"
    },
    {
     "data": {
      "text/html": [
       "6800"
      ],
      "text/latex": [
       "6800"
      ],
      "text/markdown": [
       "6800"
      ],
      "text/plain": [
       "[1] 6800"
      ]
     },
     "metadata": {},
     "output_type": "display_data"
    },
    {
     "data": {
      "text/html": [
       "7035"
      ],
      "text/latex": [
       "7035"
      ],
      "text/markdown": [
       "7035"
      ],
      "text/plain": [
       "[1] 7035"
      ]
     },
     "metadata": {},
     "output_type": "display_data"
    }
   ],
   "source": [
    "d <- x * y\n",
    "d[19]\n",
    "d[20]\n",
    "d[21]"
   ]
  },
  {
   "cell_type": "code",
   "execution_count": 22,
   "metadata": {
    "collapsed": false
   },
   "outputs": [
    {
     "name": "stdout",
     "output_type": "stream",
     "text": [
      "[1] 435\n",
      "[1] 860\n",
      "[1] 1275\n",
      "[1] 1680\n"
     ]
    }
   ],
   "source": [
    "for (i in 1:length(d)){\n",
    "    if (d[i]<2000){\n",
    "        print(d[i])        \n",
    "    }\n",
    "}"
   ]
  },
  {
   "cell_type": "code",
   "execution_count": 26,
   "metadata": {
    "collapsed": false
   },
   "outputs": [
    {
     "data": {
      "text/html": [
       "16"
      ],
      "text/latex": [
       "16"
      ],
      "text/markdown": [
       "16"
      ],
      "text/plain": [
       "[1] 16"
      ]
     },
     "metadata": {},
     "output_type": "display_data"
    }
   ],
   "source": [
    "s <- 0\n",
    "for (i in 1:length(d)){\n",
    "    if (d[i] > 6000){\n",
    "        s <- s+1        \n",
    "    }\n",
    "}\n",
    "s"
   ]
  },
  {
   "cell_type": "code",
   "execution_count": 28,
   "metadata": {
    "collapsed": false
   },
   "outputs": [],
   "source": [
    "iris = read.csv(\"Iris.csv\",header=TRUE) "
   ]
  },
  {
   "cell_type": "code",
   "execution_count": 31,
   "metadata": {
    "collapsed": false
   },
   "outputs": [
    {
     "data": {
      "text/html": [
       "150"
      ],
      "text/latex": [
       "150"
      ],
      "text/markdown": [
       "150"
      ],
      "text/plain": [
       "[1] 150"
      ]
     },
     "metadata": {},
     "output_type": "display_data"
    },
    {
     "data": {
      "text/html": [
       "5"
      ],
      "text/latex": [
       "5"
      ],
      "text/markdown": [
       "5"
      ],
      "text/plain": [
       "[1] 5"
      ]
     },
     "metadata": {},
     "output_type": "display_data"
    }
   ],
   "source": [
    "nrow(iris) #количество данных\n",
    "ncol(iris) #количество признаков"
   ]
  },
  {
   "cell_type": "code",
   "execution_count": 32,
   "metadata": {
    "collapsed": false
   },
   "outputs": [
    {
     "data": {
      "text/html": [
       "<table>\n",
       "<thead><tr><th scope=col>sepal_l</th><th scope=col>sepal_w</th><th scope=col>petal_l</th><th scope=col>petal_w</th><th scope=col>species</th></tr></thead>\n",
       "<tbody>\n",
       "\t<tr><td>5.1        </td><td>3.5        </td><td>1.4        </td><td>0.2        </td><td>Iris-setosa</td></tr>\n",
       "\t<tr><td>4.9        </td><td>3.0        </td><td>1.4        </td><td>0.2        </td><td>Iris-setosa</td></tr>\n",
       "\t<tr><td>4.7        </td><td>3.2        </td><td>1.3        </td><td>0.2        </td><td>Iris-setosa</td></tr>\n",
       "\t<tr><td>4.6        </td><td>3.1        </td><td>1.5        </td><td>0.2        </td><td>Iris-setosa</td></tr>\n",
       "\t<tr><td>5.0        </td><td>3.6        </td><td>1.4        </td><td>0.2        </td><td>Iris-setosa</td></tr>\n",
       "\t<tr><td>5.4        </td><td>3.9        </td><td>1.7        </td><td>0.4        </td><td>Iris-setosa</td></tr>\n",
       "\t<tr><td>4.6        </td><td>3.4        </td><td>1.4        </td><td>0.3        </td><td>Iris-setosa</td></tr>\n",
       "\t<tr><td>5.0        </td><td>3.4        </td><td>1.5        </td><td>0.2        </td><td>Iris-setosa</td></tr>\n",
       "\t<tr><td>4.4        </td><td>2.9        </td><td>1.4        </td><td>0.2        </td><td>Iris-setosa</td></tr>\n",
       "\t<tr><td>4.9        </td><td>3.1        </td><td>1.5        </td><td>0.1        </td><td>Iris-setosa</td></tr>\n",
       "\t<tr><td>5.4        </td><td>3.7        </td><td>1.5        </td><td>0.2        </td><td>Iris-setosa</td></tr>\n",
       "\t<tr><td>4.8        </td><td>3.4        </td><td>1.6        </td><td>0.2        </td><td>Iris-setosa</td></tr>\n",
       "\t<tr><td>4.8        </td><td>3.0        </td><td>1.4        </td><td>0.1        </td><td>Iris-setosa</td></tr>\n",
       "\t<tr><td>4.3        </td><td>3.0        </td><td>1.1        </td><td>0.1        </td><td>Iris-setosa</td></tr>\n",
       "\t<tr><td>5.8        </td><td>4.0        </td><td>1.2        </td><td>0.2        </td><td>Iris-setosa</td></tr>\n",
       "\t<tr><td>5.7        </td><td>4.4        </td><td>1.5        </td><td>0.4        </td><td>Iris-setosa</td></tr>\n",
       "\t<tr><td>5.4        </td><td>3.9        </td><td>1.3        </td><td>0.4        </td><td>Iris-setosa</td></tr>\n",
       "\t<tr><td>5.1        </td><td>3.5        </td><td>1.4        </td><td>0.3        </td><td>Iris-setosa</td></tr>\n",
       "\t<tr><td>5.7        </td><td>3.8        </td><td>1.7        </td><td>0.3        </td><td>Iris-setosa</td></tr>\n",
       "\t<tr><td>5.1        </td><td>3.8        </td><td>1.5        </td><td>0.3        </td><td>Iris-setosa</td></tr>\n",
       "\t<tr><td>5.4        </td><td>3.4        </td><td>1.7        </td><td>0.2        </td><td>Iris-setosa</td></tr>\n",
       "\t<tr><td>5.1        </td><td>3.7        </td><td>1.5        </td><td>0.4        </td><td>Iris-setosa</td></tr>\n",
       "\t<tr><td>4.6        </td><td>3.6        </td><td>1.0        </td><td>0.2        </td><td>Iris-setosa</td></tr>\n",
       "\t<tr><td>5.1        </td><td>3.3        </td><td>1.7        </td><td>0.5        </td><td>Iris-setosa</td></tr>\n",
       "\t<tr><td>4.8        </td><td>3.4        </td><td>1.9        </td><td>0.2        </td><td>Iris-setosa</td></tr>\n",
       "\t<tr><td>5.0        </td><td>3.0        </td><td>1.6        </td><td>0.2        </td><td>Iris-setosa</td></tr>\n",
       "\t<tr><td>5.0        </td><td>3.4        </td><td>1.6        </td><td>0.4        </td><td>Iris-setosa</td></tr>\n",
       "\t<tr><td>5.2        </td><td>3.5        </td><td>1.5        </td><td>0.2        </td><td>Iris-setosa</td></tr>\n",
       "\t<tr><td>5.2        </td><td>3.4        </td><td>1.4        </td><td>0.2        </td><td>Iris-setosa</td></tr>\n",
       "\t<tr><td>4.7        </td><td>3.2        </td><td>1.6        </td><td>0.2        </td><td>Iris-setosa</td></tr>\n",
       "\t<tr><td>⋮</td><td>⋮</td><td>⋮</td><td>⋮</td><td>⋮</td></tr>\n",
       "\t<tr><td>6.9           </td><td>3.2           </td><td>5.7           </td><td>2.3           </td><td>Iris-virginica</td></tr>\n",
       "\t<tr><td>5.6           </td><td>2.8           </td><td>4.9           </td><td>2.0           </td><td>Iris-virginica</td></tr>\n",
       "\t<tr><td>7.7           </td><td>2.8           </td><td>6.7           </td><td>2.0           </td><td>Iris-virginica</td></tr>\n",
       "\t<tr><td>6.3           </td><td>2.7           </td><td>4.9           </td><td>1.8           </td><td>Iris-virginica</td></tr>\n",
       "\t<tr><td>6.7           </td><td>3.3           </td><td>5.7           </td><td>2.1           </td><td>Iris-virginica</td></tr>\n",
       "\t<tr><td>7.2           </td><td>3.2           </td><td>6.0           </td><td>1.8           </td><td>Iris-virginica</td></tr>\n",
       "\t<tr><td>6.2           </td><td>2.8           </td><td>4.8           </td><td>1.8           </td><td>Iris-virginica</td></tr>\n",
       "\t<tr><td>6.1           </td><td>3.0           </td><td>4.9           </td><td>1.8           </td><td>Iris-virginica</td></tr>\n",
       "\t<tr><td>6.4           </td><td>2.8           </td><td>5.6           </td><td>2.1           </td><td>Iris-virginica</td></tr>\n",
       "\t<tr><td>7.2           </td><td>3.0           </td><td>5.8           </td><td>1.6           </td><td>Iris-virginica</td></tr>\n",
       "\t<tr><td>7.4           </td><td>2.8           </td><td>6.1           </td><td>1.9           </td><td>Iris-virginica</td></tr>\n",
       "\t<tr><td>7.9           </td><td>3.8           </td><td>6.4           </td><td>2.0           </td><td>Iris-virginica</td></tr>\n",
       "\t<tr><td>6.4           </td><td>2.8           </td><td>5.6           </td><td>2.2           </td><td>Iris-virginica</td></tr>\n",
       "\t<tr><td>6.3           </td><td>2.8           </td><td>5.1           </td><td>1.5           </td><td>Iris-virginica</td></tr>\n",
       "\t<tr><td>6.1           </td><td>2.6           </td><td>5.6           </td><td>1.4           </td><td>Iris-virginica</td></tr>\n",
       "\t<tr><td>7.7           </td><td>3.0           </td><td>6.1           </td><td>2.3           </td><td>Iris-virginica</td></tr>\n",
       "\t<tr><td>6.3           </td><td>3.4           </td><td>5.6           </td><td>2.4           </td><td>Iris-virginica</td></tr>\n",
       "\t<tr><td>6.4           </td><td>3.1           </td><td>5.5           </td><td>1.8           </td><td>Iris-virginica</td></tr>\n",
       "\t<tr><td>6.0           </td><td>3.0           </td><td>4.8           </td><td>1.8           </td><td>Iris-virginica</td></tr>\n",
       "\t<tr><td>6.9           </td><td>3.1           </td><td>5.4           </td><td>2.1           </td><td>Iris-virginica</td></tr>\n",
       "\t<tr><td>6.7           </td><td>3.1           </td><td>5.6           </td><td>2.4           </td><td>Iris-virginica</td></tr>\n",
       "\t<tr><td>6.9           </td><td>3.1           </td><td>5.1           </td><td>2.3           </td><td>Iris-virginica</td></tr>\n",
       "\t<tr><td>5.8           </td><td>2.7           </td><td>5.1           </td><td>1.9           </td><td>Iris-virginica</td></tr>\n",
       "\t<tr><td>6.8           </td><td>3.2           </td><td>5.9           </td><td>2.3           </td><td>Iris-virginica</td></tr>\n",
       "\t<tr><td>6.7           </td><td>3.3           </td><td>5.7           </td><td>2.5           </td><td>Iris-virginica</td></tr>\n",
       "\t<tr><td>6.7           </td><td>3.0           </td><td>5.2           </td><td>2.3           </td><td>Iris-virginica</td></tr>\n",
       "\t<tr><td>6.3           </td><td>2.5           </td><td>5.0           </td><td>1.9           </td><td>Iris-virginica</td></tr>\n",
       "\t<tr><td>6.5           </td><td>3.0           </td><td>5.2           </td><td>2.0           </td><td>Iris-virginica</td></tr>\n",
       "\t<tr><td>6.2           </td><td>3.4           </td><td>5.4           </td><td>2.3           </td><td>Iris-virginica</td></tr>\n",
       "\t<tr><td>5.9           </td><td>3.0           </td><td>5.1           </td><td>1.8           </td><td>Iris-virginica</td></tr>\n",
       "</tbody>\n",
       "</table>\n"
      ],
      "text/latex": [
       "\\begin{tabular}{r|lllll}\n",
       " sepal\\_l & sepal\\_w & petal\\_l & petal\\_w & species\\\\\n",
       "\\hline\n",
       "\t 5.1         & 3.5         & 1.4         & 0.2         & Iris-setosa\\\\\n",
       "\t 4.9         & 3.0         & 1.4         & 0.2         & Iris-setosa\\\\\n",
       "\t 4.7         & 3.2         & 1.3         & 0.2         & Iris-setosa\\\\\n",
       "\t 4.6         & 3.1         & 1.5         & 0.2         & Iris-setosa\\\\\n",
       "\t 5.0         & 3.6         & 1.4         & 0.2         & Iris-setosa\\\\\n",
       "\t 5.4         & 3.9         & 1.7         & 0.4         & Iris-setosa\\\\\n",
       "\t 4.6         & 3.4         & 1.4         & 0.3         & Iris-setosa\\\\\n",
       "\t 5.0         & 3.4         & 1.5         & 0.2         & Iris-setosa\\\\\n",
       "\t 4.4         & 2.9         & 1.4         & 0.2         & Iris-setosa\\\\\n",
       "\t 4.9         & 3.1         & 1.5         & 0.1         & Iris-setosa\\\\\n",
       "\t 5.4         & 3.7         & 1.5         & 0.2         & Iris-setosa\\\\\n",
       "\t 4.8         & 3.4         & 1.6         & 0.2         & Iris-setosa\\\\\n",
       "\t 4.8         & 3.0         & 1.4         & 0.1         & Iris-setosa\\\\\n",
       "\t 4.3         & 3.0         & 1.1         & 0.1         & Iris-setosa\\\\\n",
       "\t 5.8         & 4.0         & 1.2         & 0.2         & Iris-setosa\\\\\n",
       "\t 5.7         & 4.4         & 1.5         & 0.4         & Iris-setosa\\\\\n",
       "\t 5.4         & 3.9         & 1.3         & 0.4         & Iris-setosa\\\\\n",
       "\t 5.1         & 3.5         & 1.4         & 0.3         & Iris-setosa\\\\\n",
       "\t 5.7         & 3.8         & 1.7         & 0.3         & Iris-setosa\\\\\n",
       "\t 5.1         & 3.8         & 1.5         & 0.3         & Iris-setosa\\\\\n",
       "\t 5.4         & 3.4         & 1.7         & 0.2         & Iris-setosa\\\\\n",
       "\t 5.1         & 3.7         & 1.5         & 0.4         & Iris-setosa\\\\\n",
       "\t 4.6         & 3.6         & 1.0         & 0.2         & Iris-setosa\\\\\n",
       "\t 5.1         & 3.3         & 1.7         & 0.5         & Iris-setosa\\\\\n",
       "\t 4.8         & 3.4         & 1.9         & 0.2         & Iris-setosa\\\\\n",
       "\t 5.0         & 3.0         & 1.6         & 0.2         & Iris-setosa\\\\\n",
       "\t 5.0         & 3.4         & 1.6         & 0.4         & Iris-setosa\\\\\n",
       "\t 5.2         & 3.5         & 1.5         & 0.2         & Iris-setosa\\\\\n",
       "\t 5.2         & 3.4         & 1.4         & 0.2         & Iris-setosa\\\\\n",
       "\t 4.7         & 3.2         & 1.6         & 0.2         & Iris-setosa\\\\\n",
       "\t ⋮ & ⋮ & ⋮ & ⋮ & ⋮\\\\\n",
       "\t 6.9            & 3.2            & 5.7            & 2.3            & Iris-virginica\\\\\n",
       "\t 5.6            & 2.8            & 4.9            & 2.0            & Iris-virginica\\\\\n",
       "\t 7.7            & 2.8            & 6.7            & 2.0            & Iris-virginica\\\\\n",
       "\t 6.3            & 2.7            & 4.9            & 1.8            & Iris-virginica\\\\\n",
       "\t 6.7            & 3.3            & 5.7            & 2.1            & Iris-virginica\\\\\n",
       "\t 7.2            & 3.2            & 6.0            & 1.8            & Iris-virginica\\\\\n",
       "\t 6.2            & 2.8            & 4.8            & 1.8            & Iris-virginica\\\\\n",
       "\t 6.1            & 3.0            & 4.9            & 1.8            & Iris-virginica\\\\\n",
       "\t 6.4            & 2.8            & 5.6            & 2.1            & Iris-virginica\\\\\n",
       "\t 7.2            & 3.0            & 5.8            & 1.6            & Iris-virginica\\\\\n",
       "\t 7.4            & 2.8            & 6.1            & 1.9            & Iris-virginica\\\\\n",
       "\t 7.9            & 3.8            & 6.4            & 2.0            & Iris-virginica\\\\\n",
       "\t 6.4            & 2.8            & 5.6            & 2.2            & Iris-virginica\\\\\n",
       "\t 6.3            & 2.8            & 5.1            & 1.5            & Iris-virginica\\\\\n",
       "\t 6.1            & 2.6            & 5.6            & 1.4            & Iris-virginica\\\\\n",
       "\t 7.7            & 3.0            & 6.1            & 2.3            & Iris-virginica\\\\\n",
       "\t 6.3            & 3.4            & 5.6            & 2.4            & Iris-virginica\\\\\n",
       "\t 6.4            & 3.1            & 5.5            & 1.8            & Iris-virginica\\\\\n",
       "\t 6.0            & 3.0            & 4.8            & 1.8            & Iris-virginica\\\\\n",
       "\t 6.9            & 3.1            & 5.4            & 2.1            & Iris-virginica\\\\\n",
       "\t 6.7            & 3.1            & 5.6            & 2.4            & Iris-virginica\\\\\n",
       "\t 6.9            & 3.1            & 5.1            & 2.3            & Iris-virginica\\\\\n",
       "\t 5.8            & 2.7            & 5.1            & 1.9            & Iris-virginica\\\\\n",
       "\t 6.8            & 3.2            & 5.9            & 2.3            & Iris-virginica\\\\\n",
       "\t 6.7            & 3.3            & 5.7            & 2.5            & Iris-virginica\\\\\n",
       "\t 6.7            & 3.0            & 5.2            & 2.3            & Iris-virginica\\\\\n",
       "\t 6.3            & 2.5            & 5.0            & 1.9            & Iris-virginica\\\\\n",
       "\t 6.5            & 3.0            & 5.2            & 2.0            & Iris-virginica\\\\\n",
       "\t 6.2            & 3.4            & 5.4            & 2.3            & Iris-virginica\\\\\n",
       "\t 5.9            & 3.0            & 5.1            & 1.8            & Iris-virginica\\\\\n",
       "\\end{tabular}\n"
      ],
      "text/markdown": [
       "\n",
       "sepal_l | sepal_w | petal_l | petal_w | species | \n",
       "|---|---|---|---|---|---|---|---|---|---|---|---|---|---|---|---|---|---|---|---|---|---|---|---|---|---|---|---|---|---|---|---|---|---|---|---|---|---|---|---|---|---|---|---|---|---|---|---|---|---|---|---|---|---|---|---|---|---|---|---|---|\n",
       "| 5.1         | 3.5         | 1.4         | 0.2         | Iris-setosa | \n",
       "| 4.9         | 3.0         | 1.4         | 0.2         | Iris-setosa | \n",
       "| 4.7         | 3.2         | 1.3         | 0.2         | Iris-setosa | \n",
       "| 4.6         | 3.1         | 1.5         | 0.2         | Iris-setosa | \n",
       "| 5.0         | 3.6         | 1.4         | 0.2         | Iris-setosa | \n",
       "| 5.4         | 3.9         | 1.7         | 0.4         | Iris-setosa | \n",
       "| 4.6         | 3.4         | 1.4         | 0.3         | Iris-setosa | \n",
       "| 5.0         | 3.4         | 1.5         | 0.2         | Iris-setosa | \n",
       "| 4.4         | 2.9         | 1.4         | 0.2         | Iris-setosa | \n",
       "| 4.9         | 3.1         | 1.5         | 0.1         | Iris-setosa | \n",
       "| 5.4         | 3.7         | 1.5         | 0.2         | Iris-setosa | \n",
       "| 4.8         | 3.4         | 1.6         | 0.2         | Iris-setosa | \n",
       "| 4.8         | 3.0         | 1.4         | 0.1         | Iris-setosa | \n",
       "| 4.3         | 3.0         | 1.1         | 0.1         | Iris-setosa | \n",
       "| 5.8         | 4.0         | 1.2         | 0.2         | Iris-setosa | \n",
       "| 5.7         | 4.4         | 1.5         | 0.4         | Iris-setosa | \n",
       "| 5.4         | 3.9         | 1.3         | 0.4         | Iris-setosa | \n",
       "| 5.1         | 3.5         | 1.4         | 0.3         | Iris-setosa | \n",
       "| 5.7         | 3.8         | 1.7         | 0.3         | Iris-setosa | \n",
       "| 5.1         | 3.8         | 1.5         | 0.3         | Iris-setosa | \n",
       "| 5.4         | 3.4         | 1.7         | 0.2         | Iris-setosa | \n",
       "| 5.1         | 3.7         | 1.5         | 0.4         | Iris-setosa | \n",
       "| 4.6         | 3.6         | 1.0         | 0.2         | Iris-setosa | \n",
       "| 5.1         | 3.3         | 1.7         | 0.5         | Iris-setosa | \n",
       "| 4.8         | 3.4         | 1.9         | 0.2         | Iris-setosa | \n",
       "| 5.0         | 3.0         | 1.6         | 0.2         | Iris-setosa | \n",
       "| 5.0         | 3.4         | 1.6         | 0.4         | Iris-setosa | \n",
       "| 5.2         | 3.5         | 1.5         | 0.2         | Iris-setosa | \n",
       "| 5.2         | 3.4         | 1.4         | 0.2         | Iris-setosa | \n",
       "| 4.7         | 3.2         | 1.6         | 0.2         | Iris-setosa | \n",
       "| ⋮ | ⋮ | ⋮ | ⋮ | ⋮ | \n",
       "| 6.9            | 3.2            | 5.7            | 2.3            | Iris-virginica | \n",
       "| 5.6            | 2.8            | 4.9            | 2.0            | Iris-virginica | \n",
       "| 7.7            | 2.8            | 6.7            | 2.0            | Iris-virginica | \n",
       "| 6.3            | 2.7            | 4.9            | 1.8            | Iris-virginica | \n",
       "| 6.7            | 3.3            | 5.7            | 2.1            | Iris-virginica | \n",
       "| 7.2            | 3.2            | 6.0            | 1.8            | Iris-virginica | \n",
       "| 6.2            | 2.8            | 4.8            | 1.8            | Iris-virginica | \n",
       "| 6.1            | 3.0            | 4.9            | 1.8            | Iris-virginica | \n",
       "| 6.4            | 2.8            | 5.6            | 2.1            | Iris-virginica | \n",
       "| 7.2            | 3.0            | 5.8            | 1.6            | Iris-virginica | \n",
       "| 7.4            | 2.8            | 6.1            | 1.9            | Iris-virginica | \n",
       "| 7.9            | 3.8            | 6.4            | 2.0            | Iris-virginica | \n",
       "| 6.4            | 2.8            | 5.6            | 2.2            | Iris-virginica | \n",
       "| 6.3            | 2.8            | 5.1            | 1.5            | Iris-virginica | \n",
       "| 6.1            | 2.6            | 5.6            | 1.4            | Iris-virginica | \n",
       "| 7.7            | 3.0            | 6.1            | 2.3            | Iris-virginica | \n",
       "| 6.3            | 3.4            | 5.6            | 2.4            | Iris-virginica | \n",
       "| 6.4            | 3.1            | 5.5            | 1.8            | Iris-virginica | \n",
       "| 6.0            | 3.0            | 4.8            | 1.8            | Iris-virginica | \n",
       "| 6.9            | 3.1            | 5.4            | 2.1            | Iris-virginica | \n",
       "| 6.7            | 3.1            | 5.6            | 2.4            | Iris-virginica | \n",
       "| 6.9            | 3.1            | 5.1            | 2.3            | Iris-virginica | \n",
       "| 5.8            | 2.7            | 5.1            | 1.9            | Iris-virginica | \n",
       "| 6.8            | 3.2            | 5.9            | 2.3            | Iris-virginica | \n",
       "| 6.7            | 3.3            | 5.7            | 2.5            | Iris-virginica | \n",
       "| 6.7            | 3.0            | 5.2            | 2.3            | Iris-virginica | \n",
       "| 6.3            | 2.5            | 5.0            | 1.9            | Iris-virginica | \n",
       "| 6.5            | 3.0            | 5.2            | 2.0            | Iris-virginica | \n",
       "| 6.2            | 3.4            | 5.4            | 2.3            | Iris-virginica | \n",
       "| 5.9            | 3.0            | 5.1            | 1.8            | Iris-virginica | \n",
       "\n",
       "\n"
      ],
      "text/plain": [
       "    sepal_l sepal_w petal_l petal_w species       \n",
       "1   5.1     3.5     1.4     0.2     Iris-setosa   \n",
       "2   4.9     3.0     1.4     0.2     Iris-setosa   \n",
       "3   4.7     3.2     1.3     0.2     Iris-setosa   \n",
       "4   4.6     3.1     1.5     0.2     Iris-setosa   \n",
       "5   5.0     3.6     1.4     0.2     Iris-setosa   \n",
       "6   5.4     3.9     1.7     0.4     Iris-setosa   \n",
       "7   4.6     3.4     1.4     0.3     Iris-setosa   \n",
       "8   5.0     3.4     1.5     0.2     Iris-setosa   \n",
       "9   4.4     2.9     1.4     0.2     Iris-setosa   \n",
       "10  4.9     3.1     1.5     0.1     Iris-setosa   \n",
       "11  5.4     3.7     1.5     0.2     Iris-setosa   \n",
       "12  4.8     3.4     1.6     0.2     Iris-setosa   \n",
       "13  4.8     3.0     1.4     0.1     Iris-setosa   \n",
       "14  4.3     3.0     1.1     0.1     Iris-setosa   \n",
       "15  5.8     4.0     1.2     0.2     Iris-setosa   \n",
       "16  5.7     4.4     1.5     0.4     Iris-setosa   \n",
       "17  5.4     3.9     1.3     0.4     Iris-setosa   \n",
       "18  5.1     3.5     1.4     0.3     Iris-setosa   \n",
       "19  5.7     3.8     1.7     0.3     Iris-setosa   \n",
       "20  5.1     3.8     1.5     0.3     Iris-setosa   \n",
       "21  5.4     3.4     1.7     0.2     Iris-setosa   \n",
       "22  5.1     3.7     1.5     0.4     Iris-setosa   \n",
       "23  4.6     3.6     1.0     0.2     Iris-setosa   \n",
       "24  5.1     3.3     1.7     0.5     Iris-setosa   \n",
       "25  4.8     3.4     1.9     0.2     Iris-setosa   \n",
       "26  5.0     3.0     1.6     0.2     Iris-setosa   \n",
       "27  5.0     3.4     1.6     0.4     Iris-setosa   \n",
       "28  5.2     3.5     1.5     0.2     Iris-setosa   \n",
       "29  5.2     3.4     1.4     0.2     Iris-setosa   \n",
       "30  4.7     3.2     1.6     0.2     Iris-setosa   \n",
       "⋮   ⋮       ⋮       ⋮       ⋮       ⋮             \n",
       "121 6.9     3.2     5.7     2.3     Iris-virginica\n",
       "122 5.6     2.8     4.9     2.0     Iris-virginica\n",
       "123 7.7     2.8     6.7     2.0     Iris-virginica\n",
       "124 6.3     2.7     4.9     1.8     Iris-virginica\n",
       "125 6.7     3.3     5.7     2.1     Iris-virginica\n",
       "126 7.2     3.2     6.0     1.8     Iris-virginica\n",
       "127 6.2     2.8     4.8     1.8     Iris-virginica\n",
       "128 6.1     3.0     4.9     1.8     Iris-virginica\n",
       "129 6.4     2.8     5.6     2.1     Iris-virginica\n",
       "130 7.2     3.0     5.8     1.6     Iris-virginica\n",
       "131 7.4     2.8     6.1     1.9     Iris-virginica\n",
       "132 7.9     3.8     6.4     2.0     Iris-virginica\n",
       "133 6.4     2.8     5.6     2.2     Iris-virginica\n",
       "134 6.3     2.8     5.1     1.5     Iris-virginica\n",
       "135 6.1     2.6     5.6     1.4     Iris-virginica\n",
       "136 7.7     3.0     6.1     2.3     Iris-virginica\n",
       "137 6.3     3.4     5.6     2.4     Iris-virginica\n",
       "138 6.4     3.1     5.5     1.8     Iris-virginica\n",
       "139 6.0     3.0     4.8     1.8     Iris-virginica\n",
       "140 6.9     3.1     5.4     2.1     Iris-virginica\n",
       "141 6.7     3.1     5.6     2.4     Iris-virginica\n",
       "142 6.9     3.1     5.1     2.3     Iris-virginica\n",
       "143 5.8     2.7     5.1     1.9     Iris-virginica\n",
       "144 6.8     3.2     5.9     2.3     Iris-virginica\n",
       "145 6.7     3.3     5.7     2.5     Iris-virginica\n",
       "146 6.7     3.0     5.2     2.3     Iris-virginica\n",
       "147 6.3     2.5     5.0     1.9     Iris-virginica\n",
       "148 6.5     3.0     5.2     2.0     Iris-virginica\n",
       "149 6.2     3.4     5.4     2.3     Iris-virginica\n",
       "150 5.9     3.0     5.1     1.8     Iris-virginica"
      ]
     },
     "metadata": {},
     "output_type": "display_data"
    }
   ],
   "source": [
    "iris"
   ]
  },
  {
   "cell_type": "code",
   "execution_count": 33,
   "metadata": {
    "collapsed": false
   },
   "outputs": [
    {
     "data": {
      "text/html": [
       "<ol class=list-inline>\n",
       "\t<li>'sepal_l'</li>\n",
       "\t<li>'sepal_w'</li>\n",
       "\t<li>'petal_l'</li>\n",
       "\t<li>'petal_w'</li>\n",
       "\t<li>'species'</li>\n",
       "</ol>\n"
      ],
      "text/latex": [
       "\\begin{enumerate*}\n",
       "\\item 'sepal\\_l'\n",
       "\\item 'sepal\\_w'\n",
       "\\item 'petal\\_l'\n",
       "\\item 'petal\\_w'\n",
       "\\item 'species'\n",
       "\\end{enumerate*}\n"
      ],
      "text/markdown": [
       "1. 'sepal_l'\n",
       "2. 'sepal_w'\n",
       "3. 'petal_l'\n",
       "4. 'petal_w'\n",
       "5. 'species'\n",
       "\n",
       "\n"
      ],
      "text/plain": [
       "[1] \"sepal_l\" \"sepal_w\" \"petal_l\" \"petal_w\" \"species\""
      ]
     },
     "metadata": {},
     "output_type": "display_data"
    }
   ],
   "source": [
    "colnames(iris)"
   ]
  },
  {
   "cell_type": "code",
   "execution_count": 34,
   "metadata": {
    "collapsed": false
   },
   "outputs": [
    {
     "data": {
      "text/plain": [
       "    sepal_l         sepal_w         petal_l         petal_w     \n",
       " Min.   :4.300   Min.   :2.000   Min.   :1.000   Min.   :0.100  \n",
       " 1st Qu.:5.100   1st Qu.:2.800   1st Qu.:1.600   1st Qu.:0.300  \n",
       " Median :5.800   Median :3.000   Median :4.350   Median :1.300  \n",
       " Mean   :5.843   Mean   :3.057   Mean   :3.758   Mean   :1.199  \n",
       " 3rd Qu.:6.400   3rd Qu.:3.300   3rd Qu.:5.100   3rd Qu.:1.800  \n",
       " Max.   :7.900   Max.   :4.400   Max.   :6.900   Max.   :2.500  \n",
       "            species  \n",
       " Iris-setosa    :50  \n",
       " Iris-versicolor:50  \n",
       " Iris-virginica :50  \n",
       "                     \n",
       "                     \n",
       "                     "
      ]
     },
     "metadata": {},
     "output_type": "display_data"
    }
   ],
   "source": [
    "summary(iris)"
   ]
  },
  {
   "cell_type": "code",
   "execution_count": 38,
   "metadata": {
    "collapsed": false
   },
   "outputs": [
    {
     "data": {
      "text/html": [
       "0.685693512304251"
      ],
      "text/latex": [
       "0.685693512304251"
      ],
      "text/markdown": [
       "0.685693512304251"
      ],
      "text/plain": [
       "[1] 0.6856935"
      ]
     },
     "metadata": {},
     "output_type": "display_data"
    }
   ],
   "source": [
    "var(iris$sepal_l)"
   ]
  },
  {
   "cell_type": "code",
   "execution_count": 39,
   "metadata": {
    "collapsed": false
   },
   "outputs": [
    {
     "data": {
      "text/html": [
       "0.189979418344519"
      ],
      "text/latex": [
       "0.189979418344519"
      ],
      "text/markdown": [
       "0.189979418344519"
      ],
      "text/plain": [
       "[1] 0.1899794"
      ]
     },
     "metadata": {},
     "output_type": "display_data"
    }
   ],
   "source": [
    "var(iris$sepal_w)"
   ]
  },
  {
   "cell_type": "code",
   "execution_count": 40,
   "metadata": {
    "collapsed": false
   },
   "outputs": [
    {
     "data": {
      "text/html": [
       "3.11627785234899"
      ],
      "text/latex": [
       "3.11627785234899"
      ],
      "text/markdown": [
       "3.11627785234899"
      ],
      "text/plain": [
       "[1] 3.116278"
      ]
     },
     "metadata": {},
     "output_type": "display_data"
    }
   ],
   "source": [
    "var(iris$petal_l)"
   ]
  },
  {
   "cell_type": "code",
   "execution_count": 41,
   "metadata": {
    "collapsed": false
   },
   "outputs": [
    {
     "data": {
      "text/html": [
       "0.581006263982103"
      ],
      "text/latex": [
       "0.581006263982103"
      ],
      "text/markdown": [
       "0.581006263982103"
      ],
      "text/plain": [
       "[1] 0.5810063"
      ]
     },
     "metadata": {},
     "output_type": "display_data"
    }
   ],
   "source": [
    "var(iris$petal_w)"
   ]
  },
  {
   "cell_type": "code",
   "execution_count": 43,
   "metadata": {
    "collapsed": false
   },
   "outputs": [
    {
     "data": {
      "text/html": [
       "<table>\n",
       "<thead><tr><th scope=col>sepal_l</th><th scope=col>sepal_w</th><th scope=col>petal_l</th><th scope=col>petal_w</th><th scope=col>species</th></tr></thead>\n",
       "<tbody>\n",
       "\t<tr><td>5.1        </td><td>3.5        </td><td>1.4        </td><td>0.2        </td><td>Iris-setosa</td></tr>\n",
       "\t<tr><td>4.9        </td><td>3.0        </td><td>1.4        </td><td>0.2        </td><td>Iris-setosa</td></tr>\n",
       "\t<tr><td>4.7        </td><td>3.2        </td><td>1.3        </td><td>0.2        </td><td>Iris-setosa</td></tr>\n",
       "\t<tr><td>4.6        </td><td>3.1        </td><td>1.5        </td><td>0.2        </td><td>Iris-setosa</td></tr>\n",
       "\t<tr><td>5.0        </td><td>3.6        </td><td>1.4        </td><td>0.2        </td><td>Iris-setosa</td></tr>\n",
       "\t<tr><td>5.4        </td><td>3.9        </td><td>1.7        </td><td>0.4        </td><td>Iris-setosa</td></tr>\n",
       "\t<tr><td>4.6        </td><td>3.4        </td><td>1.4        </td><td>0.3        </td><td>Iris-setosa</td></tr>\n",
       "\t<tr><td>5.0        </td><td>3.4        </td><td>1.5        </td><td>0.2        </td><td>Iris-setosa</td></tr>\n",
       "\t<tr><td>4.4        </td><td>2.9        </td><td>1.4        </td><td>0.2        </td><td>Iris-setosa</td></tr>\n",
       "\t<tr><td>4.9        </td><td>3.1        </td><td>1.5        </td><td>0.1        </td><td>Iris-setosa</td></tr>\n",
       "\t<tr><td>5.4        </td><td>3.7        </td><td>1.5        </td><td>0.2        </td><td>Iris-setosa</td></tr>\n",
       "\t<tr><td>4.8        </td><td>3.4        </td><td>1.6        </td><td>0.2        </td><td>Iris-setosa</td></tr>\n",
       "\t<tr><td>4.8        </td><td>3.0        </td><td>1.4        </td><td>0.1        </td><td>Iris-setosa</td></tr>\n",
       "\t<tr><td>4.3        </td><td>3.0        </td><td>1.1        </td><td>0.1        </td><td>Iris-setosa</td></tr>\n",
       "\t<tr><td>5.8        </td><td>4.0        </td><td>1.2        </td><td>0.2        </td><td>Iris-setosa</td></tr>\n",
       "\t<tr><td>5.7        </td><td>4.4        </td><td>1.5        </td><td>0.4        </td><td>Iris-setosa</td></tr>\n",
       "\t<tr><td>5.4        </td><td>3.9        </td><td>1.3        </td><td>0.4        </td><td>Iris-setosa</td></tr>\n",
       "\t<tr><td>5.1        </td><td>3.5        </td><td>1.4        </td><td>0.3        </td><td>Iris-setosa</td></tr>\n",
       "\t<tr><td>5.7        </td><td>3.8        </td><td>1.7        </td><td>0.3        </td><td>Iris-setosa</td></tr>\n",
       "\t<tr><td>5.1        </td><td>3.8        </td><td>1.5        </td><td>0.3        </td><td>Iris-setosa</td></tr>\n",
       "\t<tr><td>5.4        </td><td>3.4        </td><td>1.7        </td><td>0.2        </td><td>Iris-setosa</td></tr>\n",
       "\t<tr><td>5.1        </td><td>3.7        </td><td>1.5        </td><td>0.4        </td><td>Iris-setosa</td></tr>\n",
       "\t<tr><td>4.6        </td><td>3.6        </td><td>1.0        </td><td>0.2        </td><td>Iris-setosa</td></tr>\n",
       "\t<tr><td>5.1        </td><td>3.3        </td><td>1.7        </td><td>0.5        </td><td>Iris-setosa</td></tr>\n",
       "\t<tr><td>4.8        </td><td>3.4        </td><td>1.9        </td><td>0.2        </td><td>Iris-setosa</td></tr>\n",
       "\t<tr><td>5.0        </td><td>3.0        </td><td>1.6        </td><td>0.2        </td><td>Iris-setosa</td></tr>\n",
       "\t<tr><td>5.0        </td><td>3.4        </td><td>1.6        </td><td>0.4        </td><td>Iris-setosa</td></tr>\n",
       "\t<tr><td>5.2        </td><td>3.5        </td><td>1.5        </td><td>0.2        </td><td>Iris-setosa</td></tr>\n",
       "\t<tr><td>5.2        </td><td>3.4        </td><td>1.4        </td><td>0.2        </td><td>Iris-setosa</td></tr>\n",
       "\t<tr><td>4.7        </td><td>3.2        </td><td>1.6        </td><td>0.2        </td><td>Iris-setosa</td></tr>\n",
       "\t<tr><td>4.8        </td><td>3.1        </td><td>1.6        </td><td>0.2        </td><td>Iris-setosa</td></tr>\n",
       "\t<tr><td>5.4        </td><td>3.4        </td><td>1.5        </td><td>0.4        </td><td>Iris-setosa</td></tr>\n",
       "\t<tr><td>5.2        </td><td>4.1        </td><td>1.5        </td><td>0.1        </td><td>Iris-setosa</td></tr>\n",
       "\t<tr><td>5.5        </td><td>4.2        </td><td>1.4        </td><td>0.2        </td><td>Iris-setosa</td></tr>\n",
       "\t<tr><td>4.9        </td><td>3.1        </td><td>1.5        </td><td>0.2        </td><td>Iris-setosa</td></tr>\n",
       "\t<tr><td>5.0        </td><td>3.2        </td><td>1.2        </td><td>0.2        </td><td>Iris-setosa</td></tr>\n",
       "\t<tr><td>5.5        </td><td>3.5        </td><td>1.3        </td><td>0.2        </td><td>Iris-setosa</td></tr>\n",
       "\t<tr><td>4.9        </td><td>3.6        </td><td>1.4        </td><td>0.1        </td><td>Iris-setosa</td></tr>\n",
       "\t<tr><td>4.4        </td><td>3.0        </td><td>1.3        </td><td>0.2        </td><td>Iris-setosa</td></tr>\n",
       "\t<tr><td>5.1        </td><td>3.4        </td><td>1.5        </td><td>0.2        </td><td>Iris-setosa</td></tr>\n",
       "\t<tr><td>5.0        </td><td>3.5        </td><td>1.3        </td><td>0.3        </td><td>Iris-setosa</td></tr>\n",
       "\t<tr><td>4.5        </td><td>2.3        </td><td>1.3        </td><td>0.3        </td><td>Iris-setosa</td></tr>\n",
       "\t<tr><td>4.4        </td><td>3.2        </td><td>1.3        </td><td>0.2        </td><td>Iris-setosa</td></tr>\n",
       "\t<tr><td>5.0        </td><td>3.5        </td><td>1.6        </td><td>0.6        </td><td>Iris-setosa</td></tr>\n",
       "\t<tr><td>5.1        </td><td>3.8        </td><td>1.9        </td><td>0.4        </td><td>Iris-setosa</td></tr>\n",
       "\t<tr><td>4.8        </td><td>3.0        </td><td>1.4        </td><td>0.3        </td><td>Iris-setosa</td></tr>\n",
       "\t<tr><td>5.1        </td><td>3.8        </td><td>1.6        </td><td>0.2        </td><td>Iris-setosa</td></tr>\n",
       "\t<tr><td>4.6        </td><td>3.2        </td><td>1.4        </td><td>0.2        </td><td>Iris-setosa</td></tr>\n",
       "\t<tr><td>5.3        </td><td>3.7        </td><td>1.5        </td><td>0.2        </td><td>Iris-setosa</td></tr>\n",
       "\t<tr><td>5.0        </td><td>3.3        </td><td>1.4        </td><td>0.2        </td><td>Iris-setosa</td></tr>\n",
       "</tbody>\n",
       "</table>\n"
      ],
      "text/latex": [
       "\\begin{tabular}{r|lllll}\n",
       " sepal\\_l & sepal\\_w & petal\\_l & petal\\_w & species\\\\\n",
       "\\hline\n",
       "\t 5.1         & 3.5         & 1.4         & 0.2         & Iris-setosa\\\\\n",
       "\t 4.9         & 3.0         & 1.4         & 0.2         & Iris-setosa\\\\\n",
       "\t 4.7         & 3.2         & 1.3         & 0.2         & Iris-setosa\\\\\n",
       "\t 4.6         & 3.1         & 1.5         & 0.2         & Iris-setosa\\\\\n",
       "\t 5.0         & 3.6         & 1.4         & 0.2         & Iris-setosa\\\\\n",
       "\t 5.4         & 3.9         & 1.7         & 0.4         & Iris-setosa\\\\\n",
       "\t 4.6         & 3.4         & 1.4         & 0.3         & Iris-setosa\\\\\n",
       "\t 5.0         & 3.4         & 1.5         & 0.2         & Iris-setosa\\\\\n",
       "\t 4.4         & 2.9         & 1.4         & 0.2         & Iris-setosa\\\\\n",
       "\t 4.9         & 3.1         & 1.5         & 0.1         & Iris-setosa\\\\\n",
       "\t 5.4         & 3.7         & 1.5         & 0.2         & Iris-setosa\\\\\n",
       "\t 4.8         & 3.4         & 1.6         & 0.2         & Iris-setosa\\\\\n",
       "\t 4.8         & 3.0         & 1.4         & 0.1         & Iris-setosa\\\\\n",
       "\t 4.3         & 3.0         & 1.1         & 0.1         & Iris-setosa\\\\\n",
       "\t 5.8         & 4.0         & 1.2         & 0.2         & Iris-setosa\\\\\n",
       "\t 5.7         & 4.4         & 1.5         & 0.4         & Iris-setosa\\\\\n",
       "\t 5.4         & 3.9         & 1.3         & 0.4         & Iris-setosa\\\\\n",
       "\t 5.1         & 3.5         & 1.4         & 0.3         & Iris-setosa\\\\\n",
       "\t 5.7         & 3.8         & 1.7         & 0.3         & Iris-setosa\\\\\n",
       "\t 5.1         & 3.8         & 1.5         & 0.3         & Iris-setosa\\\\\n",
       "\t 5.4         & 3.4         & 1.7         & 0.2         & Iris-setosa\\\\\n",
       "\t 5.1         & 3.7         & 1.5         & 0.4         & Iris-setosa\\\\\n",
       "\t 4.6         & 3.6         & 1.0         & 0.2         & Iris-setosa\\\\\n",
       "\t 5.1         & 3.3         & 1.7         & 0.5         & Iris-setosa\\\\\n",
       "\t 4.8         & 3.4         & 1.9         & 0.2         & Iris-setosa\\\\\n",
       "\t 5.0         & 3.0         & 1.6         & 0.2         & Iris-setosa\\\\\n",
       "\t 5.0         & 3.4         & 1.6         & 0.4         & Iris-setosa\\\\\n",
       "\t 5.2         & 3.5         & 1.5         & 0.2         & Iris-setosa\\\\\n",
       "\t 5.2         & 3.4         & 1.4         & 0.2         & Iris-setosa\\\\\n",
       "\t 4.7         & 3.2         & 1.6         & 0.2         & Iris-setosa\\\\\n",
       "\t 4.8         & 3.1         & 1.6         & 0.2         & Iris-setosa\\\\\n",
       "\t 5.4         & 3.4         & 1.5         & 0.4         & Iris-setosa\\\\\n",
       "\t 5.2         & 4.1         & 1.5         & 0.1         & Iris-setosa\\\\\n",
       "\t 5.5         & 4.2         & 1.4         & 0.2         & Iris-setosa\\\\\n",
       "\t 4.9         & 3.1         & 1.5         & 0.2         & Iris-setosa\\\\\n",
       "\t 5.0         & 3.2         & 1.2         & 0.2         & Iris-setosa\\\\\n",
       "\t 5.5         & 3.5         & 1.3         & 0.2         & Iris-setosa\\\\\n",
       "\t 4.9         & 3.6         & 1.4         & 0.1         & Iris-setosa\\\\\n",
       "\t 4.4         & 3.0         & 1.3         & 0.2         & Iris-setosa\\\\\n",
       "\t 5.1         & 3.4         & 1.5         & 0.2         & Iris-setosa\\\\\n",
       "\t 5.0         & 3.5         & 1.3         & 0.3         & Iris-setosa\\\\\n",
       "\t 4.5         & 2.3         & 1.3         & 0.3         & Iris-setosa\\\\\n",
       "\t 4.4         & 3.2         & 1.3         & 0.2         & Iris-setosa\\\\\n",
       "\t 5.0         & 3.5         & 1.6         & 0.6         & Iris-setosa\\\\\n",
       "\t 5.1         & 3.8         & 1.9         & 0.4         & Iris-setosa\\\\\n",
       "\t 4.8         & 3.0         & 1.4         & 0.3         & Iris-setosa\\\\\n",
       "\t 5.1         & 3.8         & 1.6         & 0.2         & Iris-setosa\\\\\n",
       "\t 4.6         & 3.2         & 1.4         & 0.2         & Iris-setosa\\\\\n",
       "\t 5.3         & 3.7         & 1.5         & 0.2         & Iris-setosa\\\\\n",
       "\t 5.0         & 3.3         & 1.4         & 0.2         & Iris-setosa\\\\\n",
       "\\end{tabular}\n"
      ],
      "text/markdown": [
       "\n",
       "sepal_l | sepal_w | petal_l | petal_w | species | \n",
       "|---|---|---|---|---|---|---|---|---|---|---|---|---|---|---|---|---|---|---|---|---|---|---|---|---|---|---|---|---|---|---|---|---|---|---|---|---|---|---|---|---|---|---|---|---|---|---|---|---|---|\n",
       "| 5.1         | 3.5         | 1.4         | 0.2         | Iris-setosa | \n",
       "| 4.9         | 3.0         | 1.4         | 0.2         | Iris-setosa | \n",
       "| 4.7         | 3.2         | 1.3         | 0.2         | Iris-setosa | \n",
       "| 4.6         | 3.1         | 1.5         | 0.2         | Iris-setosa | \n",
       "| 5.0         | 3.6         | 1.4         | 0.2         | Iris-setosa | \n",
       "| 5.4         | 3.9         | 1.7         | 0.4         | Iris-setosa | \n",
       "| 4.6         | 3.4         | 1.4         | 0.3         | Iris-setosa | \n",
       "| 5.0         | 3.4         | 1.5         | 0.2         | Iris-setosa | \n",
       "| 4.4         | 2.9         | 1.4         | 0.2         | Iris-setosa | \n",
       "| 4.9         | 3.1         | 1.5         | 0.1         | Iris-setosa | \n",
       "| 5.4         | 3.7         | 1.5         | 0.2         | Iris-setosa | \n",
       "| 4.8         | 3.4         | 1.6         | 0.2         | Iris-setosa | \n",
       "| 4.8         | 3.0         | 1.4         | 0.1         | Iris-setosa | \n",
       "| 4.3         | 3.0         | 1.1         | 0.1         | Iris-setosa | \n",
       "| 5.8         | 4.0         | 1.2         | 0.2         | Iris-setosa | \n",
       "| 5.7         | 4.4         | 1.5         | 0.4         | Iris-setosa | \n",
       "| 5.4         | 3.9         | 1.3         | 0.4         | Iris-setosa | \n",
       "| 5.1         | 3.5         | 1.4         | 0.3         | Iris-setosa | \n",
       "| 5.7         | 3.8         | 1.7         | 0.3         | Iris-setosa | \n",
       "| 5.1         | 3.8         | 1.5         | 0.3         | Iris-setosa | \n",
       "| 5.4         | 3.4         | 1.7         | 0.2         | Iris-setosa | \n",
       "| 5.1         | 3.7         | 1.5         | 0.4         | Iris-setosa | \n",
       "| 4.6         | 3.6         | 1.0         | 0.2         | Iris-setosa | \n",
       "| 5.1         | 3.3         | 1.7         | 0.5         | Iris-setosa | \n",
       "| 4.8         | 3.4         | 1.9         | 0.2         | Iris-setosa | \n",
       "| 5.0         | 3.0         | 1.6         | 0.2         | Iris-setosa | \n",
       "| 5.0         | 3.4         | 1.6         | 0.4         | Iris-setosa | \n",
       "| 5.2         | 3.5         | 1.5         | 0.2         | Iris-setosa | \n",
       "| 5.2         | 3.4         | 1.4         | 0.2         | Iris-setosa | \n",
       "| 4.7         | 3.2         | 1.6         | 0.2         | Iris-setosa | \n",
       "| 4.8         | 3.1         | 1.6         | 0.2         | Iris-setosa | \n",
       "| 5.4         | 3.4         | 1.5         | 0.4         | Iris-setosa | \n",
       "| 5.2         | 4.1         | 1.5         | 0.1         | Iris-setosa | \n",
       "| 5.5         | 4.2         | 1.4         | 0.2         | Iris-setosa | \n",
       "| 4.9         | 3.1         | 1.5         | 0.2         | Iris-setosa | \n",
       "| 5.0         | 3.2         | 1.2         | 0.2         | Iris-setosa | \n",
       "| 5.5         | 3.5         | 1.3         | 0.2         | Iris-setosa | \n",
       "| 4.9         | 3.6         | 1.4         | 0.1         | Iris-setosa | \n",
       "| 4.4         | 3.0         | 1.3         | 0.2         | Iris-setosa | \n",
       "| 5.1         | 3.4         | 1.5         | 0.2         | Iris-setosa | \n",
       "| 5.0         | 3.5         | 1.3         | 0.3         | Iris-setosa | \n",
       "| 4.5         | 2.3         | 1.3         | 0.3         | Iris-setosa | \n",
       "| 4.4         | 3.2         | 1.3         | 0.2         | Iris-setosa | \n",
       "| 5.0         | 3.5         | 1.6         | 0.6         | Iris-setosa | \n",
       "| 5.1         | 3.8         | 1.9         | 0.4         | Iris-setosa | \n",
       "| 4.8         | 3.0         | 1.4         | 0.3         | Iris-setosa | \n",
       "| 5.1         | 3.8         | 1.6         | 0.2         | Iris-setosa | \n",
       "| 4.6         | 3.2         | 1.4         | 0.2         | Iris-setosa | \n",
       "| 5.3         | 3.7         | 1.5         | 0.2         | Iris-setosa | \n",
       "| 5.0         | 3.3         | 1.4         | 0.2         | Iris-setosa | \n",
       "\n",
       "\n"
      ],
      "text/plain": [
       "   sepal_l sepal_w petal_l petal_w species    \n",
       "1  5.1     3.5     1.4     0.2     Iris-setosa\n",
       "2  4.9     3.0     1.4     0.2     Iris-setosa\n",
       "3  4.7     3.2     1.3     0.2     Iris-setosa\n",
       "4  4.6     3.1     1.5     0.2     Iris-setosa\n",
       "5  5.0     3.6     1.4     0.2     Iris-setosa\n",
       "6  5.4     3.9     1.7     0.4     Iris-setosa\n",
       "7  4.6     3.4     1.4     0.3     Iris-setosa\n",
       "8  5.0     3.4     1.5     0.2     Iris-setosa\n",
       "9  4.4     2.9     1.4     0.2     Iris-setosa\n",
       "10 4.9     3.1     1.5     0.1     Iris-setosa\n",
       "11 5.4     3.7     1.5     0.2     Iris-setosa\n",
       "12 4.8     3.4     1.6     0.2     Iris-setosa\n",
       "13 4.8     3.0     1.4     0.1     Iris-setosa\n",
       "14 4.3     3.0     1.1     0.1     Iris-setosa\n",
       "15 5.8     4.0     1.2     0.2     Iris-setosa\n",
       "16 5.7     4.4     1.5     0.4     Iris-setosa\n",
       "17 5.4     3.9     1.3     0.4     Iris-setosa\n",
       "18 5.1     3.5     1.4     0.3     Iris-setosa\n",
       "19 5.7     3.8     1.7     0.3     Iris-setosa\n",
       "20 5.1     3.8     1.5     0.3     Iris-setosa\n",
       "21 5.4     3.4     1.7     0.2     Iris-setosa\n",
       "22 5.1     3.7     1.5     0.4     Iris-setosa\n",
       "23 4.6     3.6     1.0     0.2     Iris-setosa\n",
       "24 5.1     3.3     1.7     0.5     Iris-setosa\n",
       "25 4.8     3.4     1.9     0.2     Iris-setosa\n",
       "26 5.0     3.0     1.6     0.2     Iris-setosa\n",
       "27 5.0     3.4     1.6     0.4     Iris-setosa\n",
       "28 5.2     3.5     1.5     0.2     Iris-setosa\n",
       "29 5.2     3.4     1.4     0.2     Iris-setosa\n",
       "30 4.7     3.2     1.6     0.2     Iris-setosa\n",
       "31 4.8     3.1     1.6     0.2     Iris-setosa\n",
       "32 5.4     3.4     1.5     0.4     Iris-setosa\n",
       "33 5.2     4.1     1.5     0.1     Iris-setosa\n",
       "34 5.5     4.2     1.4     0.2     Iris-setosa\n",
       "35 4.9     3.1     1.5     0.2     Iris-setosa\n",
       "36 5.0     3.2     1.2     0.2     Iris-setosa\n",
       "37 5.5     3.5     1.3     0.2     Iris-setosa\n",
       "38 4.9     3.6     1.4     0.1     Iris-setosa\n",
       "39 4.4     3.0     1.3     0.2     Iris-setosa\n",
       "40 5.1     3.4     1.5     0.2     Iris-setosa\n",
       "41 5.0     3.5     1.3     0.3     Iris-setosa\n",
       "42 4.5     2.3     1.3     0.3     Iris-setosa\n",
       "43 4.4     3.2     1.3     0.2     Iris-setosa\n",
       "44 5.0     3.5     1.6     0.6     Iris-setosa\n",
       "45 5.1     3.8     1.9     0.4     Iris-setosa\n",
       "46 4.8     3.0     1.4     0.3     Iris-setosa\n",
       "47 5.1     3.8     1.6     0.2     Iris-setosa\n",
       "48 4.6     3.2     1.4     0.2     Iris-setosa\n",
       "49 5.3     3.7     1.5     0.2     Iris-setosa\n",
       "50 5.0     3.3     1.4     0.2     Iris-setosa"
      ]
     },
     "metadata": {},
     "output_type": "display_data"
    }
   ],
   "source": [
    "setosa <- subset(iris, species == \"Iris-setosa\")\n",
    "setosa"
   ]
  },
  {
   "cell_type": "code",
   "execution_count": null,
   "metadata": {
    "collapsed": true
   },
   "outputs": [],
   "source": []
  }
 ],
 "metadata": {
  "kernelspec": {
   "display_name": "R",
   "language": "R",
   "name": "ir"
  },
  "language_info": {
   "codemirror_mode": "r",
   "file_extension": ".r",
   "mimetype": "text/x-r-source",
   "name": "R",
   "pygments_lexer": "r",
   "version": "3.3.3"
  }
 },
 "nbformat": 4,
 "nbformat_minor": 2
}
