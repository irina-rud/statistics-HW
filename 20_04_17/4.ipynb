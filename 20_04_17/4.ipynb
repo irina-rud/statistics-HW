{
 "cells": [
  {
   "cell_type": "code",
   "execution_count": 2,
   "metadata": {
    "collapsed": false,
    "deletable": true,
    "editable": true
   },
   "outputs": [
    {
     "data": {
      "text/html": [
       "<table>\n",
       "<thead><tr><th scope=col>y</th><th scope=col>x1</th><th scope=col>x2</th><th scope=col>x3</th><th scope=col>x4</th><th scope=col>x5</th><th scope=col>x6</th></tr></thead>\n",
       "<tbody>\n",
       "\t<tr><td>0.000 </td><td> 9.824</td><td>0.148 </td><td>2.465 </td><td>2.170 </td><td>1.976 </td><td>51.270</td></tr>\n",
       "\t<tr><td>0.000 </td><td>14.043</td><td>0.156 </td><td>3.654 </td><td>1.177 </td><td>1.991 </td><td>93.413</td></tr>\n",
       "\t<tr><td>0.000 </td><td> 4.031</td><td>0.141 </td><td>4.156 </td><td>1.443 </td><td>1.967 </td><td>19.066</td></tr>\n",
       "\t<tr><td>0.000 </td><td> 6.227</td><td>0.148 </td><td>2.988 </td><td>1.006 </td><td>0.786 </td><td>36.017</td></tr>\n",
       "\t<tr><td>0.000 </td><td>10.066</td><td>0.133 </td><td>2.635 </td><td>1.032 </td><td>1.753 </td><td>48.501</td></tr>\n",
       "\t<tr><td>0.000 </td><td>12.145</td><td>0.188 </td><td>3.659 </td><td>1.622 </td><td>1.913 </td><td>71.442</td></tr>\n",
       "\t<tr><td>0.016 </td><td> 6.832</td><td>0.180 </td><td>3.966 </td><td>2.863 </td><td>1.158 </td><td>31.152</td></tr>\n",
       "\t<tr><td>0.000 </td><td>10.094</td><td>0.117 </td><td>2.309 </td><td>1.868 </td><td>1.669 </td><td>53.962</td></tr>\n",
       "\t<tr><td>0.001 </td><td> 0.211</td><td>0.180 </td><td>2.711 </td><td>1.489 </td><td>1.218 </td><td> 2.804</td></tr>\n",
       "\t<tr><td>0.165 </td><td>13.320</td><td>0.164 </td><td>1.922 </td><td>1.021 </td><td>1.717 </td><td>70.923</td></tr>\n",
       "</tbody>\n",
       "</table>\n"
      ],
      "text/latex": [
       "\\begin{tabular}{r|lllllll}\n",
       " y & x1 & x2 & x3 & x4 & x5 & x6\\\\\n",
       "\\hline\n",
       "\t 0.000  &  9.824 & 0.148  & 2.465  & 2.170  & 1.976  & 51.270\\\\\n",
       "\t 0.000  & 14.043 & 0.156  & 3.654  & 1.177  & 1.991  & 93.413\\\\\n",
       "\t 0.000  &  4.031 & 0.141  & 4.156  & 1.443  & 1.967  & 19.066\\\\\n",
       "\t 0.000  &  6.227 & 0.148  & 2.988  & 1.006  & 0.786  & 36.017\\\\\n",
       "\t 0.000  & 10.066 & 0.133  & 2.635  & 1.032  & 1.753  & 48.501\\\\\n",
       "\t 0.000  & 12.145 & 0.188  & 3.659  & 1.622  & 1.913  & 71.442\\\\\n",
       "\t 0.016  &  6.832 & 0.180  & 3.966  & 2.863  & 1.158  & 31.152\\\\\n",
       "\t 0.000  & 10.094 & 0.117  & 2.309  & 1.868  & 1.669  & 53.962\\\\\n",
       "\t 0.001  &  0.211 & 0.180  & 2.711  & 1.489  & 1.218  &  2.804\\\\\n",
       "\t 0.165  & 13.320 & 0.164  & 1.922  & 1.021  & 1.717  & 70.923\\\\\n",
       "\\end{tabular}\n"
      ],
      "text/markdown": [
       "\n",
       "y | x1 | x2 | x3 | x4 | x5 | x6 | \n",
       "|---|---|---|---|---|---|---|---|---|---|\n",
       "| 0.000  |  9.824 | 0.148  | 2.465  | 2.170  | 1.976  | 51.270 | \n",
       "| 0.000  | 14.043 | 0.156  | 3.654  | 1.177  | 1.991  | 93.413 | \n",
       "| 0.000  |  4.031 | 0.141  | 4.156  | 1.443  | 1.967  | 19.066 | \n",
       "| 0.000  |  6.227 | 0.148  | 2.988  | 1.006  | 0.786  | 36.017 | \n",
       "| 0.000  | 10.066 | 0.133  | 2.635  | 1.032  | 1.753  | 48.501 | \n",
       "| 0.000  | 12.145 | 0.188  | 3.659  | 1.622  | 1.913  | 71.442 | \n",
       "| 0.016  |  6.832 | 0.180  | 3.966  | 2.863  | 1.158  | 31.152 | \n",
       "| 0.000  | 10.094 | 0.117  | 2.309  | 1.868  | 1.669  | 53.962 | \n",
       "| 0.001  |  0.211 | 0.180  | 2.711  | 1.489  | 1.218  |  2.804 | \n",
       "| 0.165  | 13.320 | 0.164  | 1.922  | 1.021  | 1.717  | 70.923 | \n",
       "\n",
       "\n"
      ],
      "text/plain": [
       "   y     x1     x2    x3    x4    x5    x6    \n",
       "1  0.000  9.824 0.148 2.465 2.170 1.976 51.270\n",
       "2  0.000 14.043 0.156 3.654 1.177 1.991 93.413\n",
       "3  0.000  4.031 0.141 4.156 1.443 1.967 19.066\n",
       "4  0.000  6.227 0.148 2.988 1.006 0.786 36.017\n",
       "5  0.000 10.066 0.133 2.635 1.032 1.753 48.501\n",
       "6  0.000 12.145 0.188 3.659 1.622 1.913 71.442\n",
       "7  0.016  6.832 0.180 3.966 2.863 1.158 31.152\n",
       "8  0.000 10.094 0.117 2.309 1.868 1.669 53.962\n",
       "9  0.001  0.211 0.180 2.711 1.489 1.218  2.804\n",
       "10 0.165 13.320 0.164 1.922 1.021 1.717 70.923"
      ]
     },
     "metadata": {},
     "output_type": "display_data"
    }
   ],
   "source": [
    "all <- read.table(\"hw9t4v0.txt\")\n",
    "colnames(all) <- c('y', 'x1', 'x2', 'x3', 'x4', 'x5', 'x6')\n",
    "all[1:10,]"
   ]
  },
  {
   "cell_type": "code",
   "execution_count": 3,
   "metadata": {
    "collapsed": false,
    "deletable": true,
    "editable": true
   },
   "outputs": [],
   "source": [
    "n <- 400\n",
    "q <- 100\n",
    "train <- all[1:n,]\n",
    "test <- all[400:500,]\n"
   ]
  },
  {
   "cell_type": "markdown",
   "metadata": {
    "deletable": true,
    "editable": true
   },
   "source": [
    "После считывания данных и приведения их более-менее приемлимый вид, проведём отбор признаков"
   ]
  },
  {
   "cell_type": "code",
   "execution_count": 4,
   "metadata": {
    "collapsed": false,
    "deletable": true,
    "editable": true
   },
   "outputs": [
    {
     "data": {
      "text/plain": [
       "\n",
       "Call:\n",
       "lm(formula = y ~ x1 + x2 + x3 + x4 + x5, data = train)\n",
       "\n",
       "Residuals:\n",
       "     Min       1Q   Median       3Q      Max \n",
       "-0.05304 -0.03369 -0.02453 -0.01174  0.75895 \n",
       "\n",
       "Coefficients:\n",
       "              Estimate Std. Error t value Pr(>|t|)  \n",
       "(Intercept)  0.0046470  0.0310818   0.150   0.8812  \n",
       "x1           0.0017717  0.0009238   1.918   0.0558 .\n",
       "x2           0.1225043  0.1267663   0.966   0.3344  \n",
       "x3           0.0023659  0.0044113   0.536   0.5920  \n",
       "x4          -0.0069943  0.0062810  -1.114   0.2661  \n",
       "x5          -0.0030622  0.0107356  -0.285   0.7756  \n",
       "---\n",
       "Signif. codes:  0 ‘***’ 0.001 ‘**’ 0.01 ‘*’ 0.05 ‘.’ 0.1 ‘ ’ 1\n",
       "\n",
       "Residual standard error: 0.0848 on 394 degrees of freedom\n",
       "Multiple R-squared:  0.01491,\tAdjusted R-squared:  0.002408 \n",
       "F-statistic: 1.193 on 5 and 394 DF,  p-value: 0.312\n"
      ]
     },
     "metadata": {},
     "output_type": "display_data"
    }
   ],
   "source": [
    "model <- lm(y ~ x1 + x2 + x3 + x4 + x5, data = train)\n",
    "summary(model)\n"
   ]
  },
  {
   "cell_type": "markdown",
   "metadata": {
    "collapsed": false,
    "deletable": true,
    "editable": true
   },
   "source": [
    "Второй, третий и пятый признаки не являеюся значимым для регресии, исключим их из модели"
   ]
  },
  {
   "cell_type": "code",
   "execution_count": 7,
   "metadata": {
    "collapsed": false,
    "deletable": true,
    "editable": true
   },
   "outputs": [
    {
     "data": {
      "text/plain": [
       "\n",
       "Call:\n",
       "lm(formula = y ~ x1 + x4, data = train)\n",
       "\n",
       "Residuals:\n",
       "     Min       1Q   Median       3Q      Max \n",
       "-0.04711 -0.03316 -0.02492 -0.01418  0.75937 \n",
       "\n",
       "Coefficients:\n",
       "              Estimate Std. Error t value Pr(>|t|)  \n",
       "(Intercept)  0.0247606  0.0125599   1.971   0.0494 *\n",
       "x1           0.0017852  0.0009202   1.940   0.0531 .\n",
       "x4          -0.0061633  0.0062217  -0.991   0.3225  \n",
       "---\n",
       "Signif. codes:  0 ‘***’ 0.001 ‘**’ 0.01 ‘*’ 0.05 ‘.’ 0.1 ‘ ’ 1\n",
       "\n",
       "Residual standard error: 0.08461 on 397 degrees of freedom\n",
       "Multiple R-squared:  0.01176,\tAdjusted R-squared:  0.006781 \n",
       "F-statistic: 2.362 on 2 and 397 DF,  p-value: 0.09554\n"
      ]
     },
     "metadata": {},
     "output_type": "display_data"
    }
   ],
   "source": [
    "perfect_model <- lm(y ~ x1 + x4 , data = train)\n",
    "summary(perfect_model)\n"
   ]
  },
  {
   "cell_type": "code",
   "execution_count": 8,
   "metadata": {
    "collapsed": false,
    "deletable": true,
    "editable": true
   },
   "outputs": [
    {
     "data": {
      "text/plain": [
       "     Min.   1st Qu.    Median      Mean   3rd Qu.      Max. \n",
       "-0.394800  0.011860  0.023720  0.002254  0.031230  0.045990 "
      ]
     },
     "metadata": {},
     "output_type": "display_data"
    }
   ],
   "source": [
    "\n",
    "prediction <- predict(perfect_model, newdata=test)\n",
    "dev <- prediction - test$y\n",
    "summary(dev)"
   ]
  },
  {
   "cell_type": "markdown",
   "metadata": {
    "deletable": true,
    "editable": true
   },
   "source": [
    "Остатки маленькие, что показывает, что наша модел выбрана хорошо. посмотрим на них"
   ]
  },
  {
   "cell_type": "code",
   "execution_count": 9,
   "metadata": {
    "collapsed": false,
    "deletable": true,
    "editable": true
   },
   "outputs": [
    {
     "data": {
      "image/png": "[encoded data removed]",
      "text/plain": [
       "Plot with title “Histogram of dev”"
      ]
     },
     "metadata": {},
     "output_type": "display_data"
    }
   ],
   "source": [
    "hist(dev)"
   ]
  }
 ],
 "metadata": {
  "kernelspec": {
   "display_name": "R",
   "language": "R",
   "name": "ir"
  },
  "language_info": {
   "codemirror_mode": "r",
   "file_extension": ".r",
   "mimetype": "text/x-r-source",
   "name": "R",
   "pygments_lexer": "r",
   "version": "3.3.1"
  }
 },
 "nbformat": 4,
 "nbformat_minor": 2
}
