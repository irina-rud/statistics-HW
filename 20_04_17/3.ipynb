{
 "cells": [
  {
   "cell_type": "code",
   "execution_count": 18,
   "metadata": {
    "collapsed": false,
    "deletable": true,
    "editable": true
   },
   "outputs": [
    {
     "data": {
      "text/html": [
       "<table>\n",
       "<thead><tr><th scope=col>y</th><th scope=col>x1</th><th scope=col>x2</th><th scope=col>x3</th><th scope=col>x4</th><th scope=col>x5</th></tr></thead>\n",
       "<tbody>\n",
       "\t<tr><td>1.894 </td><td>1.059 </td><td> 5.074</td><td>0.172 </td><td>2.134 </td><td>44.277</td></tr>\n",
       "\t<tr><td>1.996 </td><td>1.123 </td><td>15.074</td><td>0.188 </td><td>2.389 </td><td>63.779</td></tr>\n",
       "\t<tr><td>1.805 </td><td>2.016 </td><td> 7.695</td><td>0.203 </td><td>3.337 </td><td>63.008</td></tr>\n",
       "\t<tr><td>1.998 </td><td>1.390 </td><td> 1.316</td><td>0.133 </td><td>3.255 </td><td>42.985</td></tr>\n",
       "\t<tr><td>1.996 </td><td>1.111 </td><td>12.508</td><td>0.180 </td><td>2.464 </td><td>58.507</td></tr>\n",
       "\t<tr><td>1.768 </td><td>1.300 </td><td>10.594</td><td>0.133 </td><td>2.208 </td><td>56.031</td></tr>\n",
       "\t<tr><td>2.000 </td><td>1.299 </td><td> 8.195</td><td>0.117 </td><td>2.910 </td><td>52.984</td></tr>\n",
       "\t<tr><td>1.856 </td><td>1.750 </td><td>15.555</td><td>0.148 </td><td>2.645 </td><td>71.427</td></tr>\n",
       "\t<tr><td>1.593 </td><td>1.122 </td><td> 2.348</td><td>0.195 </td><td>3.916 </td><td>41.664</td></tr>\n",
       "\t<tr><td>1.336 </td><td>1.376 </td><td> 0.961</td><td>0.141 </td><td>3.449 </td><td>40.332</td></tr>\n",
       "</tbody>\n",
       "</table>\n"
      ],
      "text/latex": [
       "\\begin{tabular}{r|llllll}\n",
       " y & x1 & x2 & x3 & x4 & x5\\\\\n",
       "\\hline\n",
       "\t 1.894  & 1.059  &  5.074 & 0.172  & 2.134  & 44.277\\\\\n",
       "\t 1.996  & 1.123  & 15.074 & 0.188  & 2.389  & 63.779\\\\\n",
       "\t 1.805  & 2.016  &  7.695 & 0.203  & 3.337  & 63.008\\\\\n",
       "\t 1.998  & 1.390  &  1.316 & 0.133  & 3.255  & 42.985\\\\\n",
       "\t 1.996  & 1.111  & 12.508 & 0.180  & 2.464  & 58.507\\\\\n",
       "\t 1.768  & 1.300  & 10.594 & 0.133  & 2.208  & 56.031\\\\\n",
       "\t 2.000  & 1.299  &  8.195 & 0.117  & 2.910  & 52.984\\\\\n",
       "\t 1.856  & 1.750  & 15.555 & 0.148  & 2.645  & 71.427\\\\\n",
       "\t 1.593  & 1.122  &  2.348 & 0.195  & 3.916  & 41.664\\\\\n",
       "\t 1.336  & 1.376  &  0.961 & 0.141  & 3.449  & 40.332\\\\\n",
       "\\end{tabular}\n"
      ],
      "text/markdown": [
       "\n",
       "y | x1 | x2 | x3 | x4 | x5 | \n",
       "|---|---|---|---|---|---|---|---|---|---|\n",
       "| 1.894  | 1.059  |  5.074 | 0.172  | 2.134  | 44.277 | \n",
       "| 1.996  | 1.123  | 15.074 | 0.188  | 2.389  | 63.779 | \n",
       "| 1.805  | 2.016  |  7.695 | 0.203  | 3.337  | 63.008 | \n",
       "| 1.998  | 1.390  |  1.316 | 0.133  | 3.255  | 42.985 | \n",
       "| 1.996  | 1.111  | 12.508 | 0.180  | 2.464  | 58.507 | \n",
       "| 1.768  | 1.300  | 10.594 | 0.133  | 2.208  | 56.031 | \n",
       "| 2.000  | 1.299  |  8.195 | 0.117  | 2.910  | 52.984 | \n",
       "| 1.856  | 1.750  | 15.555 | 0.148  | 2.645  | 71.427 | \n",
       "| 1.593  | 1.122  |  2.348 | 0.195  | 3.916  | 41.664 | \n",
       "| 1.336  | 1.376  |  0.961 | 0.141  | 3.449  | 40.332 | \n",
       "\n",
       "\n"
      ],
      "text/plain": [
       "   y     x1    x2     x3    x4    x5    \n",
       "1  1.894 1.059  5.074 0.172 2.134 44.277\n",
       "2  1.996 1.123 15.074 0.188 2.389 63.779\n",
       "3  1.805 2.016  7.695 0.203 3.337 63.008\n",
       "4  1.998 1.390  1.316 0.133 3.255 42.985\n",
       "5  1.996 1.111 12.508 0.180 2.464 58.507\n",
       "6  1.768 1.300 10.594 0.133 2.208 56.031\n",
       "7  2.000 1.299  8.195 0.117 2.910 52.984\n",
       "8  1.856 1.750 15.555 0.148 2.645 71.427\n",
       "9  1.593 1.122  2.348 0.195 3.916 41.664\n",
       "10 1.336 1.376  0.961 0.141 3.449 40.332"
      ]
     },
     "metadata": {},
     "output_type": "display_data"
    }
   ],
   "source": [
    "all <- read.table(\"hw9t3v0.txt\")\n",
    "colnames(all) <- c('y', 'x1', 'x2', 'x3', 'x4', 'x5')\n",
    "all[1:10,]"
   ]
  },
  {
   "cell_type": "code",
   "execution_count": 31,
   "metadata": {
    "collapsed": false,
    "deletable": true,
    "editable": true
   },
   "outputs": [],
   "source": [
    "n <- 400\n",
    "q <- 100\n",
    "train <- all[1:n,]\n",
    "test <- all[400:500,]\n"
   ]
  },
  {
   "cell_type": "markdown",
   "metadata": {
    "deletable": true,
    "editable": true
   },
   "source": [
    "После считывания данных и приведения их более-менее приемлимый вид, проведём отбор признаков"
   ]
  },
  {
   "cell_type": "code",
   "execution_count": 20,
   "metadata": {
    "collapsed": false,
    "deletable": true,
    "editable": true
   },
   "outputs": [
    {
     "data": {
      "text/plain": [
       "\n",
       "Call:\n",
       "lm(formula = y ~ x1 + x2 + x3 + x4 + x5, data = train)\n",
       "\n",
       "Residuals:\n",
       "    Min      1Q  Median      3Q     Max \n",
       "-1.4923 -0.1956  0.1431  0.2785  0.6240 \n",
       "\n",
       "Coefficients:\n",
       "             Estimate Std. Error t value Pr(>|t|)    \n",
       "(Intercept)  1.628636   0.123226  13.217  < 2e-16 ***\n",
       "x1          -0.367433   0.075554  -4.863 1.67e-06 ***\n",
       "x2          -0.021002   0.007408  -2.835  0.00482 ** \n",
       "x3           0.648054   0.587072   1.104  0.27032    \n",
       "x4          -0.066484   0.020512  -3.241  0.00129 ** \n",
       "x5           0.014326   0.003240   4.422 1.27e-05 ***\n",
       "---\n",
       "Signif. codes:  0 ‘***’ 0.001 ‘**’ 0.01 ‘*’ 0.05 ‘.’ 0.1 ‘ ’ 1\n",
       "\n",
       "Residual standard error: 0.3962 on 394 degrees of freedom\n",
       "Multiple R-squared:  0.07473,\tAdjusted R-squared:  0.06299 \n",
       "F-statistic: 6.364 on 5 and 394 DF,  p-value: 1.065e-05\n"
      ]
     },
     "metadata": {},
     "output_type": "display_data"
    }
   ],
   "source": [
    "model <- lm(y ~ x1 + x2 + x3 + x4 + x5, data = train)\n",
    "summary(model)\n"
   ]
  },
  {
   "cell_type": "markdown",
   "metadata": {
    "collapsed": false,
    "deletable": true,
    "editable": true
   },
   "source": [
    "Третий признак не является значимым для регресии, исключим его из модели"
   ]
  },
  {
   "cell_type": "code",
   "execution_count": 21,
   "metadata": {
    "collapsed": false
   },
   "outputs": [
    {
     "data": {
      "text/plain": [
       "\n",
       "Call:\n",
       "lm(formula = y ~ x1 + x2 + x4 + x5, data = train)\n",
       "\n",
       "Residuals:\n",
       "    Min      1Q  Median      3Q     Max \n",
       "-1.4724 -0.2133  0.1414  0.2821  0.6241 \n",
       "\n",
       "Coefficients:\n",
       "             Estimate Std. Error t value Pr(>|t|)    \n",
       "(Intercept)  1.730785   0.081395  21.264  < 2e-16 ***\n",
       "x1          -0.375911   0.075183  -5.000 8.64e-07 ***\n",
       "x2          -0.021512   0.007396  -2.909 0.003833 ** \n",
       "x4          -0.068178   0.020460  -3.332 0.000943 ***\n",
       "x5           0.014700   0.003223   4.561 6.80e-06 ***\n",
       "---\n",
       "Signif. codes:  0 ‘***’ 0.001 ‘**’ 0.01 ‘*’ 0.05 ‘.’ 0.1 ‘ ’ 1\n",
       "\n",
       "Residual standard error: 0.3964 on 395 degrees of freedom\n",
       "Multiple R-squared:  0.07187,\tAdjusted R-squared:  0.06247 \n",
       "F-statistic: 7.646 on 4 and 395 DF,  p-value: 6.091e-06\n"
      ]
     },
     "metadata": {},
     "output_type": "display_data"
    }
   ],
   "source": [
    "perfect_model <- lm(y ~ model$coefficients[2]x1 + x2 + x4 + x5, data = train)\n",
    "summary(perfect_model)\n"
   ]
  },
  {
   "cell_type": "code",
   "execution_count": 32,
   "metadata": {
    "collapsed": false
   },
   "outputs": [
    {
     "data": {
      "text/plain": [
       "      Min.    1st Qu.     Median       Mean    3rd Qu.       Max. \n",
       "-0.6176000 -0.2539000 -0.1455000 -0.0008259  0.2190000  1.2500000 "
      ]
     },
     "metadata": {},
     "output_type": "display_data"
    }
   ],
   "source": [
    "\n",
    "prediction <- predict(perfect_model, newdata=test)\n",
    "dev <- prediction - test$y\n",
    "summary(dev)"
   ]
  },
  {
   "cell_type": "markdown",
   "metadata": {},
   "source": [
    "Остатки маленькие, что показывает, что наша модел выбрана хорошо. посмотрим на них"
   ]
  },
  {
   "cell_type": "code",
   "execution_count": 33,
   "metadata": {
    "collapsed": false
   },
   "outputs": [
    {
     "data": {
      "image/png": "[encoded data removed]",
      "text/plain": [
       "Plot with title “Histogram of dev”"
      ]
     },
     "metadata": {},
     "output_type": "display_data"
    }
   ],
   "source": [
    "hist(dev)"
   ]
  }
 ],
 "metadata": {
  "kernelspec": {
   "display_name": "R",
   "language": "R",
   "name": "ir"
  },
  "language_info": {
   "codemirror_mode": "r",
   "file_extension": ".r",
   "mimetype": "text/x-r-source",
   "name": "R",
   "pygments_lexer": "r",
   "version": "3.3.1"
  }
 },
 "nbformat": 4,
 "nbformat_minor": 2
}
