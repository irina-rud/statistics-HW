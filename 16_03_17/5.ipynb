{
 "cells": [
  {
   "cell_type": "code",
   "execution_count": 1,
   "metadata": {
    "collapsed": true,
    "deletable": true,
    "editable": true
   },
   "outputs": [],
   "source": [
    "import numpy as np\n",
    "import matplotlib.pyplot as plt\n",
    "import scipy.stats as sps\n",
    "import pandas as pd\n",
    "\n",
    "\n",
    "from statsmodels.distributions.empirical_distribution import ECDF\n",
    "from sklearn.neighbors import KernelDensity\n",
    "import statsmodels.api as sm\n",
    "from statsmodels.sandbox.stats.multicomp import multipletests\n",
    "\n",
    "\n",
    "%matplotlib inline\n",
    "\n"
   ]
  },
  {
   "cell_type": "code",
   "execution_count": 9,
   "metadata": {
    "collapsed": false,
    "deletable": true,
    "editable": true
   },
   "outputs": [],
   "source": [
    "wine_data = pd.read_csv('wine.data', header = None, sep=',')\n",
    "\n",
    "sample = []\n",
    "sample.append(wine_data.values[:,1])\n",
    "sample.append(wine_data.values[:,4])\n",
    "sample.append(wine_data.values[:,3])\n",
    "sample.append(wine_data.values[:,8])\n",
    "sample.append(wine_data.values[:,9])\n",
    "\n",
    "slump_test = pd.read_csv('slump_test.data', header = 0, sep=',')\n",
    "sample.append(slump_test.values[:, -1])\n",
    "\n",
    "vowel_context = pd.read_csv('vowel-context.data', header = None, sep='\\s+')\n",
    "sample.append(vowel_context.values[:,7])\n"
   ]
  },
  {
   "cell_type": "markdown",
   "metadata": {
    "deletable": true,
    "editable": true
   },
   "source": [
    "1: Alcohol \n",
    "\n",
    "3: Ash\n",
    "\n",
    "4: Alcalinity of ash \n",
    "\n",
    "8: Nonflavanoid phenols\n",
    "\n",
    "9: Proanthocyanins"
   ]
  },
  {
   "cell_type": "code",
   "execution_count": 39,
   "metadata": {
    "collapsed": false,
    "deletable": true,
    "editable": true
   },
   "outputs": [
    {
     "name": "stdout",
     "output_type": "stream",
     "text": [
      "method fdr_by\n",
      "0 гипотеза : [False False  True]\n",
      "1 гипотеза : [ True False False]\n",
      "2 гипотеза : [ True False False]\n",
      "3 гипотеза : [ True  True  True]\n",
      "4 гипотеза : [ True False False]\n",
      "5 гипотеза : [ True False False]\n",
      "6 гипотеза : [ True False False]\n"
     ]
    }
   ],
   "source": [
    "num_tests = 3 \n",
    "def normility(samples, alpha = 0.05, method='bonferroni'):\n",
    "    N =  num_tests * len(samples)\n",
    "    p_val = np.zeros(N)\n",
    "    for i in range(len(samples)):\n",
    "        p_val[0 + num_tests * i] = sps.kstest(samples[i], sps.norm(np.mean(sample[i]),np.var(sample[i])).cdf)[1]\n",
    "#         st, p_val[1 + 2 * i] = sps.jarque_bera(samples[i])\n",
    "#         st, p_val[1 + 2 * i] = sps.skewtest(samples[i])\n",
    "        p_val[1 + num_tests * i] = sps.shapiro(samples[i])[1]\n",
    "        p_val[2 + num_tests * i] = sps.normaltest(samples[i])[1]\n",
    "    return multipletests(p_val, alpha=alpha, method=method)\n",
    "\n",
    "for method in ['fdr_by']:\n",
    "    reject, pvals_corrected =  normility(np.array(sample), alpha=0.05, method=method)[:2]\n",
    "    print(\"method %s\" % (method))\n",
    "    for i in range(len(sample)):\n",
    "        print(\"%d гипотеза : \" % (i) +str(reject[ num_tests * i: num_tests * i + 3]))\n"
   ]
  },
  {
   "cell_type": "markdown",
   "metadata": {},
   "source": [
    "Принимаем третью гипотезу"
   ]
  }
 ],
 "metadata": {
  "kernelspec": {
   "display_name": "Python 3",
   "language": "python",
   "name": "python3"
  },
  "language_info": {
   "codemirror_mode": {
    "name": "ipython",
    "version": 3
   },
   "file_extension": ".py",
   "mimetype": "text/x-python",
   "name": "python",
   "nbconvert_exporter": "python",
   "pygments_lexer": "ipython3",
   "version": "3.5.2+"
  }
 },
 "nbformat": 4,
 "nbformat_minor": 2
}
