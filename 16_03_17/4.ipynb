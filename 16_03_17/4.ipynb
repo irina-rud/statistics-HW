{
 "cells": [
  {
   "cell_type": "code",
   "execution_count": 67,
   "metadata": {
    "collapsed": true,
    "deletable": true,
    "editable": true
   },
   "outputs": [],
   "source": [
    "import numpy as np\n",
    "import matplotlib.pyplot as plt\n",
    "import scipy.stats as sps\n",
    "import pandas as pd\n",
    "\n",
    "\n",
    "from statsmodels.distributions.empirical_distribution import ECDF\n",
    "from sklearn.neighbors import KernelDensity\n",
    "import statsmodels.api as sm\n",
    "from statsmodels.sandbox.stats.multicomp import multipletests\n",
    "from skidmarks import wald_wolfowitz\n",
    "\n",
    "%matplotlib inline\n",
    "\n"
   ]
  },
  {
   "cell_type": "code",
   "execution_count": 70,
   "metadata": {
    "collapsed": false,
    "deletable": true,
    "editable": true
   },
   "outputs": [],
   "source": [
    "wine_data = pd.read_csv('wine.data', header = None, sep=',')\n",
    "wine_data.head()\n",
    "\n",
    "sample = np.array(wine_data.values[:,1])\n",
    "\n"
   ]
  },
  {
   "cell_type": "code",
   "execution_count": 71,
   "metadata": {
    "collapsed": false,
    "deletable": true,
    "editable": true
   },
   "outputs": [
    {
     "name": "stdout",
     "output_type": "stream",
     "text": [
      "[29 30 33 26 29 30]\n",
      "[ 17.6691722   23.10248704  52.81049983  42.07723087  23.1451848\n",
      "  17.4974407 ]\n"
     ]
    },
    {
     "data": {
      "text/plain": [
       "Power_divergenceResult(statistic=33.314424049484806, pvalue=nan)"
      ]
     },
     "execution_count": 71,
     "metadata": {},
     "output_type": "execute_result"
    }
   ],
   "source": [
    "def chi_sq(distr, sample, K):\n",
    "    K = 6\n",
    "    frequance = np.array([np.sum([1 for x in sample if \n",
    "                  ((x > np.percentile(sample, j * 100 / K)) \n",
    "                   and (x <= np.percentile(sample, (j+1) * 100 / K))) ]) for j in range(K)])\n",
    "    bounds = np.array([np.percentile(sample, q=i * 100 / K) for i in range(K + 1)])\n",
    "    theory_fr = np.array([distr(bounds[i + 1]) - distr(bounds[i]) for i in range(K)]) * np.sum(frequance)\n",
    "    print (frequance)\n",
    "    print (theory_fr)\n",
    "    return sps.chisquare(frequance, theory_fr, ddof=K)    \n",
    "\n",
    "\n",
    "chi_sq(sps.norm(np.mean(sample),np.var(sample)).cdf,sample, 8)"
   ]
  },
  {
   "cell_type": "code",
   "execution_count": 72,
   "metadata": {
    "collapsed": false,
    "deletable": true,
    "editable": true
   },
   "outputs": [
    {
     "name": "stdout",
     "output_type": "stream",
     "text": [
      "method bonferroni\n",
      "[ True False False False False  True]\n",
      "method holm\n",
      "[ True  True False False False  True]\n"
     ]
    }
   ],
   "source": [
    "\n",
    "def normility(sample, alpha = 0.05, method='bonferroni'):\n",
    "    num_tests = 6\n",
    "    p_val = np.zeros(num_tests)\n",
    "    sequence = np.sign(sample - np.mean(sample))\n",
    "    p_val[0] = wald_wolfowitz(sequence)['p']\n",
    "    p_val[1] = sps.kstest(sample, sps.norm(np.mean(sample),np.var(sample)).cdf)[1]\n",
    "    p_val[2] = sps.jarque_bera(sample)[1]\n",
    "    p_val[3] = sps.skewtest(sample)[1]\n",
    "    p_val[4] = sps.shapiro(sample)[1]\n",
    "    p_val[5] = sps.normaltest(sample)[1]\n",
    "    return multipletests(p_val, alpha=alpha, method=method)\n",
    "\n",
    "for method in ['bonferroni', 'holm']:\n",
    "    reject, pvals_corrected =  normility(sample, alpha=0.05, method=method)[:2]\n",
    "    print(\"method %s\" % (method))\n",
    "    print(reject)\n",
    "    "
   ]
  },
  {
   "cell_type": "markdown",
   "metadata": {
    "deletable": true,
    "editable": true
   },
   "source": [
    "Наиболее мощный без предположений о независимости - метод Холма, отвергает гипотезу о том, что эта выборка распределена нормально. Но зато это выборка:)"
   ]
  }
 ],
 "metadata": {
  "kernelspec": {
   "display_name": "Python 3",
   "language": "python",
   "name": "python3"
  },
  "language_info": {
   "codemirror_mode": {
    "name": "ipython",
    "version": 3
   },
   "file_extension": ".py",
   "mimetype": "text/x-python",
   "name": "python",
   "nbconvert_exporter": "python",
   "pygments_lexer": "ipython3",
   "version": "3.5.2+"
  }
 },
 "nbformat": 4,
 "nbformat_minor": 2
}
