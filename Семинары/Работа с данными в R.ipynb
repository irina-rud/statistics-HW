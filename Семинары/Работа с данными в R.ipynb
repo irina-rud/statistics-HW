{
 "cells": [
  {
   "cell_type": "markdown",
   "metadata": {
    "deletable": true,
    "editable": true
   },
   "source": [
    "Методы современной прикладной статистики, весна 2017, Никита Волков\n",
    "\n",
    "# Работа с данными в R\n",
    "\n",
    "## Табличные данные\n",
    "\n",
    "Создание таблиц"
   ]
  },
  {
   "cell_type": "code",
   "execution_count": 13,
   "metadata": {
    "collapsed": false,
    "deletable": true,
    "editable": true
   },
   "outputs": [
    {
     "data": {
      "text/html": [
       "3"
      ],
      "text/latex": [
       "3"
      ],
      "text/markdown": [
       "3"
      ],
      "text/plain": [
       "[1] 3"
      ]
     },
     "metadata": {},
     "output_type": "display_data"
    },
    {
     "data": {
      "text/html": [
       "4"
      ],
      "text/latex": [
       "4"
      ],
      "text/markdown": [
       "4"
      ],
      "text/plain": [
       "[1] 4"
      ]
     },
     "metadata": {},
     "output_type": "display_data"
    },
    {
     "data": {
      "text/html": [
       "<table>\n",
       "<thead><tr><th scope=col>x</th><th scope=col>x2</th><th scope=col>y</th><th scope=col>NA</th></tr></thead>\n",
       "<tbody>\n",
       "\t<tr><td>1 </td><td>4 </td><td>7 </td><td>10</td></tr>\n",
       "\t<tr><td>2 </td><td>5 </td><td>8 </td><td>11</td></tr>\n",
       "\t<tr><td>3 </td><td>6 </td><td>9 </td><td>12</td></tr>\n",
       "</tbody>\n",
       "</table>\n"
      ],
      "text/latex": [
       "\\begin{tabular}{r|llll}\n",
       " x & x2 & y & NA\\\\\n",
       "\\hline\n",
       "\t 1  & 4  & 7  & 10\\\\\n",
       "\t 2  & 5  & 8  & 11\\\\\n",
       "\t 3  & 6  & 9  & 12\\\\\n",
       "\\end{tabular}\n"
      ],
      "text/markdown": [
       "\n",
       "x | x2 | y | NA | \n",
       "|---|---|---|\n",
       "| 1  | 4  | 7  | 10 | \n",
       "| 2  | 5  | 8  | 11 | \n",
       "| 3  | 6  | 9  | 12 | \n",
       "\n",
       "\n"
      ],
      "text/plain": [
       "  x x2 y <NA>\n",
       "1 1 4  7 10  \n",
       "2 2 5  8 11  \n",
       "3 3 6  9 12  "
      ]
     },
     "metadata": {},
     "output_type": "display_data"
    }
   ],
   "source": [
    "t <- data.frame(matrix(nrow = 3, ncol = 4, data = 1:12))\n",
    "colnames(t) <- c('x', 'x2', 'y')\n",
    "nrow(t)\n",
    "ncol(t)\n",
    "t"
   ]
  },
  {
   "cell_type": "markdown",
   "metadata": {
    "deletable": true,
    "editable": true
   },
   "source": [
    "Столбцы"
   ]
  },
  {
   "cell_type": "code",
   "execution_count": 19,
   "metadata": {
    "collapsed": false,
    "deletable": true,
    "editable": true
   },
   "outputs": [
    {
     "data": {
      "text/html": [
       "<ol class=list-inline>\n",
       "\t<li>1</li>\n",
       "\t<li>2</li>\n",
       "\t<li>3</li>\n",
       "</ol>\n"
      ],
      "text/latex": [
       "\\begin{enumerate*}\n",
       "\\item 1\n",
       "\\item 2\n",
       "\\item 3\n",
       "\\end{enumerate*}\n"
      ],
      "text/markdown": [
       "1. 1\n",
       "2. 2\n",
       "3. 3\n",
       "\n",
       "\n"
      ],
      "text/plain": [
       "[1] 1 2 3"
      ]
     },
     "metadata": {},
     "output_type": "display_data"
    },
    {
     "data": {
      "text/html": [
       "<table>\n",
       "<thead><tr><th scope=col>x</th></tr></thead>\n",
       "<tbody>\n",
       "\t<tr><td>1</td></tr>\n",
       "\t<tr><td>2</td></tr>\n",
       "\t<tr><td>3</td></tr>\n",
       "</tbody>\n",
       "</table>\n"
      ],
      "text/latex": [
       "\\begin{tabular}{r|l}\n",
       " x\\\\\n",
       "\\hline\n",
       "\t 1\\\\\n",
       "\t 2\\\\\n",
       "\t 3\\\\\n",
       "\\end{tabular}\n"
      ],
      "text/markdown": [
       "\n",
       "x | \n",
       "|---|---|---|\n",
       "| 1 | \n",
       "| 2 | \n",
       "| 3 | \n",
       "\n",
       "\n"
      ],
      "text/plain": [
       "  x\n",
       "1 1\n",
       "2 2\n",
       "3 3"
      ]
     },
     "metadata": {},
     "output_type": "display_data"
    },
    {
     "data": {
      "text/html": [
       "<ol class=list-inline>\n",
       "\t<li>1</li>\n",
       "\t<li>2</li>\n",
       "\t<li>3</li>\n",
       "</ol>\n"
      ],
      "text/latex": [
       "\\begin{enumerate*}\n",
       "\\item 1\n",
       "\\item 2\n",
       "\\item 3\n",
       "\\end{enumerate*}\n"
      ],
      "text/markdown": [
       "1. 1\n",
       "2. 2\n",
       "3. 3\n",
       "\n",
       "\n"
      ],
      "text/plain": [
       "[1] 1 2 3"
      ]
     },
     "metadata": {},
     "output_type": "display_data"
    }
   ],
   "source": [
    "t[[1]]  # первый столбец\n",
    "t[1]\n",
    "t[,1]"
   ]
  },
  {
   "cell_type": "markdown",
   "metadata": {
    "deletable": true,
    "editable": true
   },
   "source": [
    "Строки, элементы и подматрицы"
   ]
  },
  {
   "cell_type": "code",
   "execution_count": 21,
   "metadata": {
    "collapsed": false,
    "deletable": true,
    "editable": true
   },
   "outputs": [
    {
     "data": {
      "text/html": [
       "<table>\n",
       "<thead><tr><th scope=col>x</th><th scope=col>x2</th><th scope=col>y</th><th scope=col>NA</th></tr></thead>\n",
       "<tbody>\n",
       "\t<tr><td>1 </td><td>4 </td><td>7 </td><td>10</td></tr>\n",
       "</tbody>\n",
       "</table>\n"
      ],
      "text/latex": [
       "\\begin{tabular}{r|llll}\n",
       " x & x2 & y & NA\\\\\n",
       "\\hline\n",
       "\t 1  & 4  & 7  & 10\\\\\n",
       "\\end{tabular}\n"
      ],
      "text/markdown": [
       "\n",
       "x | x2 | y | NA | \n",
       "|---|\n",
       "| 1  | 4  | 7  | 10 | \n",
       "\n",
       "\n"
      ],
      "text/plain": [
       "  x x2 y <NA>\n",
       "1 1 4  7 10  "
      ]
     },
     "metadata": {},
     "output_type": "display_data"
    },
    {
     "data": {
      "text/html": [
       "8"
      ],
      "text/latex": [
       "8"
      ],
      "text/markdown": [
       "8"
      ],
      "text/plain": [
       "[1] 8"
      ]
     },
     "metadata": {},
     "output_type": "display_data"
    },
    {
     "data": {
      "text/html": [
       "<table>\n",
       "<thead><tr><th></th><th scope=col>x2</th><th scope=col>NA</th></tr></thead>\n",
       "<tbody>\n",
       "\t<tr><th scope=row>1</th><td>4 </td><td>10</td></tr>\n",
       "\t<tr><th scope=row>3</th><td>6 </td><td>12</td></tr>\n",
       "</tbody>\n",
       "</table>\n"
      ],
      "text/latex": [
       "\\begin{tabular}{r|ll}\n",
       "  & x2 & NA\\\\\n",
       "\\hline\n",
       "\t1 & 4  & 10\\\\\n",
       "\t3 & 6  & 12\\\\\n",
       "\\end{tabular}\n"
      ],
      "text/markdown": [
       "\n",
       "| <!--/--> | x2 | NA | \n",
       "|---|---|\n",
       "| 1 | 4  | 10 | \n",
       "| 3 | 6  | 12 | \n",
       "\n",
       "\n"
      ],
      "text/plain": [
       "  x2 <NA>\n",
       "1 4  10  \n",
       "3 6  12  "
      ]
     },
     "metadata": {},
     "output_type": "display_data"
    }
   ],
   "source": [
    "t[1,]  # первая строка\n",
    "t[2, 3]\n",
    "t[c(1, 3), c(2, 4)]"
   ]
  },
  {
   "cell_type": "markdown",
   "metadata": {
    "deletable": true,
    "editable": true
   },
   "source": [
    "Изменение значений"
   ]
  },
  {
   "cell_type": "code",
   "execution_count": 22,
   "metadata": {
    "collapsed": false,
    "deletable": true,
    "editable": true
   },
   "outputs": [
    {
     "data": {
      "text/html": [
       "<ol class=list-inline>\n",
       "\t<li>1</li>\n",
       "\t<li>2</li>\n",
       "\t<li>3</li>\n",
       "</ol>\n"
      ],
      "text/latex": [
       "\\begin{enumerate*}\n",
       "\\item 1\n",
       "\\item 2\n",
       "\\item 3\n",
       "\\end{enumerate*}\n"
      ],
      "text/markdown": [
       "1. 1\n",
       "2. 2\n",
       "3. 3\n",
       "\n",
       "\n"
      ],
      "text/plain": [
       "[1] 1 2 3"
      ]
     },
     "metadata": {},
     "output_type": "display_data"
    },
    {
     "data": {
      "text/html": [
       "<table>\n",
       "<thead><tr><th scope=col>x</th><th scope=col>x2</th><th scope=col>y</th><th scope=col>NA</th></tr></thead>\n",
       "<tbody>\n",
       "\t<tr><td>  1</td><td>4  </td><td>7  </td><td>10 </td></tr>\n",
       "\t<tr><td>100</td><td>5  </td><td>8  </td><td>11 </td></tr>\n",
       "\t<tr><td>  3</td><td>6  </td><td>9  </td><td>12 </td></tr>\n",
       "</tbody>\n",
       "</table>\n"
      ],
      "text/latex": [
       "\\begin{tabular}{r|llll}\n",
       " x & x2 & y & NA\\\\\n",
       "\\hline\n",
       "\t   1 & 4   & 7   & 10 \\\\\n",
       "\t 100 & 5   & 8   & 11 \\\\\n",
       "\t   3 & 6   & 9   & 12 \\\\\n",
       "\\end{tabular}\n"
      ],
      "text/markdown": [
       "\n",
       "x | x2 | y | NA | \n",
       "|---|---|---|\n",
       "|   1 | 4   | 7   | 10  | \n",
       "| 100 | 5   | 8   | 11  | \n",
       "|   3 | 6   | 9   | 12  | \n",
       "\n",
       "\n"
      ],
      "text/plain": [
       "  x   x2 y <NA>\n",
       "1   1 4  7 10  \n",
       "2 100 5  8 11  \n",
       "3   3 6  9 12  "
      ]
     },
     "metadata": {},
     "output_type": "display_data"
    }
   ],
   "source": [
    "t$x\n",
    "t$x[2] <- 100\n",
    "t"
   ]
  },
  {
   "cell_type": "markdown",
   "metadata": {
    "deletable": true,
    "editable": true
   },
   "source": [
    "Данные, удовлетвояющие условию"
   ]
  },
  {
   "cell_type": "code",
   "execution_count": 23,
   "metadata": {
    "collapsed": false,
    "deletable": true,
    "editable": true
   },
   "outputs": [
    {
     "data": {
      "text/html": [
       "<table>\n",
       "<thead><tr><th></th><th scope=col>x</th><th scope=col>x2</th><th scope=col>y</th><th scope=col>NA</th></tr></thead>\n",
       "<tbody>\n",
       "\t<tr><th scope=row>2</th><td>100</td><td>5  </td><td>8  </td><td>11 </td></tr>\n",
       "</tbody>\n",
       "</table>\n"
      ],
      "text/latex": [
       "\\begin{tabular}{r|llll}\n",
       "  & x & x2 & y & NA\\\\\n",
       "\\hline\n",
       "\t2 & 100 & 5   & 8   & 11 \\\\\n",
       "\\end{tabular}\n"
      ],
      "text/markdown": [
       "\n",
       "| <!--/--> | x | x2 | y | NA | \n",
       "|---|\n",
       "| 2 | 100 | 5   | 8   | 11  | \n",
       "\n",
       "\n"
      ],
      "text/plain": [
       "  x   x2 y <NA>\n",
       "2 100 5  8 11  "
      ]
     },
     "metadata": {},
     "output_type": "display_data"
    }
   ],
   "source": [
    "t[(t$x2 > 4) & (t$y < 9), ]"
   ]
  },
  {
   "cell_type": "markdown",
   "metadata": {
    "deletable": true,
    "editable": true
   },
   "source": [
    "### Wine Data Set \n",
    "http://archive.ics.uci.edu/ml/datasets/Wine\n",
    "\n",
    "<img src=\"./img/Large109.jpg\" width=\"189\" height=\"255\">\n",
    "\n",
    "Читаем данные"
   ]
  },
  {
   "cell_type": "code",
   "execution_count": 58,
   "metadata": {
    "collapsed": false,
    "deletable": true,
    "editable": true
   },
   "outputs": [
    {
     "data": {
      "text/html": [
       "<table>\n",
       "<thead><tr><th scope=col>V1</th><th scope=col>V2</th><th scope=col>V3</th><th scope=col>V4</th><th scope=col>V5</th><th scope=col>V6</th><th scope=col>V7</th><th scope=col>V8</th><th scope=col>V9</th><th scope=col>V10</th><th scope=col>V11</th><th scope=col>V12</th><th scope=col>V13</th><th scope=col>V14</th></tr></thead>\n",
       "<tbody>\n",
       "\t<tr><td>1    </td><td>14.23</td><td>1.71 </td><td>2.43 </td><td>15.6 </td><td>127  </td><td>2.80 </td><td>3.06 </td><td>0.28 </td><td>2.29 </td><td>5.64 </td><td>1.04 </td><td>3.92 </td><td>1065 </td></tr>\n",
       "\t<tr><td>1    </td><td>13.20</td><td>1.78 </td><td>2.14 </td><td>11.2 </td><td>100  </td><td>2.65 </td><td>2.76 </td><td>0.26 </td><td>1.28 </td><td>4.38 </td><td>1.05 </td><td>3.40 </td><td>1050 </td></tr>\n",
       "\t<tr><td>1    </td><td>13.16</td><td>2.36 </td><td>2.67 </td><td>18.6 </td><td>101  </td><td>2.80 </td><td>3.24 </td><td>0.30 </td><td>2.81 </td><td>5.68 </td><td>1.03 </td><td>3.17 </td><td>1185 </td></tr>\n",
       "\t<tr><td>1    </td><td>14.37</td><td>1.95 </td><td>2.50 </td><td>16.8 </td><td>113  </td><td>3.85 </td><td>3.49 </td><td>0.24 </td><td>2.18 </td><td>7.80 </td><td>0.86 </td><td>3.45 </td><td>1480 </td></tr>\n",
       "\t<tr><td>1    </td><td>13.24</td><td>2.59 </td><td>2.87 </td><td>21.0 </td><td>118  </td><td>2.80 </td><td>2.69 </td><td>0.39 </td><td>1.82 </td><td>4.32 </td><td>1.04 </td><td>2.93 </td><td> 735 </td></tr>\n",
       "</tbody>\n",
       "</table>\n"
      ],
      "text/latex": [
       "\\begin{tabular}{r|llllllllllllll}\n",
       " V1 & V2 & V3 & V4 & V5 & V6 & V7 & V8 & V9 & V10 & V11 & V12 & V13 & V14\\\\\n",
       "\\hline\n",
       "\t 1     & 14.23 & 1.71  & 2.43  & 15.6  & 127   & 2.80  & 3.06  & 0.28  & 2.29  & 5.64  & 1.04  & 3.92  & 1065 \\\\\n",
       "\t 1     & 13.20 & 1.78  & 2.14  & 11.2  & 100   & 2.65  & 2.76  & 0.26  & 1.28  & 4.38  & 1.05  & 3.40  & 1050 \\\\\n",
       "\t 1     & 13.16 & 2.36  & 2.67  & 18.6  & 101   & 2.80  & 3.24  & 0.30  & 2.81  & 5.68  & 1.03  & 3.17  & 1185 \\\\\n",
       "\t 1     & 14.37 & 1.95  & 2.50  & 16.8  & 113   & 3.85  & 3.49  & 0.24  & 2.18  & 7.80  & 0.86  & 3.45  & 1480 \\\\\n",
       "\t 1     & 13.24 & 2.59  & 2.87  & 21.0  & 118   & 2.80  & 2.69  & 0.39  & 1.82  & 4.32  & 1.04  & 2.93  &  735 \\\\\n",
       "\\end{tabular}\n"
      ],
      "text/markdown": [
       "\n",
       "V1 | V2 | V3 | V4 | V5 | V6 | V7 | V8 | V9 | V10 | V11 | V12 | V13 | V14 | \n",
       "|---|---|---|---|---|\n",
       "| 1     | 14.23 | 1.71  | 2.43  | 15.6  | 127   | 2.80  | 3.06  | 0.28  | 2.29  | 5.64  | 1.04  | 3.92  | 1065  | \n",
       "| 1     | 13.20 | 1.78  | 2.14  | 11.2  | 100   | 2.65  | 2.76  | 0.26  | 1.28  | 4.38  | 1.05  | 3.40  | 1050  | \n",
       "| 1     | 13.16 | 2.36  | 2.67  | 18.6  | 101   | 2.80  | 3.24  | 0.30  | 2.81  | 5.68  | 1.03  | 3.17  | 1185  | \n",
       "| 1     | 14.37 | 1.95  | 2.50  | 16.8  | 113   | 3.85  | 3.49  | 0.24  | 2.18  | 7.80  | 0.86  | 3.45  | 1480  | \n",
       "| 1     | 13.24 | 2.59  | 2.87  | 21.0  | 118   | 2.80  | 2.69  | 0.39  | 1.82  | 4.32  | 1.04  | 2.93  |  735  | \n",
       "\n",
       "\n"
      ],
      "text/plain": [
       "  V1 V2    V3   V4   V5   V6  V7   V8   V9   V10  V11  V12  V13  V14 \n",
       "1 1  14.23 1.71 2.43 15.6 127 2.80 3.06 0.28 2.29 5.64 1.04 3.92 1065\n",
       "2 1  13.20 1.78 2.14 11.2 100 2.65 2.76 0.26 1.28 4.38 1.05 3.40 1050\n",
       "3 1  13.16 2.36 2.67 18.6 101 2.80 3.24 0.30 2.81 5.68 1.03 3.17 1185\n",
       "4 1  14.37 1.95 2.50 16.8 113 3.85 3.49 0.24 2.18 7.80 0.86 3.45 1480\n",
       "5 1  13.24 2.59 2.87 21.0 118 2.80 2.69 0.39 1.82 4.32 1.04 2.93  735"
      ]
     },
     "metadata": {},
     "output_type": "display_data"
    }
   ],
   "source": [
    "t <- read.table('wine.data', sep=',')\n",
    "t[1:5,]"
   ]
  },
  {
   "cell_type": "markdown",
   "metadata": {
    "deletable": true,
    "editable": true
   },
   "source": [
    "Присвоение названий столбцам"
   ]
  },
  {
   "cell_type": "code",
   "execution_count": 60,
   "metadata": {
    "collapsed": false,
    "deletable": true,
    "editable": true
   },
   "outputs": [
    {
     "data": {
      "text/html": [
       "<table>\n",
       "<thead><tr><th scope=col>Class</th><th scope=col>Alcohol</th><th scope=col>Malic_acid</th><th scope=col>Ash</th><th scope=col>Alcalinity_of_ash</th><th scope=col>Magnesium</th><th scope=col>Total_phenols</th><th scope=col>Flavanoids</th><th scope=col>Nonflavanoid_phenols</th><th scope=col>Proanthocyanins</th><th scope=col>Color_intensity</th><th scope=col>Hue</th><th scope=col>OD_OD_of_diluted_wines</th><th scope=col>Proline</th></tr></thead>\n",
       "<tbody>\n",
       "\t<tr><td>1    </td><td>14.23</td><td>1.71 </td><td>2.43 </td><td>15.6 </td><td>127  </td><td>2.80 </td><td>3.06 </td><td>0.28 </td><td>2.29 </td><td>5.64 </td><td>1.04 </td><td>3.92 </td><td>1065 </td></tr>\n",
       "\t<tr><td>1    </td><td>13.20</td><td>1.78 </td><td>2.14 </td><td>11.2 </td><td>100  </td><td>2.65 </td><td>2.76 </td><td>0.26 </td><td>1.28 </td><td>4.38 </td><td>1.05 </td><td>3.40 </td><td>1050 </td></tr>\n",
       "\t<tr><td>1    </td><td>13.16</td><td>2.36 </td><td>2.67 </td><td>18.6 </td><td>101  </td><td>2.80 </td><td>3.24 </td><td>0.30 </td><td>2.81 </td><td>5.68 </td><td>1.03 </td><td>3.17 </td><td>1185 </td></tr>\n",
       "\t<tr><td>1    </td><td>14.37</td><td>1.95 </td><td>2.50 </td><td>16.8 </td><td>113  </td><td>3.85 </td><td>3.49 </td><td>0.24 </td><td>2.18 </td><td>7.80 </td><td>0.86 </td><td>3.45 </td><td>1480 </td></tr>\n",
       "\t<tr><td>1    </td><td>13.24</td><td>2.59 </td><td>2.87 </td><td>21.0 </td><td>118  </td><td>2.80 </td><td>2.69 </td><td>0.39 </td><td>1.82 </td><td>4.32 </td><td>1.04 </td><td>2.93 </td><td> 735 </td></tr>\n",
       "</tbody>\n",
       "</table>\n"
      ],
      "text/latex": [
       "\\begin{tabular}{r|llllllllllllll}\n",
       " Class & Alcohol & Malic\\_acid & Ash & Alcalinity\\_of\\_ash & Magnesium & Total\\_phenols & Flavanoids & Nonflavanoid\\_phenols & Proanthocyanins & Color\\_intensity & Hue & OD\\_OD\\_of\\_diluted\\_wines & Proline\\\\\n",
       "\\hline\n",
       "\t 1     & 14.23 & 1.71  & 2.43  & 15.6  & 127   & 2.80  & 3.06  & 0.28  & 2.29  & 5.64  & 1.04  & 3.92  & 1065 \\\\\n",
       "\t 1     & 13.20 & 1.78  & 2.14  & 11.2  & 100   & 2.65  & 2.76  & 0.26  & 1.28  & 4.38  & 1.05  & 3.40  & 1050 \\\\\n",
       "\t 1     & 13.16 & 2.36  & 2.67  & 18.6  & 101   & 2.80  & 3.24  & 0.30  & 2.81  & 5.68  & 1.03  & 3.17  & 1185 \\\\\n",
       "\t 1     & 14.37 & 1.95  & 2.50  & 16.8  & 113   & 3.85  & 3.49  & 0.24  & 2.18  & 7.80  & 0.86  & 3.45  & 1480 \\\\\n",
       "\t 1     & 13.24 & 2.59  & 2.87  & 21.0  & 118   & 2.80  & 2.69  & 0.39  & 1.82  & 4.32  & 1.04  & 2.93  &  735 \\\\\n",
       "\\end{tabular}\n"
      ],
      "text/markdown": [
       "\n",
       "Class | Alcohol | Malic_acid | Ash | Alcalinity_of_ash | Magnesium | Total_phenols | Flavanoids | Nonflavanoid_phenols | Proanthocyanins | Color_intensity | Hue | OD_OD_of_diluted_wines | Proline | \n",
       "|---|---|---|---|---|\n",
       "| 1     | 14.23 | 1.71  | 2.43  | 15.6  | 127   | 2.80  | 3.06  | 0.28  | 2.29  | 5.64  | 1.04  | 3.92  | 1065  | \n",
       "| 1     | 13.20 | 1.78  | 2.14  | 11.2  | 100   | 2.65  | 2.76  | 0.26  | 1.28  | 4.38  | 1.05  | 3.40  | 1050  | \n",
       "| 1     | 13.16 | 2.36  | 2.67  | 18.6  | 101   | 2.80  | 3.24  | 0.30  | 2.81  | 5.68  | 1.03  | 3.17  | 1185  | \n",
       "| 1     | 14.37 | 1.95  | 2.50  | 16.8  | 113   | 3.85  | 3.49  | 0.24  | 2.18  | 7.80  | 0.86  | 3.45  | 1480  | \n",
       "| 1     | 13.24 | 2.59  | 2.87  | 21.0  | 118   | 2.80  | 2.69  | 0.39  | 1.82  | 4.32  | 1.04  | 2.93  |  735  | \n",
       "\n",
       "\n"
      ],
      "text/plain": [
       "  Class Alcohol Malic_acid Ash  Alcalinity_of_ash Magnesium Total_phenols\n",
       "1 1     14.23   1.71       2.43 15.6              127       2.80         \n",
       "2 1     13.20   1.78       2.14 11.2              100       2.65         \n",
       "3 1     13.16   2.36       2.67 18.6              101       2.80         \n",
       "4 1     14.37   1.95       2.50 16.8              113       3.85         \n",
       "5 1     13.24   2.59       2.87 21.0              118       2.80         \n",
       "  Flavanoids Nonflavanoid_phenols Proanthocyanins Color_intensity Hue \n",
       "1 3.06       0.28                 2.29            5.64            1.04\n",
       "2 2.76       0.26                 1.28            4.38            1.05\n",
       "3 3.24       0.30                 2.81            5.68            1.03\n",
       "4 3.49       0.24                 2.18            7.80            0.86\n",
       "5 2.69       0.39                 1.82            4.32            1.04\n",
       "  OD_OD_of_diluted_wines Proline\n",
       "1 3.92                   1065   \n",
       "2 3.40                   1050   \n",
       "3 3.17                   1185   \n",
       "4 3.45                   1480   \n",
       "5 2.93                    735   "
      ]
     },
     "metadata": {},
     "output_type": "display_data"
    }
   ],
   "source": [
    "colnames(t) <- c('Class', 'Alcohol', 'Malic_acid', 'Ash', 'Alcalinity_of_ash', 'Magnesium', \n",
    "                 'Total_phenols', 'Flavanoids', 'Nonflavanoid_phenols', 'Proanthocyanins', \n",
    "                 'Color_intensity', 'Hue', 'OD_OD_of_diluted_wines', 'Proline')\n",
    "t[1:5,]"
   ]
  },
  {
   "cell_type": "markdown",
   "metadata": {
    "deletable": true,
    "editable": true
   },
   "source": [
    "Значения признака"
   ]
  },
  {
   "cell_type": "code",
   "execution_count": 61,
   "metadata": {
    "collapsed": false,
    "deletable": true,
    "editable": true
   },
   "outputs": [
    {
     "data": {
      "text/html": [
       "<ol class=list-inline>\n",
       "\t<li>15.6</li>\n",
       "\t<li>11.2</li>\n",
       "\t<li>18.6</li>\n",
       "\t<li>16.8</li>\n",
       "\t<li>21</li>\n",
       "\t<li>15.2</li>\n",
       "\t<li>14.6</li>\n",
       "\t<li>17.6</li>\n",
       "\t<li>14</li>\n",
       "\t<li>16</li>\n",
       "\t<li>18</li>\n",
       "\t<li>16.8</li>\n",
       "\t<li>16</li>\n",
       "\t<li>11.4</li>\n",
       "\t<li>12</li>\n",
       "\t<li>17.2</li>\n",
       "\t<li>20</li>\n",
       "\t<li>20</li>\n",
       "\t<li>16.5</li>\n",
       "\t<li>15.2</li>\n",
       "\t<li>16</li>\n",
       "\t<li>18.6</li>\n",
       "\t<li>16.6</li>\n",
       "\t<li>17.8</li>\n",
       "\t<li>20</li>\n",
       "\t<li>25</li>\n",
       "\t<li>16.1</li>\n",
       "\t<li>17</li>\n",
       "\t<li>19.4</li>\n",
       "\t<li>16</li>\n",
       "\t<li>22.5</li>\n",
       "\t<li>19.1</li>\n",
       "\t<li>17.2</li>\n",
       "\t<li>19.5</li>\n",
       "\t<li>19</li>\n",
       "\t<li>20.5</li>\n",
       "\t<li>15.5</li>\n",
       "\t<li>18</li>\n",
       "\t<li>15.5</li>\n",
       "\t<li>13.2</li>\n",
       "\t<li>16.2</li>\n",
       "\t<li>18.8</li>\n",
       "\t<li>15</li>\n",
       "\t<li>17.5</li>\n",
       "\t<li>17</li>\n",
       "\t<li>18.9</li>\n",
       "\t<li>16</li>\n",
       "\t<li>16</li>\n",
       "\t<li>18.8</li>\n",
       "\t<li>17.4</li>\n",
       "\t<li>12.4</li>\n",
       "\t<li>17.2</li>\n",
       "\t<li>14</li>\n",
       "\t<li>17.1</li>\n",
       "\t<li>16.4</li>\n",
       "\t<li>20.5</li>\n",
       "\t<li>16.3</li>\n",
       "\t<li>16.8</li>\n",
       "\t<li>16.7</li>\n",
       "\t<li>10.6</li>\n",
       "\t<li>16</li>\n",
       "\t<li>16.8</li>\n",
       "\t<li>18</li>\n",
       "\t<li>19</li>\n",
       "\t<li>19</li>\n",
       "\t<li>18.1</li>\n",
       "\t<li>15</li>\n",
       "\t<li>19.6</li>\n",
       "\t<li>17</li>\n",
       "\t<li>16.8</li>\n",
       "\t<li>20.4</li>\n",
       "\t<li>25</li>\n",
       "\t<li>24</li>\n",
       "\t<li>30</li>\n",
       "\t<li>21</li>\n",
       "\t<li>16</li>\n",
       "\t<li>16</li>\n",
       "\t<li>18</li>\n",
       "\t<li>14.8</li>\n",
       "\t<li>23</li>\n",
       "\t<li>19</li>\n",
       "\t<li>18.8</li>\n",
       "\t<li>24</li>\n",
       "\t<li>22.5</li>\n",
       "\t<li>18</li>\n",
       "\t<li>18</li>\n",
       "\t<li>22.8</li>\n",
       "\t<li>26</li>\n",
       "\t<li>21.6</li>\n",
       "\t<li>23.6</li>\n",
       "\t<li>18.5</li>\n",
       "\t<li>22</li>\n",
       "\t<li>20.7</li>\n",
       "\t<li>18</li>\n",
       "\t<li>18</li>\n",
       "\t<li>19</li>\n",
       "\t<li>21.5</li>\n",
       "\t<li>16</li>\n",
       "\t<li>18.5</li>\n",
       "\t<li>18</li>\n",
       "\t<li>17.5</li>\n",
       "\t<li>18.5</li>\n",
       "\t<li>21</li>\n",
       "\t<li>19.5</li>\n",
       "\t<li>20.5</li>\n",
       "\t<li>22</li>\n",
       "\t<li>19</li>\n",
       "\t<li>22.5</li>\n",
       "\t<li>19</li>\n",
       "\t<li>20</li>\n",
       "\t<li>19.5</li>\n",
       "\t<li>21</li>\n",
       "\t<li>20</li>\n",
       "\t<li>21</li>\n",
       "\t<li>22.5</li>\n",
       "\t<li>21.5</li>\n",
       "\t<li>20.8</li>\n",
       "\t<li>22.5</li>\n",
       "\t<li>16</li>\n",
       "\t<li>19</li>\n",
       "\t<li>20</li>\n",
       "\t<li>28.5</li>\n",
       "\t<li>26.5</li>\n",
       "\t<li>21.5</li>\n",
       "\t<li>21</li>\n",
       "\t<li>21</li>\n",
       "\t<li>21.5</li>\n",
       "\t<li>28.5</li>\n",
       "\t<li>24.5</li>\n",
       "\t<li>22</li>\n",
       "\t<li>18</li>\n",
       "\t<li>20</li>\n",
       "\t<li>24</li>\n",
       "\t<li>21.5</li>\n",
       "\t<li>17.5</li>\n",
       "\t<li>18.5</li>\n",
       "\t<li>21</li>\n",
       "\t<li>25</li>\n",
       "\t<li>19.5</li>\n",
       "\t<li>24</li>\n",
       "\t<li>21</li>\n",
       "\t<li>20</li>\n",
       "\t<li>23.5</li>\n",
       "\t<li>20</li>\n",
       "\t<li>18.5</li>\n",
       "\t<li>21</li>\n",
       "\t<li>20</li>\n",
       "\t<li>21.5</li>\n",
       "\t<li>21.5</li>\n",
       "\t<li>21.5</li>\n",
       "\t<li>24</li>\n",
       "\t<li>22</li>\n",
       "\t<li>25.5</li>\n",
       "\t<li>18.5</li>\n",
       "\t<li>20</li>\n",
       "\t<li>22</li>\n",
       "\t<li>19.5</li>\n",
       "\t<li>27</li>\n",
       "\t<li>25</li>\n",
       "\t<li>22.5</li>\n",
       "\t<li>21</li>\n",
       "\t<li>20</li>\n",
       "\t<li>22</li>\n",
       "\t<li>18.5</li>\n",
       "\t<li>22</li>\n",
       "\t<li>22.5</li>\n",
       "\t<li>23</li>\n",
       "\t<li>19.5</li>\n",
       "\t<li>24.5</li>\n",
       "\t<li>25</li>\n",
       "\t<li>19</li>\n",
       "\t<li>19.5</li>\n",
       "\t<li>20</li>\n",
       "\t<li>20.5</li>\n",
       "\t<li>23</li>\n",
       "\t<li>20</li>\n",
       "\t<li>20</li>\n",
       "\t<li>24.5</li>\n",
       "</ol>\n"
      ],
      "text/latex": [
       "\\begin{enumerate*}\n",
       "\\item 15.6\n",
       "\\item 11.2\n",
       "\\item 18.6\n",
       "\\item 16.8\n",
       "\\item 21\n",
       "\\item 15.2\n",
       "\\item 14.6\n",
       "\\item 17.6\n",
       "\\item 14\n",
       "\\item 16\n",
       "\\item 18\n",
       "\\item 16.8\n",
       "\\item 16\n",
       "\\item 11.4\n",
       "\\item 12\n",
       "\\item 17.2\n",
       "\\item 20\n",
       "\\item 20\n",
       "\\item 16.5\n",
       "\\item 15.2\n",
       "\\item 16\n",
       "\\item 18.6\n",
       "\\item 16.6\n",
       "\\item 17.8\n",
       "\\item 20\n",
       "\\item 25\n",
       "\\item 16.1\n",
       "\\item 17\n",
       "\\item 19.4\n",
       "\\item 16\n",
       "\\item 22.5\n",
       "\\item 19.1\n",
       "\\item 17.2\n",
       "\\item 19.5\n",
       "\\item 19\n",
       "\\item 20.5\n",
       "\\item 15.5\n",
       "\\item 18\n",
       "\\item 15.5\n",
       "\\item 13.2\n",
       "\\item 16.2\n",
       "\\item 18.8\n",
       "\\item 15\n",
       "\\item 17.5\n",
       "\\item 17\n",
       "\\item 18.9\n",
       "\\item 16\n",
       "\\item 16\n",
       "\\item 18.8\n",
       "\\item 17.4\n",
       "\\item 12.4\n",
       "\\item 17.2\n",
       "\\item 14\n",
       "\\item 17.1\n",
       "\\item 16.4\n",
       "\\item 20.5\n",
       "\\item 16.3\n",
       "\\item 16.8\n",
       "\\item 16.7\n",
       "\\item 10.6\n",
       "\\item 16\n",
       "\\item 16.8\n",
       "\\item 18\n",
       "\\item 19\n",
       "\\item 19\n",
       "\\item 18.1\n",
       "\\item 15\n",
       "\\item 19.6\n",
       "\\item 17\n",
       "\\item 16.8\n",
       "\\item 20.4\n",
       "\\item 25\n",
       "\\item 24\n",
       "\\item 30\n",
       "\\item 21\n",
       "\\item 16\n",
       "\\item 16\n",
       "\\item 18\n",
       "\\item 14.8\n",
       "\\item 23\n",
       "\\item 19\n",
       "\\item 18.8\n",
       "\\item 24\n",
       "\\item 22.5\n",
       "\\item 18\n",
       "\\item 18\n",
       "\\item 22.8\n",
       "\\item 26\n",
       "\\item 21.6\n",
       "\\item 23.6\n",
       "\\item 18.5\n",
       "\\item 22\n",
       "\\item 20.7\n",
       "\\item 18\n",
       "\\item 18\n",
       "\\item 19\n",
       "\\item 21.5\n",
       "\\item 16\n",
       "\\item 18.5\n",
       "\\item 18\n",
       "\\item 17.5\n",
       "\\item 18.5\n",
       "\\item 21\n",
       "\\item 19.5\n",
       "\\item 20.5\n",
       "\\item 22\n",
       "\\item 19\n",
       "\\item 22.5\n",
       "\\item 19\n",
       "\\item 20\n",
       "\\item 19.5\n",
       "\\item 21\n",
       "\\item 20\n",
       "\\item 21\n",
       "\\item 22.5\n",
       "\\item 21.5\n",
       "\\item 20.8\n",
       "\\item 22.5\n",
       "\\item 16\n",
       "\\item 19\n",
       "\\item 20\n",
       "\\item 28.5\n",
       "\\item 26.5\n",
       "\\item 21.5\n",
       "\\item 21\n",
       "\\item 21\n",
       "\\item 21.5\n",
       "\\item 28.5\n",
       "\\item 24.5\n",
       "\\item 22\n",
       "\\item 18\n",
       "\\item 20\n",
       "\\item 24\n",
       "\\item 21.5\n",
       "\\item 17.5\n",
       "\\item 18.5\n",
       "\\item 21\n",
       "\\item 25\n",
       "\\item 19.5\n",
       "\\item 24\n",
       "\\item 21\n",
       "\\item 20\n",
       "\\item 23.5\n",
       "\\item 20\n",
       "\\item 18.5\n",
       "\\item 21\n",
       "\\item 20\n",
       "\\item 21.5\n",
       "\\item 21.5\n",
       "\\item 21.5\n",
       "\\item 24\n",
       "\\item 22\n",
       "\\item 25.5\n",
       "\\item 18.5\n",
       "\\item 20\n",
       "\\item 22\n",
       "\\item 19.5\n",
       "\\item 27\n",
       "\\item 25\n",
       "\\item 22.5\n",
       "\\item 21\n",
       "\\item 20\n",
       "\\item 22\n",
       "\\item 18.5\n",
       "\\item 22\n",
       "\\item 22.5\n",
       "\\item 23\n",
       "\\item 19.5\n",
       "\\item 24.5\n",
       "\\item 25\n",
       "\\item 19\n",
       "\\item 19.5\n",
       "\\item 20\n",
       "\\item 20.5\n",
       "\\item 23\n",
       "\\item 20\n",
       "\\item 20\n",
       "\\item 24.5\n",
       "\\end{enumerate*}\n"
      ],
      "text/markdown": [
       "1. 15.6\n",
       "2. 11.2\n",
       "3. 18.6\n",
       "4. 16.8\n",
       "5. 21\n",
       "6. 15.2\n",
       "7. 14.6\n",
       "8. 17.6\n",
       "9. 14\n",
       "10. 16\n",
       "11. 18\n",
       "12. 16.8\n",
       "13. 16\n",
       "14. 11.4\n",
       "15. 12\n",
       "16. 17.2\n",
       "17. 20\n",
       "18. 20\n",
       "19. 16.5\n",
       "20. 15.2\n",
       "21. 16\n",
       "22. 18.6\n",
       "23. 16.6\n",
       "24. 17.8\n",
       "25. 20\n",
       "26. 25\n",
       "27. 16.1\n",
       "28. 17\n",
       "29. 19.4\n",
       "30. 16\n",
       "31. 22.5\n",
       "32. 19.1\n",
       "33. 17.2\n",
       "34. 19.5\n",
       "35. 19\n",
       "36. 20.5\n",
       "37. 15.5\n",
       "38. 18\n",
       "39. 15.5\n",
       "40. 13.2\n",
       "41. 16.2\n",
       "42. 18.8\n",
       "43. 15\n",
       "44. 17.5\n",
       "45. 17\n",
       "46. 18.9\n",
       "47. 16\n",
       "48. 16\n",
       "49. 18.8\n",
       "50. 17.4\n",
       "51. 12.4\n",
       "52. 17.2\n",
       "53. 14\n",
       "54. 17.1\n",
       "55. 16.4\n",
       "56. 20.5\n",
       "57. 16.3\n",
       "58. 16.8\n",
       "59. 16.7\n",
       "60. 10.6\n",
       "61. 16\n",
       "62. 16.8\n",
       "63. 18\n",
       "64. 19\n",
       "65. 19\n",
       "66. 18.1\n",
       "67. 15\n",
       "68. 19.6\n",
       "69. 17\n",
       "70. 16.8\n",
       "71. 20.4\n",
       "72. 25\n",
       "73. 24\n",
       "74. 30\n",
       "75. 21\n",
       "76. 16\n",
       "77. 16\n",
       "78. 18\n",
       "79. 14.8\n",
       "80. 23\n",
       "81. 19\n",
       "82. 18.8\n",
       "83. 24\n",
       "84. 22.5\n",
       "85. 18\n",
       "86. 18\n",
       "87. 22.8\n",
       "88. 26\n",
       "89. 21.6\n",
       "90. 23.6\n",
       "91. 18.5\n",
       "92. 22\n",
       "93. 20.7\n",
       "94. 18\n",
       "95. 18\n",
       "96. 19\n",
       "97. 21.5\n",
       "98. 16\n",
       "99. 18.5\n",
       "100. 18\n",
       "101. 17.5\n",
       "102. 18.5\n",
       "103. 21\n",
       "104. 19.5\n",
       "105. 20.5\n",
       "106. 22\n",
       "107. 19\n",
       "108. 22.5\n",
       "109. 19\n",
       "110. 20\n",
       "111. 19.5\n",
       "112. 21\n",
       "113. 20\n",
       "114. 21\n",
       "115. 22.5\n",
       "116. 21.5\n",
       "117. 20.8\n",
       "118. 22.5\n",
       "119. 16\n",
       "120. 19\n",
       "121. 20\n",
       "122. 28.5\n",
       "123. 26.5\n",
       "124. 21.5\n",
       "125. 21\n",
       "126. 21\n",
       "127. 21.5\n",
       "128. 28.5\n",
       "129. 24.5\n",
       "130. 22\n",
       "131. 18\n",
       "132. 20\n",
       "133. 24\n",
       "134. 21.5\n",
       "135. 17.5\n",
       "136. 18.5\n",
       "137. 21\n",
       "138. 25\n",
       "139. 19.5\n",
       "140. 24\n",
       "141. 21\n",
       "142. 20\n",
       "143. 23.5\n",
       "144. 20\n",
       "145. 18.5\n",
       "146. 21\n",
       "147. 20\n",
       "148. 21.5\n",
       "149. 21.5\n",
       "150. 21.5\n",
       "151. 24\n",
       "152. 22\n",
       "153. 25.5\n",
       "154. 18.5\n",
       "155. 20\n",
       "156. 22\n",
       "157. 19.5\n",
       "158. 27\n",
       "159. 25\n",
       "160. 22.5\n",
       "161. 21\n",
       "162. 20\n",
       "163. 22\n",
       "164. 18.5\n",
       "165. 22\n",
       "166. 22.5\n",
       "167. 23\n",
       "168. 19.5\n",
       "169. 24.5\n",
       "170. 25\n",
       "171. 19\n",
       "172. 19.5\n",
       "173. 20\n",
       "174. 20.5\n",
       "175. 23\n",
       "176. 20\n",
       "177. 20\n",
       "178. 24.5\n",
       "\n",
       "\n"
      ],
      "text/plain": [
       "  [1] 15.6 11.2 18.6 16.8 21.0 15.2 14.6 17.6 14.0 16.0 18.0 16.8 16.0 11.4 12.0\n",
       " [16] 17.2 20.0 20.0 16.5 15.2 16.0 18.6 16.6 17.8 20.0 25.0 16.1 17.0 19.4 16.0\n",
       " [31] 22.5 19.1 17.2 19.5 19.0 20.5 15.5 18.0 15.5 13.2 16.2 18.8 15.0 17.5 17.0\n",
       " [46] 18.9 16.0 16.0 18.8 17.4 12.4 17.2 14.0 17.1 16.4 20.5 16.3 16.8 16.7 10.6\n",
       " [61] 16.0 16.8 18.0 19.0 19.0 18.1 15.0 19.6 17.0 16.8 20.4 25.0 24.0 30.0 21.0\n",
       " [76] 16.0 16.0 18.0 14.8 23.0 19.0 18.8 24.0 22.5 18.0 18.0 22.8 26.0 21.6 23.6\n",
       " [91] 18.5 22.0 20.7 18.0 18.0 19.0 21.5 16.0 18.5 18.0 17.5 18.5 21.0 19.5 20.5\n",
       "[106] 22.0 19.0 22.5 19.0 20.0 19.5 21.0 20.0 21.0 22.5 21.5 20.8 22.5 16.0 19.0\n",
       "[121] 20.0 28.5 26.5 21.5 21.0 21.0 21.5 28.5 24.5 22.0 18.0 20.0 24.0 21.5 17.5\n",
       "[136] 18.5 21.0 25.0 19.5 24.0 21.0 20.0 23.5 20.0 18.5 21.0 20.0 21.5 21.5 21.5\n",
       "[151] 24.0 22.0 25.5 18.5 20.0 22.0 19.5 27.0 25.0 22.5 21.0 20.0 22.0 18.5 22.0\n",
       "[166] 22.5 23.0 19.5 24.5 25.0 19.0 19.5 20.0 20.5 23.0 20.0 20.0 24.5"
      ]
     },
     "metadata": {},
     "output_type": "display_data"
    }
   ],
   "source": [
    "t$Alcalinity_of_ash"
   ]
  },
  {
   "cell_type": "markdown",
   "metadata": {
    "deletable": true,
    "editable": true
   },
   "source": [
    "Значения некоторых статистик для каждого признака"
   ]
  },
  {
   "cell_type": "code",
   "execution_count": 62,
   "metadata": {
    "collapsed": false,
    "deletable": true,
    "editable": true
   },
   "outputs": [
    {
     "data": {
      "text/plain": [
       "     Class          Alcohol        Malic_acid         Ash       \n",
       " Min.   :1.000   Min.   :11.03   Min.   :0.740   Min.   :1.360  \n",
       " 1st Qu.:1.000   1st Qu.:12.36   1st Qu.:1.603   1st Qu.:2.210  \n",
       " Median :2.000   Median :13.05   Median :1.865   Median :2.360  \n",
       " Mean   :1.938   Mean   :13.00   Mean   :2.336   Mean   :2.367  \n",
       " 3rd Qu.:3.000   3rd Qu.:13.68   3rd Qu.:3.083   3rd Qu.:2.558  \n",
       " Max.   :3.000   Max.   :14.83   Max.   :5.800   Max.   :3.230  \n",
       " Alcalinity_of_ash   Magnesium      Total_phenols     Flavanoids   \n",
       " Min.   :10.60     Min.   : 70.00   Min.   :0.980   Min.   :0.340  \n",
       " 1st Qu.:17.20     1st Qu.: 88.00   1st Qu.:1.742   1st Qu.:1.205  \n",
       " Median :19.50     Median : 98.00   Median :2.355   Median :2.135  \n",
       " Mean   :19.49     Mean   : 99.74   Mean   :2.295   Mean   :2.029  \n",
       " 3rd Qu.:21.50     3rd Qu.:107.00   3rd Qu.:2.800   3rd Qu.:2.875  \n",
       " Max.   :30.00     Max.   :162.00   Max.   :3.880   Max.   :5.080  \n",
       " Nonflavanoid_phenols Proanthocyanins Color_intensity       Hue        \n",
       " Min.   :0.1300       Min.   :0.410   Min.   : 1.280   Min.   :0.4800  \n",
       " 1st Qu.:0.2700       1st Qu.:1.250   1st Qu.: 3.220   1st Qu.:0.7825  \n",
       " Median :0.3400       Median :1.555   Median : 4.690   Median :0.9650  \n",
       " Mean   :0.3619       Mean   :1.591   Mean   : 5.058   Mean   :0.9574  \n",
       " 3rd Qu.:0.4375       3rd Qu.:1.950   3rd Qu.: 6.200   3rd Qu.:1.1200  \n",
       " Max.   :0.6600       Max.   :3.580   Max.   :13.000   Max.   :1.7100  \n",
       " OD_OD_of_diluted_wines    Proline      \n",
       " Min.   :1.270          Min.   : 278.0  \n",
       " 1st Qu.:1.938          1st Qu.: 500.5  \n",
       " Median :2.780          Median : 673.5  \n",
       " Mean   :2.612          Mean   : 746.9  \n",
       " 3rd Qu.:3.170          3rd Qu.: 985.0  \n",
       " Max.   :4.000          Max.   :1680.0  "
      ]
     },
     "metadata": {},
     "output_type": "display_data"
    }
   ],
   "source": [
    "summary(t)"
   ]
  },
  {
   "cell_type": "code",
   "execution_count": 63,
   "metadata": {
    "collapsed": false,
    "deletable": true,
    "editable": true
   },
   "outputs": [
    {
     "name": "stdout",
     "output_type": "stream",
     "text": [
      "'data.frame':\t178 obs. of  14 variables:\n",
      " $ Class                 : int  1 1 1 1 1 1 1 1 1 1 ...\n",
      " $ Alcohol               : num  14.2 13.2 13.2 14.4 13.2 ...\n",
      " $ Malic_acid            : num  1.71 1.78 2.36 1.95 2.59 1.76 1.87 2.15 1.64 1.35 ...\n",
      " $ Ash                   : num  2.43 2.14 2.67 2.5 2.87 2.45 2.45 2.61 2.17 2.27 ...\n",
      " $ Alcalinity_of_ash     : num  15.6 11.2 18.6 16.8 21 15.2 14.6 17.6 14 16 ...\n",
      " $ Magnesium             : int  127 100 101 113 118 112 96 121 97 98 ...\n",
      " $ Total_phenols         : num  2.8 2.65 2.8 3.85 2.8 3.27 2.5 2.6 2.8 2.98 ...\n",
      " $ Flavanoids            : num  3.06 2.76 3.24 3.49 2.69 3.39 2.52 2.51 2.98 3.15 ...\n",
      " $ Nonflavanoid_phenols  : num  0.28 0.26 0.3 0.24 0.39 0.34 0.3 0.31 0.29 0.22 ...\n",
      " $ Proanthocyanins       : num  2.29 1.28 2.81 2.18 1.82 1.97 1.98 1.25 1.98 1.85 ...\n",
      " $ Color_intensity       : num  5.64 4.38 5.68 7.8 4.32 6.75 5.25 5.05 5.2 7.22 ...\n",
      " $ Hue                   : num  1.04 1.05 1.03 0.86 1.04 1.05 1.02 1.06 1.08 1.01 ...\n",
      " $ OD_OD_of_diluted_wines: num  3.92 3.4 3.17 3.45 2.93 2.85 3.58 3.58 2.85 3.55 ...\n",
      " $ Proline               : int  1065 1050 1185 1480 735 1450 1290 1295 1045 1045 ...\n"
     ]
    }
   ],
   "source": [
    "str(t)"
   ]
  },
  {
   "cell_type": "markdown",
   "metadata": {
    "deletable": true,
    "editable": true
   },
   "source": [
    "Гистограмма"
   ]
  },
  {
   "cell_type": "code",
   "execution_count": 64,
   "metadata": {
    "collapsed": false,
    "deletable": true,
    "editable": true
   },
   "outputs": [
    {
     "data": {
      "image/png": "[encoded data removed]",
      "text/plain": [
       "Plot with title “Histogram of t$Alcalinity_of_ash”"
      ]
     },
     "metadata": {},
     "output_type": "display_data"
    }
   ],
   "source": [
    "hist(t$Alcalinity_of_ash, col = 'green')"
   ]
  },
  {
   "cell_type": "markdown",
   "metadata": {
    "deletable": true,
    "editable": true
   },
   "source": [
    "QQ plot"
   ]
  },
  {
   "cell_type": "code",
   "execution_count": 65,
   "metadata": {
    "collapsed": false,
    "deletable": true,
    "editable": true
   },
   "outputs": [
    {
     "data": {
      "image/png": "[encoded data removed]",
      "text/plain": [
       "Plot with title “Normal Q-Q Plot”"
      ]
     },
     "metadata": {},
     "output_type": "display_data"
    }
   ],
   "source": [
    "qqnorm(t$Alcalinity_of_ash)\n",
    "qqline(t$Alcalinity_of_ash, col = 2)"
   ]
  },
  {
   "cell_type": "markdown",
   "metadata": {
    "deletable": true,
    "editable": true
   },
   "source": [
    "Тест Колмогорова и тест Шапиро-Уилка"
   ]
  },
  {
   "cell_type": "code",
   "execution_count": 66,
   "metadata": {
    "collapsed": false,
    "deletable": true,
    "editable": true
   },
   "outputs": [
    {
     "name": "stderr",
     "output_type": "stream",
     "text": [
      "Warning message in ks.test(t$Alcalinity_of_ash, \"pnorm\", mean(t$Alcalinity_of_ash), :\n",
      "“ties should not be present for the Kolmogorov-Smirnov test”"
     ]
    },
    {
     "data": {
      "text/plain": [
       "\n",
       "\tOne-sample Kolmogorov-Smirnov test\n",
       "\n",
       "data:  t$Alcalinity_of_ash\n",
       "D = 0.063491, p-value = 0.4698\n",
       "alternative hypothesis: two-sided\n"
      ]
     },
     "metadata": {},
     "output_type": "display_data"
    },
    {
     "data": {
      "text/plain": [
       "\n",
       "\tShapiro-Wilk normality test\n",
       "\n",
       "data:  t$Alcalinity_of_ash\n",
       "W = 0.99023, p-value = 0.2639\n"
      ]
     },
     "metadata": {},
     "output_type": "display_data"
    }
   ],
   "source": [
    "ks.test(t$Alcalinity_of_ash, 'pnorm', mean(t$Alcalinity_of_ash), sd(t$Alcalinity_of_ash))\n",
    "shapiro.test(t$Alcalinity_of_ash)"
   ]
  },
  {
   "cell_type": "markdown",
   "metadata": {
    "deletable": true,
    "editable": true
   },
   "source": [
    "График зависимости Alcalinity_of_ash от Flavanoids"
   ]
  },
  {
   "cell_type": "code",
   "execution_count": 67,
   "metadata": {
    "collapsed": false,
    "deletable": true,
    "editable": true
   },
   "outputs": [
    {
     "data": {
      "image/png": "[encoded data removed]",
      "text/plain": [
       "plot without title"
      ]
     },
     "metadata": {},
     "output_type": "display_data"
    }
   ],
   "source": [
    "plot(Alcalinity_of_ash ~ Flavanoids, t)"
   ]
  },
  {
   "cell_type": "markdown",
   "metadata": {
    "deletable": true,
    "editable": true
   },
   "source": [
    "## ANOVA: Датасет PlantGrowth"
   ]
  },
  {
   "cell_type": "code",
   "execution_count": 68,
   "metadata": {
    "collapsed": false,
    "deletable": true,
    "editable": true
   },
   "outputs": [
    {
     "data": {
      "text/html": [
       "<table>\n",
       "<thead><tr><th scope=col>X</th><th scope=col>weight</th><th scope=col>group</th></tr></thead>\n",
       "<tbody>\n",
       "\t<tr><td>1   </td><td>4.17</td><td>ctrl</td></tr>\n",
       "\t<tr><td>2   </td><td>5.58</td><td>ctrl</td></tr>\n",
       "\t<tr><td>3   </td><td>5.18</td><td>ctrl</td></tr>\n",
       "\t<tr><td>4   </td><td>6.11</td><td>ctrl</td></tr>\n",
       "\t<tr><td>5   </td><td>4.50</td><td>ctrl</td></tr>\n",
       "</tbody>\n",
       "</table>\n"
      ],
      "text/latex": [
       "\\begin{tabular}{r|lll}\n",
       " X & weight & group\\\\\n",
       "\\hline\n",
       "\t 1    & 4.17 & ctrl\\\\\n",
       "\t 2    & 5.58 & ctrl\\\\\n",
       "\t 3    & 5.18 & ctrl\\\\\n",
       "\t 4    & 6.11 & ctrl\\\\\n",
       "\t 5    & 4.50 & ctrl\\\\\n",
       "\\end{tabular}\n"
      ],
      "text/markdown": [
       "\n",
       "X | weight | group | \n",
       "|---|---|---|---|---|\n",
       "| 1    | 4.17 | ctrl | \n",
       "| 2    | 5.58 | ctrl | \n",
       "| 3    | 5.18 | ctrl | \n",
       "| 4    | 6.11 | ctrl | \n",
       "| 5    | 4.50 | ctrl | \n",
       "\n",
       "\n"
      ],
      "text/plain": [
       "  X weight group\n",
       "1 1 4.17   ctrl \n",
       "2 2 5.58   ctrl \n",
       "3 3 5.18   ctrl \n",
       "4 4 6.11   ctrl \n",
       "5 5 4.50   ctrl "
      ]
     },
     "metadata": {},
     "output_type": "display_data"
    }
   ],
   "source": [
    "t <- read.table('PlantGrowth.csv', sep = ',', header = TRUE)\n",
    "t[1:5,]"
   ]
  },
  {
   "cell_type": "code",
   "execution_count": 69,
   "metadata": {
    "collapsed": false,
    "deletable": true,
    "editable": true
   },
   "outputs": [
    {
     "data": {
      "image/png": "[encoded data removed]",
      "text/plain": [
       "plot without title"
      ]
     },
     "metadata": {},
     "output_type": "display_data"
    }
   ],
   "source": [
    "boxplot(weight ~ group, t)"
   ]
  },
  {
   "cell_type": "markdown",
   "metadata": {
    "deletable": true,
    "editable": true
   },
   "source": [
    "Сравнение средних двух выборок"
   ]
  },
  {
   "cell_type": "code",
   "execution_count": 78,
   "metadata": {
    "collapsed": false,
    "deletable": true,
    "editable": true
   },
   "outputs": [],
   "source": [
    "sample1 <- subset(t, group == \"ctrl\")$weight\n",
    "sample2 <- subset(t, group == \"trt1\")$weight"
   ]
  },
  {
   "cell_type": "markdown",
   "metadata": {
    "deletable": true,
    "editable": true
   },
   "source": [
    "Проверим на нормальность"
   ]
  },
  {
   "cell_type": "code",
   "execution_count": 81,
   "metadata": {
    "collapsed": false,
    "deletable": true,
    "editable": true
   },
   "outputs": [
    {
     "data": {
      "text/plain": [
       "\n",
       "\tShapiro-Wilk normality test\n",
       "\n",
       "data:  sample1\n",
       "W = 0.95668, p-value = 0.7475\n"
      ]
     },
     "metadata": {},
     "output_type": "display_data"
    },
    {
     "data": {
      "text/plain": [
       "\n",
       "\tShapiro-Wilk normality test\n",
       "\n",
       "data:  sample2\n",
       "W = 0.93041, p-value = 0.4519\n"
      ]
     },
     "metadata": {},
     "output_type": "display_data"
    }
   ],
   "source": [
    "shapiro.test(sample1)\n",
    "shapiro.test(sample2)"
   ]
  },
  {
   "cell_type": "markdown",
   "metadata": {
    "deletable": true,
    "editable": true
   },
   "source": [
    "Нормальность не отвергается, значит можем пользоваться t-тестом"
   ]
  },
  {
   "cell_type": "code",
   "execution_count": 79,
   "metadata": {
    "collapsed": false,
    "deletable": true,
    "editable": true
   },
   "outputs": [
    {
     "data": {
      "text/plain": [
       "\n",
       "\tWelch Two Sample t-test\n",
       "\n",
       "data:  sample1 and sample2\n",
       "t = 1.1913, df = 16.524, p-value = 0.1252\n",
       "alternative hypothesis: true difference in means is greater than 0\n",
       "95 percent confidence interval:\n",
       " -0.1716743        Inf\n",
       "sample estimates:\n",
       "mean of x mean of y \n",
       "    5.032     4.661 \n"
      ]
     },
     "metadata": {},
     "output_type": "display_data"
    }
   ],
   "source": [
    "t.test(sample1, sample2, alternative = \"greater\")"
   ]
  },
  {
   "cell_type": "code",
   "execution_count": 82,
   "metadata": {
    "collapsed": false,
    "deletable": true,
    "editable": true
   },
   "outputs": [
    {
     "data": {
      "text/plain": [
       "\n",
       "\tWelch Two Sample t-test\n",
       "\n",
       "data:  sample1 and sample2\n",
       "t = 1.1913, df = 16.524, p-value = 0.2504\n",
       "alternative hypothesis: true difference in means is not equal to 0\n",
       "95 percent confidence interval:\n",
       " -0.2875162  1.0295162\n",
       "sample estimates:\n",
       "mean of x mean of y \n",
       "    5.032     4.661 \n"
      ]
     },
     "metadata": {},
     "output_type": "display_data"
    }
   ],
   "source": [
    "t.test(sample1, sample2, alternative = \"two.sided\")"
   ]
  },
  {
   "cell_type": "markdown",
   "metadata": {
    "deletable": true,
    "editable": true
   },
   "source": [
    "ANOVA:"
   ]
  },
  {
   "cell_type": "code",
   "execution_count": 73,
   "metadata": {
    "collapsed": false,
    "deletable": true,
    "editable": true
   },
   "outputs": [
    {
     "data": {
      "text/plain": [
       "\n",
       "Call:\n",
       "lm(formula = weight ~ group, data = t)\n",
       "\n",
       "Residuals:\n",
       "    Min      1Q  Median      3Q     Max \n",
       "-1.0710 -0.4180 -0.0060  0.2627  1.3690 \n",
       "\n",
       "Coefficients:\n",
       "            Estimate Std. Error t value Pr(>|t|)    \n",
       "(Intercept)   5.0320     0.1971  25.527   <2e-16 ***\n",
       "grouptrt1    -0.3710     0.2788  -1.331   0.1944    \n",
       "grouptrt2     0.4940     0.2788   1.772   0.0877 .  \n",
       "---\n",
       "Signif. codes:  0 ‘***’ 0.001 ‘**’ 0.01 ‘*’ 0.05 ‘.’ 0.1 ‘ ’ 1\n",
       "\n",
       "Residual standard error: 0.6234 on 27 degrees of freedom\n",
       "Multiple R-squared:  0.2641,\tAdjusted R-squared:  0.2096 \n",
       "F-statistic: 4.846 on 2 and 27 DF,  p-value: 0.01591\n"
      ]
     },
     "metadata": {},
     "output_type": "display_data"
    }
   ],
   "source": [
    "model <- lm(formula = weight ~ group, data = t)\n",
    "summary(model)"
   ]
  },
  {
   "cell_type": "code",
   "execution_count": 83,
   "metadata": {
    "collapsed": false,
    "deletable": true,
    "editable": true
   },
   "outputs": [
    {
     "data": {
      "text/html": [
       "<table>\n",
       "<thead><tr><th></th><th scope=col>Df</th><th scope=col>Sum Sq</th><th scope=col>Mean Sq</th><th scope=col>F value</th><th scope=col>Pr(&gt;F)</th></tr></thead>\n",
       "<tbody>\n",
       "\t<tr><th scope=row>group</th><td> 2        </td><td> 3.76634  </td><td>1.8831700 </td><td>4.846088  </td><td>0.01590996</td></tr>\n",
       "\t<tr><th scope=row>Residuals</th><td>27        </td><td>10.49209  </td><td>0.3885959 </td><td>      NA  </td><td>        NA</td></tr>\n",
       "</tbody>\n",
       "</table>\n"
      ],
      "text/latex": [
       "\\begin{tabular}{r|lllll}\n",
       "  & Df & Sum Sq & Mean Sq & F value & Pr(>F)\\\\\n",
       "\\hline\n",
       "\tgroup &  2         &  3.76634   & 1.8831700  & 4.846088   & 0.01590996\\\\\n",
       "\tResiduals & 27         & 10.49209   & 0.3885959  &       NA   &         NA\\\\\n",
       "\\end{tabular}\n"
      ],
      "text/markdown": [
       "\n",
       "| <!--/--> | Df | Sum Sq | Mean Sq | F value | Pr(>F) | \n",
       "|---|---|\n",
       "| group |  2         |  3.76634   | 1.8831700  | 4.846088   | 0.01590996 | \n",
       "| Residuals | 27         | 10.49209   | 0.3885959  |       NA   |         NA | \n",
       "\n",
       "\n"
      ],
      "text/plain": [
       "          Df Sum Sq   Mean Sq   F value  Pr(>F)    \n",
       "group      2  3.76634 1.8831700 4.846088 0.01590996\n",
       "Residuals 27 10.49209 0.3885959       NA         NA"
      ]
     },
     "metadata": {},
     "output_type": "display_data"
    }
   ],
   "source": [
    "anova(model)"
   ]
  },
  {
   "cell_type": "code",
   "execution_count": 84,
   "metadata": {
    "collapsed": false,
    "deletable": true,
    "editable": true
   },
   "outputs": [
    {
     "data": {
      "text/html": [
       "<table>\n",
       "<thead><tr><th></th><th scope=col>2.5 %</th><th scope=col>97.5 %</th></tr></thead>\n",
       "<tbody>\n",
       "\t<tr><th scope=row>(Intercept)</th><td> 4.62752600</td><td>5.4364740  </td></tr>\n",
       "\t<tr><th scope=row>grouptrt1</th><td>-0.94301261</td><td>0.2010126  </td></tr>\n",
       "\t<tr><th scope=row>grouptrt2</th><td>-0.07801261</td><td>1.0660126  </td></tr>\n",
       "</tbody>\n",
       "</table>\n"
      ],
      "text/latex": [
       "\\begin{tabular}{r|ll}\n",
       "  & 2.5 \\% & 97.5 \\%\\\\\n",
       "\\hline\n",
       "\t(Intercept) &  4.62752600 & 5.4364740  \\\\\n",
       "\tgrouptrt1 & -0.94301261 & 0.2010126  \\\\\n",
       "\tgrouptrt2 & -0.07801261 & 1.0660126  \\\\\n",
       "\\end{tabular}\n"
      ],
      "text/markdown": [
       "\n",
       "| <!--/--> | 2.5 % | 97.5 % | \n",
       "|---|---|---|\n",
       "| (Intercept) |  4.62752600 | 5.4364740   | \n",
       "| grouptrt1 | -0.94301261 | 0.2010126   | \n",
       "| grouptrt2 | -0.07801261 | 1.0660126   | \n",
       "\n",
       "\n"
      ],
      "text/plain": [
       "            2.5 %       97.5 %   \n",
       "(Intercept)  4.62752600 5.4364740\n",
       "grouptrt1   -0.94301261 0.2010126\n",
       "grouptrt2   -0.07801261 1.0660126"
      ]
     },
     "metadata": {},
     "output_type": "display_data"
    }
   ],
   "source": [
    "confint(model)"
   ]
  },
  {
   "cell_type": "markdown",
   "metadata": {
    "deletable": true,
    "editable": true
   },
   "source": [
    "## Регрессия: датасет Yacht Hydrodynamics\n",
    "http://archive.ics.uci.edu/ml/datasets/Yacht+Hydrodynamics#\n",
    "\n",
    "Для парусных яхт нужно предсказать остаточное сопротивление на единицу массы смещения от размеров яхты и ее скорости."
   ]
  },
  {
   "cell_type": "code",
   "execution_count": 154,
   "metadata": {
    "collapsed": false,
    "deletable": true,
    "editable": true
   },
   "outputs": [
    {
     "data": {
      "text/html": [
       "<table>\n",
       "<thead><tr><th scope=col>Longitudinal_position</th><th scope=col>Prismatic_coefficient</th><th scope=col>Length.displacement_ratio</th><th scope=col>Beam.draught_ratio</th><th scope=col>Length.beam_ratio</th><th scope=col>Froude_number</th><th scope=col>Residuary_resistance</th></tr></thead>\n",
       "<tbody>\n",
       "\t<tr><td>-2.3 </td><td>0.568</td><td>4.78 </td><td>3.99 </td><td>3.17 </td><td>0.125</td><td>0.11 </td></tr>\n",
       "\t<tr><td>-2.3 </td><td>0.568</td><td>4.78 </td><td>3.99 </td><td>3.17 </td><td>0.150</td><td>0.27 </td></tr>\n",
       "\t<tr><td>-2.3 </td><td>0.568</td><td>4.78 </td><td>3.99 </td><td>3.17 </td><td>0.175</td><td>0.47 </td></tr>\n",
       "\t<tr><td>-2.3 </td><td>0.568</td><td>4.78 </td><td>3.99 </td><td>3.17 </td><td>0.200</td><td>0.78 </td></tr>\n",
       "\t<tr><td>-2.3 </td><td>0.568</td><td>4.78 </td><td>3.99 </td><td>3.17 </td><td>0.225</td><td>1.18 </td></tr>\n",
       "</tbody>\n",
       "</table>\n"
      ],
      "text/latex": [
       "\\begin{tabular}{r|lllllll}\n",
       " Longitudinal\\_position & Prismatic\\_coefficient & Length.displacement\\_ratio & Beam.draught\\_ratio & Length.beam\\_ratio & Froude\\_number & Residuary\\_resistance\\\\\n",
       "\\hline\n",
       "\t -2.3  & 0.568 & 4.78  & 3.99  & 3.17  & 0.125 & 0.11 \\\\\n",
       "\t -2.3  & 0.568 & 4.78  & 3.99  & 3.17  & 0.150 & 0.27 \\\\\n",
       "\t -2.3  & 0.568 & 4.78  & 3.99  & 3.17  & 0.175 & 0.47 \\\\\n",
       "\t -2.3  & 0.568 & 4.78  & 3.99  & 3.17  & 0.200 & 0.78 \\\\\n",
       "\t -2.3  & 0.568 & 4.78  & 3.99  & 3.17  & 0.225 & 1.18 \\\\\n",
       "\\end{tabular}\n"
      ],
      "text/markdown": [
       "\n",
       "Longitudinal_position | Prismatic_coefficient | Length.displacement_ratio | Beam.draught_ratio | Length.beam_ratio | Froude_number | Residuary_resistance | \n",
       "|---|---|---|---|---|\n",
       "| -2.3  | 0.568 | 4.78  | 3.99  | 3.17  | 0.125 | 0.11  | \n",
       "| -2.3  | 0.568 | 4.78  | 3.99  | 3.17  | 0.150 | 0.27  | \n",
       "| -2.3  | 0.568 | 4.78  | 3.99  | 3.17  | 0.175 | 0.47  | \n",
       "| -2.3  | 0.568 | 4.78  | 3.99  | 3.17  | 0.200 | 0.78  | \n",
       "| -2.3  | 0.568 | 4.78  | 3.99  | 3.17  | 0.225 | 1.18  | \n",
       "\n",
       "\n"
      ],
      "text/plain": [
       "  Longitudinal_position Prismatic_coefficient Length.displacement_ratio\n",
       "1 -2.3                  0.568                 4.78                     \n",
       "2 -2.3                  0.568                 4.78                     \n",
       "3 -2.3                  0.568                 4.78                     \n",
       "4 -2.3                  0.568                 4.78                     \n",
       "5 -2.3                  0.568                 4.78                     \n",
       "  Beam.draught_ratio Length.beam_ratio Froude_number Residuary_resistance\n",
       "1 3.99               3.17              0.125         0.11                \n",
       "2 3.99               3.17              0.150         0.27                \n",
       "3 3.99               3.17              0.175         0.47                \n",
       "4 3.99               3.17              0.200         0.78                \n",
       "5 3.99               3.17              0.225         1.18                "
      ]
     },
     "metadata": {},
     "output_type": "display_data"
    }
   ],
   "source": [
    "t <- read.table('yacht_hydrodynamics.data', sep = ',', header = TRUE)\n",
    "t[1:5,]"
   ]
  },
  {
   "cell_type": "markdown",
   "metadata": {
    "deletable": true,
    "editable": true
   },
   "source": [
    "Разделение выборки на обучающую и тестовую"
   ]
  },
  {
   "cell_type": "code",
   "execution_count": 156,
   "metadata": {
    "collapsed": false,
    "deletable": true,
    "editable": true
   },
   "outputs": [],
   "source": [
    "# install.packages('caret')\n",
    "library(caret)\n",
    "\n",
    "a <- createDataPartition(t$Residuary_resistance, p = 0.7, list=FALSE)\n",
    "train <- t[a,]\n",
    "test <- t[-a,]"
   ]
  },
  {
   "cell_type": "markdown",
   "metadata": {
    "deletable": true,
    "editable": true
   },
   "source": [
    "Обучаем на train модель вида $Residuary\\_resistance = \\theta_1 + \\theta_2 \\cdot Froude\\_number$"
   ]
  },
  {
   "cell_type": "code",
   "execution_count": 157,
   "metadata": {
    "collapsed": false,
    "deletable": true,
    "editable": true
   },
   "outputs": [
    {
     "data": {
      "text/plain": [
       "\n",
       "Call:\n",
       "lm(formula = Residuary_resistance ~ Froude_number, data = train)\n",
       "\n",
       "Coefficients:\n",
       "  (Intercept)  Froude_number  \n",
       "       -24.91         123.68  \n"
      ]
     },
     "metadata": {},
     "output_type": "display_data"
    }
   ],
   "source": [
    "model <- lm(formula = Residuary_resistance ~ Froude_number, data = train)\n",
    "model"
   ]
  },
  {
   "cell_type": "markdown",
   "metadata": {
    "deletable": true,
    "editable": true
   },
   "source": [
    "Некоторая информация о модели. Оба признака значимы, поскольку pvalue мало. То есть отвергаются гипотезы $\\theta_1 = 0$ и $\\theta_2 = 0$."
   ]
  },
  {
   "cell_type": "code",
   "execution_count": 158,
   "metadata": {
    "collapsed": false,
    "deletable": true,
    "editable": true
   },
   "outputs": [
    {
     "data": {
      "text/plain": [
       "\n",
       "Call:\n",
       "lm(formula = Residuary_resistance ~ Froude_number, data = train)\n",
       "\n",
       "Residuals:\n",
       "    Min      1Q  Median      3Q     Max \n",
       "-11.516  -7.844  -1.751   6.533  31.675 \n",
       "\n",
       "Coefficients:\n",
       "              Estimate Std. Error t value Pr(>|t|)    \n",
       "(Intercept)    -24.913      1.871  -13.31   <2e-16 ***\n",
       "Froude_number  123.684      6.157   20.09   <2e-16 ***\n",
       "---\n",
       "Signif. codes:  0 ‘***’ 0.001 ‘**’ 0.01 ‘*’ 0.05 ‘.’ 0.1 ‘ ’ 1\n",
       "\n",
       "Residual standard error: 9.124 on 214 degrees of freedom\n",
       "Multiple R-squared:  0.6535,\tAdjusted R-squared:  0.6519 \n",
       "F-statistic: 403.6 on 1 and 214 DF,  p-value: < 2.2e-16\n"
      ]
     },
     "metadata": {},
     "output_type": "display_data"
    }
   ],
   "source": [
    "summary(model)"
   ]
  },
  {
   "cell_type": "markdown",
   "metadata": {
    "deletable": true,
    "editable": true
   },
   "source": [
    "Оценки параметров линейной регрессии"
   ]
  },
  {
   "cell_type": "code",
   "execution_count": 171,
   "metadata": {
    "collapsed": false,
    "deletable": true,
    "editable": true
   },
   "outputs": [
    {
     "data": {
      "text/html": [
       "<dl class=dl-horizontal>\n",
       "\t<dt>(Intercept)</dt>\n",
       "\t\t<dd>-24.9132096050595</dd>\n",
       "\t<dt>Froude_number</dt>\n",
       "\t\t<dd>123.684025429033</dd>\n",
       "</dl>\n"
      ],
      "text/latex": [
       "\\begin{description*}\n",
       "\\item[(Intercept)] -24.9132096050595\n",
       "\\item[Froude\\textbackslash{}\\_number] 123.684025429033\n",
       "\\end{description*}\n"
      ],
      "text/markdown": [
       "(Intercept)\n",
       ":   -24.9132096050595Froude_number\n",
       ":   123.684025429033\n",
       "\n"
      ],
      "text/plain": [
       "  (Intercept) Froude_number \n",
       "    -24.91321     123.68403 "
      ]
     },
     "metadata": {},
     "output_type": "display_data"
    },
    {
     "data": {
      "text/html": [
       "<strong>(Intercept):</strong> -24.9132096050595"
      ],
      "text/latex": [
       "\\textbf{(Intercept):} -24.9132096050595"
      ],
      "text/markdown": [
       "**(Intercept):** -24.9132096050595"
      ],
      "text/plain": [
       "(Intercept) \n",
       "  -24.91321 "
      ]
     },
     "metadata": {},
     "output_type": "display_data"
    }
   ],
   "source": [
    "model$coefficients\n",
    "model$coefficients[1]"
   ]
  },
  {
   "cell_type": "markdown",
   "metadata": {
    "deletable": true,
    "editable": true
   },
   "source": [
    "Предсказание значений на новых объектах вместе с доверительным интервалом"
   ]
  },
  {
   "cell_type": "code",
   "execution_count": 162,
   "metadata": {
    "collapsed": false,
    "deletable": true,
    "editable": true,
    "scrolled": true
   },
   "outputs": [
    {
     "data": {
      "text/html": [
       "<table>\n",
       "<thead><tr><th></th><th scope=col>fit</th><th scope=col>lwr</th><th scope=col>upr</th></tr></thead>\n",
       "<tbody>\n",
       "\t<tr><th scope=row>1</th><td>-9.4527064</td><td>-11.76514 </td><td>-7.140269 </td></tr>\n",
       "\t<tr><th scope=row>4</th><td>-0.1764045</td><td> -1.79010 </td><td> 1.437291 </td></tr>\n",
       "\t<tr><th scope=row>11</th><td>21.4682999</td><td> 19.84172 </td><td>23.094883 </td></tr>\n",
       "\t<tr><th scope=row>14</th><td>30.7446018</td><td> 28.41546 </td><td>33.073748 </td></tr>\n",
       "\t<tr><th scope=row>23</th><td>15.2840987</td><td> 13.97512 </td><td>16.593077 </td></tr>\n",
       "</tbody>\n",
       "</table>\n"
      ],
      "text/latex": [
       "\\begin{tabular}{r|lll}\n",
       "  & fit & lwr & upr\\\\\n",
       "\\hline\n",
       "\t1 & -9.4527064 & -11.76514  & -7.140269 \\\\\n",
       "\t4 & -0.1764045 &  -1.79010  &  1.437291 \\\\\n",
       "\t11 & 21.4682999 &  19.84172  & 23.094883 \\\\\n",
       "\t14 & 30.7446018 &  28.41546  & 33.073748 \\\\\n",
       "\t23 & 15.2840987 &  13.97512  & 16.593077 \\\\\n",
       "\\end{tabular}\n"
      ],
      "text/markdown": [
       "\n",
       "| <!--/--> | fit | lwr | upr | \n",
       "|---|---|---|---|---|\n",
       "| 1 | -9.4527064 | -11.76514  | -7.140269  | \n",
       "| 4 | -0.1764045 |  -1.79010  |  1.437291  | \n",
       "| 11 | 21.4682999 |  19.84172  | 23.094883  | \n",
       "| 14 | 30.7446018 |  28.41546  | 33.073748  | \n",
       "| 23 | 15.2840987 |  13.97512  | 16.593077  | \n",
       "\n",
       "\n"
      ],
      "text/plain": [
       "   fit        lwr       upr      \n",
       "1  -9.4527064 -11.76514 -7.140269\n",
       "4  -0.1764045  -1.79010  1.437291\n",
       "11 21.4682999  19.84172 23.094883\n",
       "14 30.7446018  28.41546 33.073748\n",
       "23 15.2840987  13.97512 16.593077"
      ]
     },
     "metadata": {},
     "output_type": "display_data"
    }
   ],
   "source": [
    "predicted <- predict(model, test, level = 0.95, interval = 'confidence')\n",
    "predicted[1:5,]"
   ]
  },
  {
   "cell_type": "markdown",
   "metadata": {
    "deletable": true,
    "editable": true
   },
   "source": [
    "MSE"
   ]
  },
  {
   "cell_type": "code",
   "execution_count": 164,
   "metadata": {
    "collapsed": false,
    "deletable": true,
    "editable": true
   },
   "outputs": [
    {
     "data": {
      "text/html": [
       "70.2344743505149"
      ],
      "text/latex": [
       "70.2344743505149"
      ],
      "text/markdown": [
       "70.2344743505149"
      ],
      "text/plain": [
       "[1] 70.23447"
      ]
     },
     "metadata": {},
     "output_type": "display_data"
    }
   ],
   "source": [
    "mean((predicted[,1] - test$Residuary_resistance) ^ 2)"
   ]
  },
  {
   "cell_type": "markdown",
   "metadata": {
    "deletable": true,
    "editable": true
   },
   "source": [
    "Посмотрим на график предсказания"
   ]
  },
  {
   "cell_type": "code",
   "execution_count": 176,
   "metadata": {
    "collapsed": false,
    "deletable": true,
    "editable": true
   },
   "outputs": [
    {
     "data": {
      "image/png": "[encoded data removed]",
      "text/plain": [
       "plot without title"
      ]
     },
     "metadata": {},
     "output_type": "display_data"
    }
   ],
   "source": [
    "plot(t$Residuary_resistance ~ t$Froude_number)\n",
    "x <- seq(from = 0, to = 0.5, by = 0.1)\n",
    "lines(x, model$coefficients[1] + model$coefficients[2] * x, col = \"red\", lwd = 2)"
   ]
  },
  {
   "cell_type": "markdown",
   "metadata": {
    "deletable": true,
    "editable": true
   },
   "source": [
    "Обучаем на train модель вида $Residuary\\_resistance = \\theta_1 + \\theta_2 \\cdot Froude\\_number + \\theta_3 \\cdot Froude\\_number^2 + \\theta_4 \\cdot Froude\\_number^3$"
   ]
  },
  {
   "cell_type": "code",
   "execution_count": 197,
   "metadata": {
    "collapsed": false,
    "deletable": true,
    "editable": true
   },
   "outputs": [
    {
     "data": {
      "text/html": [
       "<dl class=dl-horizontal>\n",
       "\t<dt>(Intercept)</dt>\n",
       "\t\t<dd>-48.9341801992197</dd>\n",
       "\t<dt>Froude_number</dt>\n",
       "\t\t<dd>705.228590673533</dd>\n",
       "\t<dt>I(Froude_number^2)</dt>\n",
       "\t\t<dd>-3197.40186634877</dd>\n",
       "\t<dt>I(Froude_number^3)</dt>\n",
       "\t\t<dd>4720.87507781091</dd>\n",
       "</dl>\n"
      ],
      "text/latex": [
       "\\begin{description*}\n",
       "\\item[(Intercept)] -48.9341801992197\n",
       "\\item[Froude\\textbackslash{}\\_number] 705.228590673533\n",
       "\\item[I(Froude\\textbackslash{}\\_number\\textbackslash{}textasciicircum\\{\\}2)] -3197.40186634877\n",
       "\\item[I(Froude\\textbackslash{}\\_number\\textbackslash{}textasciicircum\\{\\}3)] 4720.87507781091\n",
       "\\end{description*}\n"
      ],
      "text/markdown": [
       "(Intercept)\n",
       ":   -48.9341801992197Froude_number\n",
       ":   705.228590673533I(Froude_number^2)\n",
       ":   -3197.40186634877I(Froude_number^3)\n",
       ":   4720.87507781091\n",
       "\n"
      ],
      "text/plain": [
       "       (Intercept)      Froude_number I(Froude_number^2) I(Froude_number^3) \n",
       "         -48.93418          705.22859        -3197.40187         4720.87508 "
      ]
     },
     "metadata": {},
     "output_type": "display_data"
    },
    {
     "data": {
      "text/plain": [
       "\n",
       "Call:\n",
       "lm(formula = Residuary_resistance ~ Froude_number + I(Froude_number^2) + \n",
       "    I(Froude_number^3), data = train)\n",
       "\n",
       "Residuals:\n",
       "    Min      1Q  Median      3Q     Max \n",
       "-5.5682 -1.0865 -0.3175  1.2238 11.2855 \n",
       "\n",
       "Coefficients:\n",
       "                    Estimate Std. Error t value Pr(>|t|)    \n",
       "(Intercept)          -48.934      3.398  -14.40   <2e-16 ***\n",
       "Froude_number        705.229     40.449   17.43   <2e-16 ***\n",
       "I(Froude_number^2) -3197.402    148.546  -21.52   <2e-16 ***\n",
       "I(Froude_number^3)  4720.875    170.753   27.65   <2e-16 ***\n",
       "---\n",
       "Signif. codes:  0 ‘***’ 0.001 ‘**’ 0.01 ‘*’ 0.05 ‘.’ 0.1 ‘ ’ 1\n",
       "\n",
       "Residual standard error: 1.959 on 212 degrees of freedom\n",
       "Multiple R-squared:  0.9842,\tAdjusted R-squared:  0.984 \n",
       "F-statistic:  4396 on 3 and 212 DF,  p-value: < 2.2e-16\n"
      ]
     },
     "metadata": {},
     "output_type": "display_data"
    }
   ],
   "source": [
    "model <- lm(formula = Residuary_resistance ~ Froude_number + I(Froude_number^2) + I(Froude_number^3), \n",
    "            data = train)\n",
    "model$coefficients\n",
    "summary(model)"
   ]
  },
  {
   "cell_type": "markdown",
   "metadata": {
    "deletable": true,
    "editable": true
   },
   "source": [
    "Значение MSE куда лучше"
   ]
  },
  {
   "cell_type": "code",
   "execution_count": 202,
   "metadata": {
    "collapsed": false,
    "deletable": true,
    "editable": true
   },
   "outputs": [
    {
     "data": {
      "text/html": [
       "3.8718058795781"
      ],
      "text/latex": [
       "3.8718058795781"
      ],
      "text/markdown": [
       "3.8718058795781"
      ],
      "text/plain": [
       "[1] 3.871806"
      ]
     },
     "metadata": {},
     "output_type": "display_data"
    }
   ],
   "source": [
    "predicted <- predict(model, test)\n",
    "mean((predicted - test$Residuary_resistance) ^ 2)"
   ]
  },
  {
   "cell_type": "markdown",
   "metadata": {
    "deletable": true,
    "editable": true
   },
   "source": [
    "Посмотрим на график"
   ]
  },
  {
   "cell_type": "code",
   "execution_count": 199,
   "metadata": {
    "collapsed": false,
    "deletable": true,
    "editable": true
   },
   "outputs": [
    {
     "data": {
      "image/png": "[encoded data removed]",
      "text/plain": [
       "plot without title"
      ]
     },
     "metadata": {},
     "output_type": "display_data"
    }
   ],
   "source": [
    "plot(t$Residuary_resistance ~ t$Froude_number)\n",
    "x <- seq(from = 0, to = 0.5, by = 0.01)\n",
    "lines(x, \n",
    "      model$coefficients[1] + model$coefficients[2] * x + model$coefficients[3] * x^2 + model$coefficients[4] * x^3, \n",
    "      col = \"red\", lwd = 2)"
   ]
  },
  {
   "cell_type": "markdown",
   "metadata": {
    "deletable": true,
    "editable": true
   },
   "source": [
    "Обучим регрессию на всех фичах. Как видим, все остальные фичи незначимы - pvalue мало."
   ]
  },
  {
   "cell_type": "code",
   "execution_count": 207,
   "metadata": {
    "collapsed": false,
    "deletable": true,
    "editable": true
   },
   "outputs": [
    {
     "data": {
      "text/html": [
       "<dl class=dl-horizontal>\n",
       "\t<dt>(Intercept)</dt>\n",
       "\t\t<dd>-43.9067909477935</dd>\n",
       "\t<dt>Froude_number</dt>\n",
       "\t\t<dd>707.449002806282</dd>\n",
       "\t<dt>I(Froude_number^2)</dt>\n",
       "\t\t<dd>-3206.19195399138</dd>\n",
       "\t<dt>I(Froude_number^3)</dt>\n",
       "\t\t<dd>4731.2798976052</dd>\n",
       "\t<dt>Longitudinal_position</dt>\n",
       "\t\t<dd>0.165424980229636</dd>\n",
       "\t<dt>Prismatic_coefficient</dt>\n",
       "\t\t<dd>-5.20276019900641</dd>\n",
       "\t<dt>Length.displacement_ratio</dt>\n",
       "\t\t<dd>4.46299751291736</dd>\n",
       "\t<dt>Beam.draught_ratio</dt>\n",
       "\t\t<dd>-1.97136338219543</dd>\n",
       "\t<dt>Length.beam_ratio</dt>\n",
       "\t\t<dd>-4.82527180556751</dd>\n",
       "</dl>\n"
      ],
      "text/latex": [
       "\\begin{description*}\n",
       "\\item[(Intercept)] -43.9067909477935\n",
       "\\item[Froude\\textbackslash{}\\_number] 707.449002806282\n",
       "\\item[I(Froude\\textbackslash{}\\_number\\textbackslash{}textasciicircum\\{\\}2)] -3206.19195399138\n",
       "\\item[I(Froude\\textbackslash{}\\_number\\textbackslash{}textasciicircum\\{\\}3)] 4731.2798976052\n",
       "\\item[Longitudinal\\textbackslash{}\\_position] 0.165424980229636\n",
       "\\item[Prismatic\\textbackslash{}\\_coefficient] -5.20276019900641\n",
       "\\item[Length.displacement\\textbackslash{}\\_ratio] 4.46299751291736\n",
       "\\item[Beam.draught\\textbackslash{}\\_ratio] -1.97136338219543\n",
       "\\item[Length.beam\\textbackslash{}\\_ratio] -4.82527180556751\n",
       "\\end{description*}\n"
      ],
      "text/markdown": [
       "(Intercept)\n",
       ":   -43.9067909477935Froude_number\n",
       ":   707.449002806282I(Froude_number^2)\n",
       ":   -3206.19195399138I(Froude_number^3)\n",
       ":   4731.2798976052Longitudinal_position\n",
       ":   0.165424980229636Prismatic_coefficient\n",
       ":   -5.20276019900641Length.displacement_ratio\n",
       ":   4.46299751291736Beam.draught_ratio\n",
       ":   -1.97136338219543Length.beam_ratio\n",
       ":   -4.82527180556751\n",
       "\n"
      ],
      "text/plain": [
       "              (Intercept)             Froude_number        I(Froude_number^2) \n",
       "               -43.906791                707.449003              -3206.191954 \n",
       "       I(Froude_number^3)     Longitudinal_position     Prismatic_coefficient \n",
       "              4731.279898                  0.165425                 -5.202760 \n",
       "Length.displacement_ratio        Beam.draught_ratio         Length.beam_ratio \n",
       "                 4.462998                 -1.971363                 -4.825272 "
      ]
     },
     "metadata": {},
     "output_type": "display_data"
    },
    {
     "data": {
      "text/plain": [
       "\n",
       "Call:\n",
       "lm(formula = Residuary_resistance ~ Froude_number + I(Froude_number^2) + \n",
       "    I(Froude_number^3) + Longitudinal_position + Prismatic_coefficient + \n",
       "    Length.displacement_ratio + Beam.draught_ratio + Length.beam_ratio, \n",
       "    data = train)\n",
       "\n",
       "Residuals:\n",
       "    Min      1Q  Median      3Q     Max \n",
       "-5.0528 -1.1204 -0.2123  1.0018 10.5984 \n",
       "\n",
       "Coefficients:\n",
       "                            Estimate Std. Error t value Pr(>|t|)    \n",
       "(Intercept)               -4.391e+01  7.527e+00  -5.833 2.07e-08 ***\n",
       "Froude_number              7.074e+02  3.935e+01  17.980  < 2e-16 ***\n",
       "I(Froude_number^2)        -3.206e+03  1.445e+02 -22.181  < 2e-16 ***\n",
       "I(Froude_number^3)         4.731e+03  1.662e+02  28.465  < 2e-16 ***\n",
       "Longitudinal_position      1.654e-01  8.595e-02   1.925   0.0557 .  \n",
       "Prismatic_coefficient     -5.203e+00  1.114e+01  -0.467   0.6409    \n",
       "Length.displacement_ratio  4.463e+00  3.538e+00   1.261   0.2086    \n",
       "Beam.draught_ratio        -1.971e+00  1.395e+00  -1.413   0.1592    \n",
       "Length.beam_ratio         -4.825e+00  3.515e+00  -1.373   0.1713    \n",
       "---\n",
       "Signif. codes:  0 ‘***’ 0.001 ‘**’ 0.01 ‘*’ 0.05 ‘.’ 0.1 ‘ ’ 1\n",
       "\n",
       "Residual standard error: 1.903 on 207 degrees of freedom\n",
       "Multiple R-squared:  0.9854,\tAdjusted R-squared:  0.9849 \n",
       "F-statistic:  1749 on 8 and 207 DF,  p-value: < 2.2e-16\n"
      ]
     },
     "metadata": {},
     "output_type": "display_data"
    }
   ],
   "source": [
    "model <- lm(formula = Residuary_resistance ~ Froude_number + I(Froude_number^2) + I(Froude_number^3) \n",
    "            + Longitudinal_position + Prismatic_coefficient + Length.displacement_ratio\n",
    "            + Beam.draught_ratio + Length.beam_ratio, \n",
    "            data = train)\n",
    "model$coefficients\n",
    "summary(model)"
   ]
  },
  {
   "cell_type": "markdown",
   "metadata": {
    "deletable": true,
    "editable": true
   },
   "source": [
    "MSE такое же"
   ]
  },
  {
   "cell_type": "code",
   "execution_count": 208,
   "metadata": {
    "collapsed": false,
    "deletable": true,
    "editable": true
   },
   "outputs": [
    {
     "data": {
      "text/html": [
       "3.56851645909375"
      ],
      "text/latex": [
       "3.56851645909375"
      ],
      "text/markdown": [
       "3.56851645909375"
      ],
      "text/plain": [
       "[1] 3.568516"
      ]
     },
     "metadata": {},
     "output_type": "display_data"
    }
   ],
   "source": [
    "predicted <- predict(model, test)\n",
    "mean((predicted - test$Residuary_resistance) ^ 2)"
   ]
  },
  {
   "cell_type": "markdown",
   "metadata": {
    "deletable": true,
    "editable": true
   },
   "source": [
    "Процедура отбора фичей из библиотеки\n",
    "https://cran.r-project.org/web/packages/bestglm/bestglm.pdf"
   ]
  },
  {
   "cell_type": "code",
   "execution_count": 222,
   "metadata": {
    "collapsed": false,
    "deletable": true,
    "editable": true
   },
   "outputs": [
    {
     "data": {
      "text/plain": [
       "BIC\n",
       "BICq equivalent for q in (0, 0.924068917556141)\n",
       "Best Model:\n",
       "               Estimate Std. Error   t value     Pr(>|t|)\n",
       "(Intercept)   -24.48407   1.533574 -15.96537 3.673160e-42\n",
       "Froude_number 121.66757   5.033863  24.16982 6.233076e-73"
      ]
     },
     "metadata": {},
     "output_type": "display_data"
    }
   ],
   "source": [
    "# install.packages('bestglm')\n",
    "library('bestglm')\n",
    "\n",
    "bestglm(t, family = gaussian, IC = \"BIC\")"
   ]
  },
  {
   "cell_type": "markdown",
   "metadata": {
    "deletable": true,
    "editable": true
   },
   "source": [
    "### Задание\n",
    "\n",
    "*ШАД, курс \"Методы статистики в машинном обучении\"*\n",
    "\n",
    "Скачать данные о пробеге автомобиля (в милях) на единицу расхода горючего\n",
    "http://lib.stat.cmu.edu/DASL/Datafiles/carmpgdat.html\n",
    "\n",
    "* Подогнать простую линейную регрессию к данным, чтобы предсказать значение переменной MPG (miles per gallon) от значений переменной HP (horsepower). Проанализовать полученные\n",
    "результаты, снабдив их графиком, на котором изображена выборка и оцененная регрессионная зависимость\n",
    "\n",
    "* Повторить эксперимент из предыдущего пункта, но при этом использовать log (MPG) в качестве отклика регрессии. Сравнить\n",
    "качество подгонки полученной зависимости с качеством подгонки\n",
    "зависимости из предыдущего пункта (по сумме квадратов остатков подгонки исходных значений MPG).\n",
    "\n",
    "* Подогнать к данным множественную линейную регрессию, чтобы\n",
    "предсказать значение переменной MPG от всех остальных переменных. Проанализовать полученные результаты.\n",
    "\n",
    "* Сформировать всевозможные комбинации регрессоров, подсчитать для каждого из них регрессию и вычислить значения коэффициентов AIC и BIC."
   ]
  }
 ],
 "metadata": {
  "kernelspec": {
   "display_name": "R",
   "language": "R",
   "name": "ir"
  },
  "language_info": {
   "codemirror_mode": "r",
   "file_extension": ".r",
   "mimetype": "text/x-r-source",
   "name": "R",
   "pygments_lexer": "r",
   "version": "3.3.3"
  }
 },
 "nbformat": 4,
 "nbformat_minor": 0
}
