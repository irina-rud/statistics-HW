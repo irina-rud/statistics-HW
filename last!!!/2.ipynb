{
 "cells": [
  {
   "cell_type": "markdown",
   "metadata": {},
   "source": [
    "Пусть $\\{ p_{\\theta}(x)\\}_{\\theta \\in \\Theta}$ - параметрическое семейство вероятностных плотностей. Доказать, что для расстояния Хеллингера $H(p_{\\theta_1}, p_{\\theta_2}) $выполнено следующее соотношение:\n",
    "\n",
    "\n",
    "$\\lim_{\\theta_1, \\theta_2 \\to \\theta}{\\inf{\\frac{H(p_{\\theta_1}, p_{\\theta_2})}{(\\theta_1, \\theta_2)^2}}} = \\frac{I(\\theta)}{4}$"
   ]
  },
  {
   "cell_type": "code",
   "execution_count": null,
   "metadata": {
    "collapsed": true
   },
   "outputs": [],
   "source": []
  }
 ],
 "metadata": {
  "kernelspec": {
   "display_name": "Python 3",
   "language": "python",
   "name": "python3"
  },
  "language_info": {
   "codemirror_mode": {
    "name": "ipython",
    "version": 3
   },
   "file_extension": ".py",
   "mimetype": "text/x-python",
   "name": "python",
   "nbconvert_exporter": "python",
   "pygments_lexer": "ipython3",
   "version": "3.5.2+"
  }
 },
 "nbformat": 4,
 "nbformat_minor": 2
}
